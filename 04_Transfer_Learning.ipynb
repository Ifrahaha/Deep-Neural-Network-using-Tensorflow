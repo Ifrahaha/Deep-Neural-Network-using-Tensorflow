{
  "nbformat": 4,
  "nbformat_minor": 0,
  "metadata": {
    "colab": {
      "name": "04-Transfer_Learning.ipynb",
      "provenance": [],
      "authorship_tag": "ABX9TyMNIFq63PCSsXeJ+untVj8u",
      "include_colab_link": true
    },
    "kernelspec": {
      "name": "python3",
      "display_name": "Python 3"
    },
    "language_info": {
      "name": "python"
    },
    "accelerator": "GPU"
  },
  "cells": [
    {
      "cell_type": "markdown",
      "metadata": {
        "id": "view-in-github",
        "colab_type": "text"
      },
      "source": [
        "<a href=\"https://colab.research.google.com/github/Ifrahaha/Deep-Neural-Network-using-Tensorflow/blob/main/04_Transfer_Learning.ipynb\" target=\"_parent\"><img src=\"https://colab.research.google.com/assets/colab-badge.svg\" alt=\"Open In Colab\"/></a>"
      ]
    },
    {
      "cell_type": "code",
      "metadata": {
        "colab": {
          "base_uri": "https://localhost:8080/"
        },
        "id": "mOWv1iFNnC9i",
        "outputId": "c4d62180-f2c9-4f6c-bae4-ce98ae938c19"
      },
      "source": [
        "import zipfile\n",
        "\n",
        "!wget https://storage.googleapis.com/ztm_tf_course/food_vision/10_food_classes_10_percent.zip\n",
        "\n",
        "zip_ref = zipfile.ZipFile(\"10_food_classes_10_percent.zip\")\n",
        "zip_ref.extractall()\n",
        "zip_ref.close()"
      ],
      "execution_count": 1,
      "outputs": [
        {
          "output_type": "stream",
          "text": [
            "--2021-07-12 07:32:58--  https://storage.googleapis.com/ztm_tf_course/food_vision/10_food_classes_10_percent.zip\n",
            "Resolving storage.googleapis.com (storage.googleapis.com)... 66.102.1.128, 142.250.110.128, 142.251.5.128, ...\n",
            "Connecting to storage.googleapis.com (storage.googleapis.com)|66.102.1.128|:443... connected.\n",
            "HTTP request sent, awaiting response... 200 OK\n",
            "Length: 168546183 (161M) [application/zip]\n",
            "Saving to: ‘10_food_classes_10_percent.zip’\n",
            "\n",
            "10_food_classes_10_ 100%[===================>] 160.74M  45.2MB/s    in 3.6s    \n",
            "\n",
            "2021-07-12 07:33:02 (45.2 MB/s) - ‘10_food_classes_10_percent.zip’ saved [168546183/168546183]\n",
            "\n"
          ],
          "name": "stdout"
        }
      ]
    },
    {
      "cell_type": "code",
      "metadata": {
        "colab": {
          "base_uri": "https://localhost:8080/"
        },
        "id": "L1TXtkDCogpJ",
        "outputId": "88703988-f1a3-49ea-b33c-484c7b5faa59"
      },
      "source": [
        "import os \n",
        "for dirpath , dirnames , filenames in os.walk(\"10_food_classes_10_percent\"):\n",
        "  print(f\"there are {len(dirnames)} directories and {len(filenames )} images in {dirpath}\")"
      ],
      "execution_count": 3,
      "outputs": [
        {
          "output_type": "stream",
          "text": [
            "there are 2 directories and 0 images in 10_food_classes_10_percent\n",
            "there are 10 directories and 0 images in 10_food_classes_10_percent/test\n",
            "there are 0 directories and 250 images in 10_food_classes_10_percent/test/ramen\n",
            "there are 0 directories and 250 images in 10_food_classes_10_percent/test/sushi\n",
            "there are 0 directories and 250 images in 10_food_classes_10_percent/test/ice_cream\n",
            "there are 0 directories and 250 images in 10_food_classes_10_percent/test/steak\n",
            "there are 0 directories and 250 images in 10_food_classes_10_percent/test/grilled_salmon\n",
            "there are 0 directories and 250 images in 10_food_classes_10_percent/test/hamburger\n",
            "there are 0 directories and 250 images in 10_food_classes_10_percent/test/pizza\n",
            "there are 0 directories and 250 images in 10_food_classes_10_percent/test/chicken_curry\n",
            "there are 0 directories and 250 images in 10_food_classes_10_percent/test/chicken_wings\n",
            "there are 0 directories and 250 images in 10_food_classes_10_percent/test/fried_rice\n",
            "there are 10 directories and 0 images in 10_food_classes_10_percent/train\n",
            "there are 0 directories and 75 images in 10_food_classes_10_percent/train/ramen\n",
            "there are 0 directories and 75 images in 10_food_classes_10_percent/train/sushi\n",
            "there are 0 directories and 75 images in 10_food_classes_10_percent/train/ice_cream\n",
            "there are 0 directories and 75 images in 10_food_classes_10_percent/train/steak\n",
            "there are 0 directories and 75 images in 10_food_classes_10_percent/train/grilled_salmon\n",
            "there are 0 directories and 75 images in 10_food_classes_10_percent/train/hamburger\n",
            "there are 0 directories and 75 images in 10_food_classes_10_percent/train/pizza\n",
            "there are 0 directories and 75 images in 10_food_classes_10_percent/train/chicken_curry\n",
            "there are 0 directories and 75 images in 10_food_classes_10_percent/train/chicken_wings\n",
            "there are 0 directories and 75 images in 10_food_classes_10_percent/train/fried_rice\n"
          ],
          "name": "stdout"
        }
      ]
    },
    {
      "cell_type": "code",
      "metadata": {
        "colab": {
          "base_uri": "https://localhost:8080/"
        },
        "id": "sGpcAFKwo1kG",
        "outputId": "207383d5-dd2e-4762-d445-b0711d05cc39"
      },
      "source": [
        "from tensorflow.keras.preprocessing.image import ImageDataGenerator\n",
        "\n",
        "IMAGE_SHAPE = (224 , 224)\n",
        "BATCH_SIZE  =32\n",
        "\n",
        "train_dir = \"10_food_classes_10_percent/train/\"\n",
        "test_dir = \"10_food_classes_10_percent/test/\"\n",
        "\n",
        "train_datagen = ImageDataGenerator(rescale = 1/255)\n",
        "test_datagen = ImageDataGenerator(rescale = 1/255)\n",
        "\n",
        "print(\"Traing images\")\n",
        "\n",
        "train_data_10_percent = train_datagen.flow_from_directory(train_dir , \n",
        "                                                          target_size = IMAGE_SHAPE , \n",
        "                                                          batch_size = BATCH_SIZE , \n",
        "                                                          class_mode=\"categorical\")\n",
        "\n",
        "print(\"Testing images\")\n",
        "\n",
        "test_data = test_datagen.flow_from_directory(             test_dir , \n",
        "                                                          target_size = IMAGE_SHAPE , \n",
        "                                                          batch_size = BATCH_SIZE , \n",
        "                                                          class_mode=\"categorical\")\n",
        "\n"
      ],
      "execution_count": 4,
      "outputs": [
        {
          "output_type": "stream",
          "text": [
            "Traing images\n",
            "Found 750 images belonging to 10 classes.\n",
            "Testing images\n",
            "Found 2500 images belonging to 10 classes.\n"
          ],
          "name": "stdout"
        }
      ]
    },
    {
      "cell_type": "code",
      "metadata": {
        "id": "8cJaFYkoqMjZ"
      },
      "source": [
        "import datetime\n",
        "def create_tensorboard_callback(dir_name , experiment_name):\n",
        "  log_dir = dir_name + \"/\" + experiment_name + \"/\" + datetime.datetime.now().strftime(\"%Y%m%d-%H%M%S\")\n",
        "  tensorboard_callback = tf.keras.callbacks.TensorBoard(log_dir= log_dir)\n",
        "  print(f\"saving to : {log_dir}\")\n",
        "  return tensorboard_callback"
      ],
      "execution_count": 45,
      "outputs": []
    },
    {
      "cell_type": "code",
      "metadata": {
        "id": "bHe_2AVMrSfd"
      },
      "source": [
        "eff_url = \"https://tfhub.dev/tensorflow/efficientnet/b0/feature-vector/1\"\n",
        "\n",
        "res_url = \"https://tfhub.dev/google/imagenet/resnet_v2_50/feature_vector/4\""
      ],
      "execution_count": 35,
      "outputs": []
    },
    {
      "cell_type": "code",
      "metadata": {
        "id": "9rOspGrutcuU"
      },
      "source": [
        "import tensorflow as tf\n",
        "import tensorflow_hub as hub \n",
        "from tensorflow.keras import layers"
      ],
      "execution_count": 36,
      "outputs": []
    },
    {
      "cell_type": "code",
      "metadata": {
        "id": "RClrI17AtvCh"
      },
      "source": [
        "def create_model(model_url , num_classes=10):\n",
        "\n",
        "  feature_extractor_layer = hub.KerasLayer(model_url , \n",
        "                                           trainable=False, \n",
        "                                           name=\"feature_extractor_layer\" , \n",
        "                                           input_shape = IMAGE_SHAPE+(3,))\n",
        "  \n",
        "  model= tf.keras.Sequential([\n",
        "                              feature_extractor_layer , \n",
        "                              layers.Dense(num_classes , activation=\"softmax\" , name= \"output_layer\")\n",
        "  ])\n",
        "\n",
        "  return model"
      ],
      "execution_count": 37,
      "outputs": []
    },
    {
      "cell_type": "code",
      "metadata": {
        "id": "KfpLrstbuqBG"
      },
      "source": [
        "resnet_model = create_model(res_url , \n",
        "                            num_classes=train_data_10_percent.num_classes)"
      ],
      "execution_count": 38,
      "outputs": []
    },
    {
      "cell_type": "code",
      "metadata": {
        "colab": {
          "base_uri": "https://localhost:8080/"
        },
        "id": "XuhzwIDFu6eq",
        "outputId": "ba5c8fce-449f-4737-c9fa-5f2d21e8198f"
      },
      "source": [
        "resnet_model.summary()"
      ],
      "execution_count": 39,
      "outputs": [
        {
          "output_type": "stream",
          "text": [
            "Model: \"sequential_2\"\n",
            "_________________________________________________________________\n",
            "Layer (type)                 Output Shape              Param #   \n",
            "=================================================================\n",
            "feature_extractor_layer (Ker (None, 2048)              23564800  \n",
            "_________________________________________________________________\n",
            "output_layer (Dense)         (None, 10)                20490     \n",
            "=================================================================\n",
            "Total params: 23,585,290\n",
            "Trainable params: 20,490\n",
            "Non-trainable params: 23,564,800\n",
            "_________________________________________________________________\n"
          ],
          "name": "stdout"
        }
      ]
    },
    {
      "cell_type": "code",
      "metadata": {
        "colab": {
          "base_uri": "https://localhost:8080/"
        },
        "id": "tmzr9fp9vtWN",
        "outputId": "a6badad1-a803-4a7d-b0f2-3a06c7f1406d"
      },
      "source": [
        "train_data_10_percent.num_classes"
      ],
      "execution_count": 40,
      "outputs": [
        {
          "output_type": "execute_result",
          "data": {
            "text/plain": [
              "10"
            ]
          },
          "metadata": {
            "tags": []
          },
          "execution_count": 40
        }
      ]
    },
    {
      "cell_type": "code",
      "metadata": {
        "id": "GL3QutAuvxDo"
      },
      "source": [
        "resnet_model.compile(loss = \"categorical_crossentropy\", \n",
        "                optimizer=tf.keras.optimizers.Adam(),\n",
        "                metrics=[\"accuracy\"])"
      ],
      "execution_count": 41,
      "outputs": []
    },
    {
      "cell_type": "code",
      "metadata": {
        "colab": {
          "base_uri": "https://localhost:8080/"
        },
        "id": "POFinhynv-uv",
        "outputId": "07dcafce-332c-4063-d04f-3521a1af4277"
      },
      "source": [
        "resnet_history = resnet_model.fit(train_data_10_percent , \n",
        "                 epochs = 5 , \n",
        "                 steps_per_epoch = len(train_data_10_percent) , \n",
        "                 validation_data=test_data , \n",
        "                 validation_steps=len(test_data) , \n",
        "                 callbacks=[create_tensorboard_callback(dir_name=\"tensorflow_hub\" , \n",
        "                                                        experiment_name=\"resnet50V2\")\n",
        "                 ])"
      ],
      "execution_count": 46,
      "outputs": [
        {
          "output_type": "stream",
          "text": [
            "saving to : tensorflow_hub/resnet50V2/20210712-081929\n",
            "Epoch 1/5\n",
            "24/24 [==============================] - 57s 1s/step - loss: 2.0560 - accuracy: 0.3053 - val_loss: 1.3744 - val_accuracy: 0.5516\n",
            "Epoch 2/5\n",
            "24/24 [==============================] - 21s 914ms/step - loss: 0.9920 - accuracy: 0.7107 - val_loss: 0.8968 - val_accuracy: 0.7216\n",
            "Epoch 3/5\n",
            "24/24 [==============================] - 21s 915ms/step - loss: 0.6594 - accuracy: 0.8040 - val_loss: 0.7754 - val_accuracy: 0.7504\n",
            "Epoch 4/5\n",
            "24/24 [==============================] - 21s 914ms/step - loss: 0.5035 - accuracy: 0.8600 - val_loss: 0.7119 - val_accuracy: 0.7736\n",
            "Epoch 5/5\n",
            "24/24 [==============================] - 21s 911ms/step - loss: 0.3962 - accuracy: 0.9053 - val_loss: 0.6902 - val_accuracy: 0.7800\n"
          ],
          "name": "stdout"
        }
      ]
    },
    {
      "cell_type": "code",
      "metadata": {
        "id": "olWivEZ3xeHb"
      },
      "source": [
        "import matplotlib.pyplot as plt \n",
        "\n",
        "def plot_loss_curves(history):\n",
        "\n",
        "  loss = history.history[\"loss\"]\n",
        "  val_loss = history.history[\"val_loss\"]\n",
        "\n",
        "  accuracy = history.history[\"accuracy\"]\n",
        "  val_accuracy = history.history[\"val_accuracy\"]\n",
        "\n",
        "  epochs = range(len(history.history[\"loss\"]))\n",
        "\n",
        "  plt.plot(epochs , loss  , label=\"training_loss\")\n",
        "  plt.plot(epochs , val_loss , label=\"val_loss\")\n",
        "  plt.title(\"loss\")\n",
        "  plt.xlabel(\"epochs\")\n",
        "  plt.legend()\n",
        "\n",
        "  plt.figure()\n",
        "  plt.plot(epochs , accuracy  , label=\"training_accuracy\")\n",
        "  plt.plot(epochs , val_accuracy , label=\"val_accuracy\")\n",
        "  plt.title(\"accuracy\")\n",
        "  plt.xlabel(\"epochs\")\n",
        "  plt.legend();"
      ],
      "execution_count": 50,
      "outputs": []
    },
    {
      "cell_type": "code",
      "metadata": {
        "colab": {
          "base_uri": "https://localhost:8080/",
          "height": 572
        },
        "id": "miEbGVvE0m98",
        "outputId": "33fec4f2-bbb8-4233-db10-9a473b9691f3"
      },
      "source": [
        "plot_loss_curves(resnet_history)"
      ],
      "execution_count": 51,
      "outputs": [
        {
          "output_type": "display_data",
          "data": {
            "image/png": "[encoded data removed]",
            "text/plain": [
              "<Figure size 432x288 with 1 Axes>"
            ]
          },
          "metadata": {
            "tags": [],
            "needs_background": "light"
          }
        },
        {
          "output_type": "display_data",
          "data": {
            "image/png": "[encoded data removed]",
            "text/plain": [
              "<Figure size 432x288 with 1 Axes>"
            ]
          },
          "metadata": {
            "tags": [],
            "needs_background": "light"
          }
        }
      ]
    },
    {
      "cell_type": "code",
      "metadata": {
        "colab": {
          "base_uri": "https://localhost:8080/"
        },
        "id": "EOGvLUVm0qFV",
        "outputId": "7051370d-ef73-4fa5-f97d-36122ab15bc3"
      },
      "source": [
        "eff_model = create_model(model_url=eff_url , \n",
        "                         num_classes = train_data_10_percent.num_classes)\n",
        "\n",
        "eff_model.compile(loss = \"categorical_crossentropy\", \n",
        "                optimizer=tf.keras.optimizers.Adam(),\n",
        "                metrics=[\"accuracy\"])\n",
        "\n",
        "eff_history = eff_model.fit(train_data_10_percent , \n",
        "                            epochs = 5 , \n",
        "                            steps_per_epoch=len(train_data_10_percent) , \n",
        "                            validation_data = test_data , \n",
        "                            validation_steps = len(test_data) ,\n",
        "                            callbacks = [create_tensorboard_callback(dir_name=\"tensorflow_hub\" , \n",
        "                                                                     experiment_name = \"effnetb0\")])"
      ],
      "execution_count": 52,
      "outputs": [
        {
          "output_type": "stream",
          "text": [
            "saving to : tensorflow_hub/effnetb0/20210712-083143\n",
            "Epoch 1/5\n",
            "24/24 [==============================] - 33s 1s/step - loss: 1.8457 - accuracy: 0.4507 - val_loss: 1.3143 - val_accuracy: 0.7272\n",
            "Epoch 2/5\n",
            "24/24 [==============================] - 19s 815ms/step - loss: 1.0548 - accuracy: 0.7773 - val_loss: 0.8655 - val_accuracy: 0.8244\n",
            "Epoch 3/5\n",
            "24/24 [==============================] - 19s 814ms/step - loss: 0.7498 - accuracy: 0.8427 - val_loss: 0.6989 - val_accuracy: 0.8508\n",
            "Epoch 4/5\n",
            "24/24 [==============================] - 19s 813ms/step - loss: 0.6001 - accuracy: 0.8813 - val_loss: 0.6125 - val_accuracy: 0.8600\n",
            "Epoch 5/5\n",
            "24/24 [==============================] - 19s 810ms/step - loss: 0.5096 - accuracy: 0.9013 - val_loss: 0.5611 - val_accuracy: 0.8668\n"
          ],
          "name": "stdout"
        }
      ]
    },
    {
      "cell_type": "code",
      "metadata": {
        "colab": {
          "base_uri": "https://localhost:8080/",
          "height": 572
        },
        "id": "hhsJBtXd1-To",
        "outputId": "79d2f36d-45b8-42cc-ab6a-a0525b55fea3"
      },
      "source": [
        "plot_loss_curves(eff_history)"
      ],
      "execution_count": 53,
      "outputs": [
        {
          "output_type": "display_data",
          "data": {
            "image/png": "[encoded data removed]",
            "text/plain": [
              "<Figure size 432x288 with 1 Axes>"
            ]
          },
          "metadata": {
            "tags": [],
            "needs_background": "light"
          }
        },
        {
          "output_type": "display_data",
          "data": {
            "image/png": "[encoded data removed]",
            "text/plain": [
              "<Figure size 432x288 with 1 Axes>"
            ]
          },
          "metadata": {
            "tags": [],
            "needs_background": "light"
          }
        }
      ]
    },
    {
      "cell_type": "code",
      "metadata": {
        "colab": {
          "base_uri": "https://localhost:8080/"
        },
        "id": "JN3gySMO2DQV",
        "outputId": "9aaf0b5f-86d2-40d7-fc39-c719dc5922e8"
      },
      "source": [
        "eff_model.summary()"
      ],
      "execution_count": 54,
      "outputs": [
        {
          "output_type": "stream",
          "text": [
            "Model: \"sequential_3\"\n",
            "_________________________________________________________________\n",
            "Layer (type)                 Output Shape              Param #   \n",
            "=================================================================\n",
            "feature_extractor_layer (Ker (None, 1280)              4049564   \n",
            "_________________________________________________________________\n",
            "output_layer (Dense)         (None, 10)                12810     \n",
            "=================================================================\n",
            "Total params: 4,062,374\n",
            "Trainable params: 12,810\n",
            "Non-trainable params: 4,049,564\n",
            "_________________________________________________________________\n"
          ],
          "name": "stdout"
        }
      ]
    },
    {
      "cell_type": "code",
      "metadata": {
        "colab": {
          "base_uri": "https://localhost:8080/"
        },
        "id": "rLXP8QqP2U-l",
        "outputId": "8b93cff5-2fcc-4544-ac39-06d2ebc0e35b"
      },
      "source": [
        "len(eff_model.layers[0].weights)"
      ],
      "execution_count": 55,
      "outputs": [
        {
          "output_type": "execute_result",
          "data": {
            "text/plain": [
              "309"
            ]
          },
          "metadata": {
            "tags": []
          },
          "execution_count": 55
        }
      ]
    },
    {
      "cell_type": "code",
      "metadata": {
        "id": "oNTK1JL32VQc"
      },
      "source": [
        ""
      ],
      "execution_count": null,
      "outputs": []
    }
  ]
}