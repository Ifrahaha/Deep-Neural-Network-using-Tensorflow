{
  "nbformat": 4,
  "nbformat_minor": 0,
  "metadata": {
    "colab": {
      "name": "simpson_dataset.ipynb",
      "provenance": [],
      "collapsed_sections": []
    },
    "kernelspec": {
      "name": "python3",
      "display_name": "Python 3"
    },
    "language_info": {
      "name": "python"
    },
    "accelerator": "TPU"
  },
  "cells": [
    {
      "cell_type": "code",
      "metadata": {
        "colab": {
          "base_uri": "https://localhost:8080/"
        },
        "id": "pH52vwPMsz6K",
        "outputId": "8d053e62-089b-441f-f9e0-50790e2453f4"
      },
      "source": [
        "!pip install --upgrade -q kaggle \n",
        "!mkdir /root/.kaggle\n",
        "import json \n",
        "token = {\n",
        "    \n",
        "    \"username\": \"ifrahandleeb\",\n",
        "    \"key\": \"7d32d51ce48e80317141c1a4fc7c3c23\"\n",
        "    \n",
        "}\n",
        "\n",
        "with open('/root/.kaggle/kaggle.json' , 'w') as config_file:\n",
        "\n",
        "  json.dump(token , config_file)\n",
        "\n",
        "!chmod 600 /root/.kaggle/kaggle.json\n",
        "\n",
        "!kaggle datasets download -d alexattia/the-simpsons-characters-dataset"
      ],
      "execution_count": 6,
      "outputs": [
        {
          "output_type": "stream",
          "text": [
            "mkdir: cannot create directory ‘/root/.kaggle’: File exists\n",
            "Downloading the-simpsons-characters-dataset.zip to /content\n",
            " 99% 1.07G/1.08G [00:11<00:00, 90.1MB/s]\n",
            "100% 1.08G/1.08G [00:11<00:00, 102MB/s] \n"
          ],
          "name": "stdout"
        }
      ]
    },
    {
      "cell_type": "code",
      "metadata": {
        "id": "B_S77qtLtM2L"
      },
      "source": [
        "import zipfile \n",
        "zip_ref = zipfile.ZipFile(\"/content/the-simpsons-characters-dataset.zip\")\n",
        "zip_ref.extractall()\n",
        "zip_ref.close()"
      ],
      "execution_count": 7,
      "outputs": []
    },
    {
      "cell_type": "code",
      "metadata": {
        "colab": {
          "base_uri": "https://localhost:8080/"
        },
        "id": "m_k_c2JZtp72",
        "outputId": "febf84ef-6a71-4b1a-b996-8308c8485519"
      },
      "source": [
        "!ls /content/simpsons_dataset"
      ],
      "execution_count": 8,
      "outputs": [
        {
          "output_type": "stream",
          "text": [
            "abraham_grampa_simpson\t  homer_simpson        otto_mann\n",
            "agnes_skinner\t\t  kent_brockman        patty_bouvier\n",
            "apu_nahasapeemapetilon\t  krusty_the_clown     principal_skinner\n",
            "barney_gumble\t\t  lenny_leonard        professor_john_frink\n",
            "bart_simpson\t\t  lionel_hutz\t       rainier_wolfcastle\n",
            "carl_carlson\t\t  lisa_simpson\t       ralph_wiggum\n",
            "charles_montgomery_burns  maggie_simpson       selma_bouvier\n",
            "chief_wiggum\t\t  marge_simpson        sideshow_bob\n",
            "cletus_spuckler\t\t  martin_prince        sideshow_mel\n",
            "comic_book_guy\t\t  mayor_quimby\t       simpsons_dataset\n",
            "disco_stu\t\t  milhouse_van_houten  snake_jailbird\n",
            "edna_krabappel\t\t  miss_hoover\t       troy_mcclure\n",
            "fat_tony\t\t  moe_szyslak\t       waylon_smithers\n",
            "gil\t\t\t  ned_flanders\n",
            "groundskeeper_willie\t  nelson_muntz\n"
          ],
          "name": "stdout"
        }
      ]
    },
    {
      "cell_type": "code",
      "metadata": {
        "id": "KKtMs0aeuW0u"
      },
      "source": [
        "#!ls /content/kaggle_simpson_testset/kaggle_simpson_testset"
      ],
      "execution_count": 11,
      "outputs": []
    },
    {
      "cell_type": "code",
      "metadata": {
        "colab": {
          "base_uri": "https://localhost:8080/"
        },
        "id": "Rbs9QLrxvw7e",
        "outputId": "bd849d2b-077c-441e-8b87-a2a8e21fdd26"
      },
      "source": [
        "!pip install split-folders \n",
        "import splitfolders\n",
        "\n",
        "splitfolders.ratio(\"/content/simpsons_dataset\" , output = 'data' , seed=1337 , ratio=(0.3, 0.7))"
      ],
      "execution_count": 36,
      "outputs": [
        {
          "output_type": "stream",
          "text": [
            "Requirement already satisfied: split-folders in /usr/local/lib/python3.7/dist-packages (0.4.3)\n"
          ],
          "name": "stdout"
        },
        {
          "output_type": "stream",
          "text": [
            "Copying files: 20933 files [00:10, 2042.96 files/s]\n"
          ],
          "name": "stderr"
        }
      ]
    },
    {
      "cell_type": "code",
      "metadata": {
        "colab": {
          "base_uri": "https://localhost:8080/"
        },
        "id": "y1FU3gwwwdAE",
        "outputId": "8f1ce5e8-2ea2-48c0-94b9-e36804a3c941"
      },
      "source": [
        "!ls /content/data"
      ],
      "execution_count": 37,
      "outputs": [
        {
          "output_type": "stream",
          "text": [
            "train  val\n"
          ],
          "name": "stdout"
        }
      ]
    },
    {
      "cell_type": "code",
      "metadata": {
        "colab": {
          "base_uri": "https://localhost:8080/"
        },
        "id": "3UFGjNGHwk0N",
        "outputId": "bdda19f5-021f-432f-993f-fb305bafc5db"
      },
      "source": [
        "!ls /content/data/train "
      ],
      "execution_count": 38,
      "outputs": [
        {
          "output_type": "stream",
          "text": [
            "abraham_grampa_simpson\t  homer_simpson        otto_mann\n",
            "agnes_skinner\t\t  kent_brockman        patty_bouvier\n",
            "apu_nahasapeemapetilon\t  krusty_the_clown     principal_skinner\n",
            "barney_gumble\t\t  lenny_leonard        professor_john_frink\n",
            "bart_simpson\t\t  lionel_hutz\t       rainier_wolfcastle\n",
            "carl_carlson\t\t  lisa_simpson\t       ralph_wiggum\n",
            "charles_montgomery_burns  maggie_simpson       selma_bouvier\n",
            "chief_wiggum\t\t  marge_simpson        sideshow_bob\n",
            "cletus_spuckler\t\t  martin_prince        sideshow_mel\n",
            "comic_book_guy\t\t  mayor_quimby\t       simpsons_dataset\n",
            "disco_stu\t\t  milhouse_van_houten  snake_jailbird\n",
            "edna_krabappel\t\t  miss_hoover\t       troy_mcclure\n",
            "fat_tony\t\t  moe_szyslak\t       waylon_smithers\n",
            "gil\t\t\t  ned_flanders\n",
            "groundskeeper_willie\t  nelson_muntz\n"
          ],
          "name": "stdout"
        }
      ]
    },
    {
      "cell_type": "code",
      "metadata": {
        "colab": {
          "base_uri": "https://localhost:8080/"
        },
        "id": "YTNjK76swqHv",
        "outputId": "4ba71ab8-ab7b-4b54-db6d-f37b6c955bea"
      },
      "source": [
        "!ls /content/data/val"
      ],
      "execution_count": 39,
      "outputs": [
        {
          "output_type": "stream",
          "text": [
            "abraham_grampa_simpson\t  homer_simpson        otto_mann\n",
            "agnes_skinner\t\t  kent_brockman        patty_bouvier\n",
            "apu_nahasapeemapetilon\t  krusty_the_clown     principal_skinner\n",
            "barney_gumble\t\t  lenny_leonard        professor_john_frink\n",
            "bart_simpson\t\t  lionel_hutz\t       rainier_wolfcastle\n",
            "carl_carlson\t\t  lisa_simpson\t       ralph_wiggum\n",
            "charles_montgomery_burns  maggie_simpson       selma_bouvier\n",
            "chief_wiggum\t\t  marge_simpson        sideshow_bob\n",
            "cletus_spuckler\t\t  martin_prince        sideshow_mel\n",
            "comic_book_guy\t\t  mayor_quimby\t       simpsons_dataset\n",
            "disco_stu\t\t  milhouse_van_houten  snake_jailbird\n",
            "edna_krabappel\t\t  miss_hoover\t       troy_mcclure\n",
            "fat_tony\t\t  moe_szyslak\t       waylon_smithers\n",
            "gil\t\t\t  ned_flanders\n",
            "groundskeeper_willie\t  nelson_muntz\n"
          ],
          "name": "stdout"
        }
      ]
    },
    {
      "cell_type": "code",
      "metadata": {
        "colab": {
          "base_uri": "https://localhost:8080/"
        },
        "id": "aM_v_e2Pws7D",
        "outputId": "04e0e9f0-de2b-48f0-f034-9f38a96c4251"
      },
      "source": [
        "from tensorflow.keras.preprocessing.image import ImageDataGenerator\n",
        "IMG_SHAPE = (224 , 224)\n",
        "\n",
        "train_dir = \"/content/data/train/\"\n",
        "test_dir = \"/content/data/val\"\n",
        "\n",
        "train_datagen = ImageDataGenerator(rescale = 1/255)\n",
        "test_datagen = ImageDataGenerator(rescale=1/255)\n",
        "\n",
        "print(\"Training Images\")\n",
        "\n",
        "train_data = train_datagen.flow_from_directory(train_dir , \n",
        "                                               target_size = IMG_SHAPE , \n",
        "                                               batch_size = 32 , \n",
        "                                               class_mode = \"categorical\")\n",
        "\n",
        "print(\"Testing Images\")\n",
        "\n",
        "test_data = test_datagen.flow_from_directory(test_dir , \n",
        "                                             target_size = IMG_SHAPE , \n",
        "                                             batch_size = 32 , \n",
        "                                             class_mode = \"categorical\")"
      ],
      "execution_count": 40,
      "outputs": [
        {
          "output_type": "stream",
          "text": [
            "Training Images\n",
            "Found 16727 images belonging to 43 classes.\n",
            "Testing Images\n",
            "Found 14673 images belonging to 43 classes.\n"
          ],
          "name": "stdout"
        }
      ]
    },
    {
      "cell_type": "code",
      "metadata": {
        "id": "gFiQNExKyI3-"
      },
      "source": [
        "import datetime \n",
        "def create_tensorboard_callback(dir_name , experiment_name):\n",
        "  log_dir = dir_name + \"/\" + experiment_name + \"/\" + datetime.datetime.now().strftime(\"%Y%m%d-%H%M%S)\")\n",
        "  tensorboard_callback = tf.keras.callbacks.TensorBoard(log_dir = log_dir)\n",
        "  print(f\"saving to : {log_dir}\")\n",
        "  return tensorboard_callback"
      ],
      "execution_count": 41,
      "outputs": []
    },
    {
      "cell_type": "code",
      "metadata": {
        "id": "WwSH7nq0zCAG"
      },
      "source": [
        "eff_url = \"https://tfhub.dev/tensorflow/efficientnet/b6/feature-vector/1\"\n",
        "\n",
        "res_url = \"https://tfhub.dev/google/imagenet/resnet_v2_50/feature_vector/4\""
      ],
      "execution_count": 42,
      "outputs": []
    },
    {
      "cell_type": "code",
      "metadata": {
        "id": "iAeCqWIMzw6I"
      },
      "source": [
        "import tensorflow as tf\n",
        "import tensorflow_hub as hub \n",
        "from tensorflow.keras import layers"
      ],
      "execution_count": 43,
      "outputs": []
    },
    {
      "cell_type": "code",
      "metadata": {
        "id": "Ek-Wh6O0z7zi"
      },
      "source": [
        "def create_model(model_url , num_classes=43):\n",
        "\n",
        "  feature_extractor_layer = hub.KerasLayer(model_url , \n",
        "                                           trainable = False ,\n",
        "                                           name=\"feature_extractor_layer\" , \n",
        "                                           input_shape = IMG_SHAPE+(3 , ))\n",
        "  \n",
        "  model = tf.keras.Sequential([\n",
        "                               feature_extractor_layer , \n",
        "                               layers.Dense(num_classes , activation=\"softmax\" , name = \"output_layer\")\n",
        "  ])\n",
        "\n",
        "  return model"
      ],
      "execution_count": 44,
      "outputs": []
    },
    {
      "cell_type": "code",
      "metadata": {
        "id": "fwwx27yX09iS"
      },
      "source": [
        "resnet_model = create_model(res_url , \n",
        "                            num_classes=train_data.num_classes)"
      ],
      "execution_count": 45,
      "outputs": []
    },
    {
      "cell_type": "code",
      "metadata": {
        "colab": {
          "base_uri": "https://localhost:8080/"
        },
        "id": "dmAh9uHq1gmh",
        "outputId": "3a3b19df-46e1-48c1-e17f-82470f8379ca"
      },
      "source": [
        "train_data.num_classes"
      ],
      "execution_count": 46,
      "outputs": [
        {
          "output_type": "execute_result",
          "data": {
            "text/plain": [
              "43"
            ]
          },
          "metadata": {
            "tags": []
          },
          "execution_count": 46
        }
      ]
    },
    {
      "cell_type": "code",
      "metadata": {
        "id": "ei4M-wYI1loc"
      },
      "source": [
        "resnet_model.compile(loss = \"categorical_crossentropy\" , \n",
        "                     optimizer = tf.keras.optimizers.Adam() , \n",
        "                     metrics=[\"accuracy\"])"
      ],
      "execution_count": 47,
      "outputs": []
    },
    {
      "cell_type": "code",
      "metadata": {
        "colab": {
          "base_uri": "https://localhost:8080/"
        },
        "id": "8dQTuvM-10uh",
        "outputId": "51fa2cab-ae8b-4f58-b657-6aaecfeabf34"
      },
      "source": [
        "resnet_history = resnet_model.fit(train_data , \n",
        "                                  epochs = 5 , \n",
        "                                  steps_per_epoch = len(train_data) , \n",
        "                                  validation_data = test_data , \n",
        "                                  validation_steps = len(test_data), \n",
        "                                  callbacks = [create_tensorboard_callback(dir_name=\"tensorflow_hub\" , \n",
        "                                                                           experiment_name = \"resnet50v2\") \n",
        "                                  ])"
      ],
      "execution_count": 48,
      "outputs": [
        {
          "output_type": "stream",
          "text": [
            "saving to : tensorflow_hub/resnet50v2/20210719-035043)\n",
            "Epoch 1/5\n",
            "523/523 [==============================] - 3849s 7s/step - loss: 1.8921 - accuracy: 0.5128 - val_loss: 1.2492 - val_accuracy: 0.6800\n",
            "Epoch 2/5\n",
            "523/523 [==============================] - 3745s 7s/step - loss: 1.0943 - accuracy: 0.7107 - val_loss: 0.9492 - val_accuracy: 0.7568\n",
            "Epoch 3/5\n",
            "523/523 [==============================] - 3700s 7s/step - loss: 0.8530 - accuracy: 0.7748 - val_loss: 0.7904 - val_accuracy: 0.7981\n",
            "Epoch 4/5\n",
            "523/523 [==============================] - 3683s 7s/step - loss: 0.7057 - accuracy: 0.8154 - val_loss: 0.7334 - val_accuracy: 0.8099\n",
            "Epoch 5/5\n",
            "523/523 [==============================] - 3727s 7s/step - loss: 0.6032 - accuracy: 0.8449 - val_loss: 0.6499 - val_accuracy: 0.8335\n"
          ],
          "name": "stdout"
        }
      ]
    },
    {
      "cell_type": "code",
      "metadata": {
        "id": "2NPpY3Z8Kv2t"
      },
      "source": [
        "import matplotlib.pyplot as plt \n",
        "\n",
        "def plot_loss_curves(history):\n",
        "\n",
        "  loss = history.history[\"loss\"]\n",
        "  val_loss = history.history[\"val_loss\"]\n",
        "\n",
        "  accuracy = history.history[\"accuracy\"]\n",
        "  val_accuracy = history.history[\"val_accuracy\"]\n",
        "\n",
        "  epochs = range(len(history.history[\"loss\"]))\n",
        "\n",
        "  plt.plot(epochs , loss  , label=\"training_loss\")\n",
        "  plt.plot(epochs , val_loss , label=\"val_loss\")\n",
        "  plt.title(\"loss\")\n",
        "  plt.xlabel(\"epochs\")\n",
        "  plt.legend()\n",
        "\n",
        "  plt.figure()\n",
        "  plt.plot(epochs , accuracy  , label=\"training_accuracy\")\n",
        "  plt.plot(epochs , val_accuracy , label=\"val_accuracy\")\n",
        "  plt.title(\"accuracy\")\n",
        "  plt.xlabel(\"epochs\")\n",
        "  plt.legend();"
      ],
      "execution_count": 51,
      "outputs": []
    },
    {
      "cell_type": "code",
      "metadata": {
        "colab": {
          "base_uri": "https://localhost:8080/",
          "height": 572
        },
        "id": "oGowDBoTLhxZ",
        "outputId": "6c01bcd6-9689-4405-e075-ae43d7373272"
      },
      "source": [
        "plot_loss_curves(resnet_history)"
      ],
      "execution_count": 52,
      "outputs": [
        {
          "output_type": "display_data",
          "data": {
            "image/png": "[encoded data removed]",
            "text/plain": [
              "<Figure size 432x288 with 1 Axes>"
            ]
          },
          "metadata": {
            "tags": [],
            "needs_background": "light"
          }
        },
        {
          "output_type": "display_data",
          "data": {
            "image/png": "[encoded data removed]",
            "text/plain": [
              "<Figure size 432x288 with 1 Axes>"
            ]
          },
          "metadata": {
            "tags": [],
            "needs_background": "light"
          }
        }
      ]
    },
    {
      "cell_type": "code",
      "metadata": {
        "colab": {
          "base_uri": "https://localhost:8080/"
        },
        "id": "uzfQIB3yMLal",
        "outputId": "daa27354-a92a-47b0-af54-ba2b2912188e"
      },
      "source": [
        "resnet_model.summary()"
      ],
      "execution_count": 56,
      "outputs": [
        {
          "output_type": "stream",
          "text": [
            "Model: \"sequential_1\"\n",
            "_________________________________________________________________\n",
            "Layer (type)                 Output Shape              Param #   \n",
            "=================================================================\n",
            "feature_extractor_layer (Ker (None, 2048)              23564800  \n",
            "_________________________________________________________________\n",
            "output_layer (Dense)         (None, 43)                88107     \n",
            "=================================================================\n",
            "Total params: 23,652,907\n",
            "Trainable params: 88,107\n",
            "Non-trainable params: 23,564,800\n",
            "_________________________________________________________________\n"
          ],
          "name": "stdout"
        }
      ]
    },
    {
      "cell_type": "code",
      "metadata": {
        "id": "xLgt8-cGMpLU"
      },
      "source": [
        ""
      ],
      "execution_count": null,
      "outputs": []
    }
  ]
}