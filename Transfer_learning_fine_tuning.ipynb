{
  "nbformat": 4,
  "nbformat_minor": 0,
  "metadata": {
    "colab": {
      "name": "Transfer_learning_fine_tuning.ipynb",
      "provenance": [],
      "collapsed_sections": []
    },
    "kernelspec": {
      "name": "python3",
      "display_name": "Python 3"
    },
    "language_info": {
      "name": "python"
    },
    "accelerator": "GPU"
  },
  "cells": [
    {
      "cell_type": "code",
      "metadata": {
        "colab": {
          "base_uri": "https://localhost:8080/"
        },
        "id": "mAJEwOQJTEyM",
        "outputId": "47fb4a0e-2626-4cb2-d882-cbb38676c119"
      },
      "source": [
        "!wget https://raw.githubusercontent.com/mrdbourke/tensorflow-deep-learning/main/extras/helper_functions.py\n"
      ],
      "execution_count": 2,
      "outputs": [
        {
          "output_type": "stream",
          "text": [
            "--2021-07-13 15:54:47--  https://raw.githubusercontent.com/mrdbourke/tensorflow-deep-learning/main/extras/helper_functions.py\n",
            "Resolving raw.githubusercontent.com (raw.githubusercontent.com)... 185.199.108.133, 185.199.109.133, 185.199.110.133, ...\n",
            "Connecting to raw.githubusercontent.com (raw.githubusercontent.com)|185.199.108.133|:443... connected.\n",
            "HTTP request sent, awaiting response... 200 OK\n",
            "Length: 10246 (10K) [text/plain]\n",
            "Saving to: ‘helper_functions.py’\n",
            "\n",
            "\rhelper_functions.py   0%[                    ]       0  --.-KB/s               \rhelper_functions.py 100%[===================>]  10.01K  --.-KB/s    in 0s      \n",
            "\n",
            "2021-07-13 15:54:47 (105 MB/s) - ‘helper_functions.py’ saved [10246/10246]\n",
            "\n"
          ],
          "name": "stdout"
        }
      ]
    },
    {
      "cell_type": "code",
      "metadata": {
        "id": "uomO2e8eWrF3"
      },
      "source": [
        "from helper_functions import create_tensorboard_callback , plot_loss_curves , unzip_data , walk_through_dir"
      ],
      "execution_count": 3,
      "outputs": []
    },
    {
      "cell_type": "code",
      "metadata": {
        "colab": {
          "base_uri": "https://localhost:8080/"
        },
        "id": "DrwN5u2tXOrv",
        "outputId": "2a2fc767-a993-4b1f-ba43-f8e6f0c59c17"
      },
      "source": [
        "!wget https://storage.googleapis.com/ztm_tf_course/food_vision/10_food_classes_10_percent.zip\n",
        "\n",
        "unzip_data(\"10_food_classes_10_percent.zip\")"
      ],
      "execution_count": 4,
      "outputs": [
        {
          "output_type": "stream",
          "text": [
            "--2021-07-13 15:54:51--  https://storage.googleapis.com/ztm_tf_course/food_vision/10_food_classes_10_percent.zip\n",
            "Resolving storage.googleapis.com (storage.googleapis.com)... 74.125.20.128, 74.125.197.128, 74.125.142.128, ...\n",
            "Connecting to storage.googleapis.com (storage.googleapis.com)|74.125.20.128|:443... connected.\n",
            "HTTP request sent, awaiting response... 200 OK\n",
            "Length: 168546183 (161M) [application/zip]\n",
            "Saving to: ‘10_food_classes_10_percent.zip’\n",
            "\n",
            "10_food_classes_10_ 100%[===================>] 160.74M   149MB/s    in 1.1s    \n",
            "\n",
            "2021-07-13 15:54:52 (149 MB/s) - ‘10_food_classes_10_percent.zip’ saved [168546183/168546183]\n",
            "\n"
          ],
          "name": "stdout"
        }
      ]
    },
    {
      "cell_type": "code",
      "metadata": {
        "colab": {
          "base_uri": "https://localhost:8080/"
        },
        "id": "_BfqJDkZXvB6",
        "outputId": "a07afa2d-dc9f-4f36-90f5-be55227c4df7"
      },
      "source": [
        "walk_through_dir(\"10_food_classes_10_percent\")"
      ],
      "execution_count": 5,
      "outputs": [
        {
          "output_type": "stream",
          "text": [
            "There are 2 directories and 0 images in '10_food_classes_10_percent'.\n",
            "There are 10 directories and 0 images in '10_food_classes_10_percent/train'.\n",
            "There are 0 directories and 75 images in '10_food_classes_10_percent/train/steak'.\n",
            "There are 0 directories and 75 images in '10_food_classes_10_percent/train/chicken_curry'.\n",
            "There are 0 directories and 75 images in '10_food_classes_10_percent/train/hamburger'.\n",
            "There are 0 directories and 75 images in '10_food_classes_10_percent/train/ice_cream'.\n",
            "There are 0 directories and 75 images in '10_food_classes_10_percent/train/chicken_wings'.\n",
            "There are 0 directories and 75 images in '10_food_classes_10_percent/train/grilled_salmon'.\n",
            "There are 0 directories and 75 images in '10_food_classes_10_percent/train/sushi'.\n",
            "There are 0 directories and 75 images in '10_food_classes_10_percent/train/fried_rice'.\n",
            "There are 0 directories and 75 images in '10_food_classes_10_percent/train/pizza'.\n",
            "There are 0 directories and 75 images in '10_food_classes_10_percent/train/ramen'.\n",
            "There are 10 directories and 0 images in '10_food_classes_10_percent/test'.\n",
            "There are 0 directories and 250 images in '10_food_classes_10_percent/test/steak'.\n",
            "There are 0 directories and 250 images in '10_food_classes_10_percent/test/chicken_curry'.\n",
            "There are 0 directories and 250 images in '10_food_classes_10_percent/test/hamburger'.\n",
            "There are 0 directories and 250 images in '10_food_classes_10_percent/test/ice_cream'.\n",
            "There are 0 directories and 250 images in '10_food_classes_10_percent/test/chicken_wings'.\n",
            "There are 0 directories and 250 images in '10_food_classes_10_percent/test/grilled_salmon'.\n",
            "There are 0 directories and 250 images in '10_food_classes_10_percent/test/sushi'.\n",
            "There are 0 directories and 250 images in '10_food_classes_10_percent/test/fried_rice'.\n",
            "There are 0 directories and 250 images in '10_food_classes_10_percent/test/pizza'.\n",
            "There are 0 directories and 250 images in '10_food_classes_10_percent/test/ramen'.\n"
          ],
          "name": "stdout"
        }
      ]
    },
    {
      "cell_type": "code",
      "metadata": {
        "id": "2ElLIietX0v5"
      },
      "source": [
        "train_dir = \"10_food_classes_10_percent/train\"\n",
        "test_dir = \"10_food_classes_10_percent/test\"\n"
      ],
      "execution_count": 6,
      "outputs": []
    },
    {
      "cell_type": "code",
      "metadata": {
        "colab": {
          "base_uri": "https://localhost:8080/"
        },
        "id": "0eKf0c8bYUyR",
        "outputId": "8b744129-1834-4995-e1b1-ca0594e2491b"
      },
      "source": [
        "import tensorflow as tf\n",
        "\n",
        "IMG_SIZE =(224 , 224)\n",
        "train_data_10_percent = tf.keras.preprocessing.image_dataset_from_directory(\n",
        "                                                                       directory = train_dir , \n",
        "                                                                       image_size = IMG_SIZE , \n",
        "                                                                       label_mode = \"categorical\" ,\n",
        "                                                                       batch_size = 32\n",
        "    \n",
        ")\n",
        "test_data = tf.keras.preprocessing.image_dataset_from_directory(\n",
        "                                                                       directory = test_dir , \n",
        "                                                                       image_size = IMG_SIZE , \n",
        "                                                                       label_mode = \"categorical\" ,\n",
        "                                                                       batch_size = 32\n",
        "    \n",
        ")"
      ],
      "execution_count": 7,
      "outputs": [
        {
          "output_type": "stream",
          "text": [
            "Found 750 files belonging to 10 classes.\n",
            "Found 2500 files belonging to 10 classes.\n"
          ],
          "name": "stdout"
        }
      ]
    },
    {
      "cell_type": "code",
      "metadata": {
        "colab": {
          "base_uri": "https://localhost:8080/"
        },
        "id": "I0IsBnyOYtle",
        "outputId": "01800af9-6be4-492d-bb57-f480fdc62940"
      },
      "source": [
        "train_data_10_percent"
      ],
      "execution_count": 8,
      "outputs": [
        {
          "output_type": "execute_result",
          "data": {
            "text/plain": [
              "<BatchDataset shapes: ((None, 224, 224, 3), (None, 10)), types: (tf.float32, tf.float32)>"
            ]
          },
          "metadata": {
            "tags": []
          },
          "execution_count": 8
        }
      ]
    },
    {
      "cell_type": "code",
      "metadata": {
        "colab": {
          "base_uri": "https://localhost:8080/"
        },
        "id": "_u3_K78gaAIz",
        "outputId": "f85dcb06-0b2a-4774-928f-9083f621006e"
      },
      "source": [
        "train_data_10_percent.class_names"
      ],
      "execution_count": 9,
      "outputs": [
        {
          "output_type": "execute_result",
          "data": {
            "text/plain": [
              "['chicken_curry',\n",
              " 'chicken_wings',\n",
              " 'fried_rice',\n",
              " 'grilled_salmon',\n",
              " 'hamburger',\n",
              " 'ice_cream',\n",
              " 'pizza',\n",
              " 'ramen',\n",
              " 'steak',\n",
              " 'sushi']"
            ]
          },
          "metadata": {
            "tags": []
          },
          "execution_count": 9
        }
      ]
    },
    {
      "cell_type": "code",
      "metadata": {
        "colab": {
          "base_uri": "https://localhost:8080/"
        },
        "id": "MsYNs8miaEtL",
        "outputId": "b7702e72-c9c4-4347-8a84-394f868e8c7e"
      },
      "source": [
        "for images , labels in train_data_10_percent.take(1):\n",
        "  print(images , labels)"
      ],
      "execution_count": 10,
      "outputs": [
        {
          "output_type": "stream",
          "text": [
            "tf.Tensor(\n",
            "[[[[2.11658173e+02 1.72658173e+02 1.29658173e+02]\n",
            "   [2.27117355e+02 1.90025513e+02 1.46071442e+02]\n",
            "   [2.27357147e+02 1.93571426e+02 1.48571426e+02]\n",
            "   ...\n",
            "   [2.49918381e+02 1.54285751e+02 4.94949265e+01]\n",
            "   [2.49311218e+02 1.59688828e+02 5.29285965e+01]\n",
            "   [2.49586716e+02 1.64556168e+02 5.61428909e+01]]\n",
            "\n",
            "  [[2.15688782e+02 1.74163254e+02 1.28591843e+02]\n",
            "   [2.24061218e+02 1.85928574e+02 1.40862259e+02]\n",
            "   [2.25729599e+02 1.89556122e+02 1.44500000e+02]\n",
            "   ...\n",
            "   [2.45857162e+02 1.46000015e+02 3.44438744e+01]\n",
            "   [2.45275528e+02 1.49372467e+02 3.77806473e+01]\n",
            "   [2.45785675e+02 1.52188843e+02 4.18571777e+01]]\n",
            "\n",
            "  [[2.19801025e+02 1.75785706e+02 1.26433670e+02]\n",
            "   [2.23785721e+02 1.81658173e+02 1.33158173e+02]\n",
            "   [2.26045914e+02 1.88306122e+02 1.41260208e+02]\n",
            "   ...\n",
            "   [2.47260193e+02 1.43428574e+02 2.79234562e+01]\n",
            "   [2.47000000e+02 1.42770401e+02 2.93877602e+01]\n",
            "   [2.44933640e+02 1.42076508e+02 3.15714283e+01]]\n",
            "\n",
            "  ...\n",
            "\n",
            "  [[1.48928543e+02 1.55505112e+02 1.92647995e+02]\n",
            "   [1.45372421e+02 1.54785736e+02 1.91071426e+02]\n",
            "   [1.44617340e+02 1.54260193e+02 1.93045914e+02]\n",
            "   ...\n",
            "   [2.27857056e+02 2.08408035e+02 1.47668198e+02]\n",
            "   [2.15403076e+02 1.88316315e+02 1.20648071e+02]\n",
            "   [2.18224564e+02 1.87729645e+02 1.29367447e+02]]\n",
            "\n",
            "  [[1.43663254e+02 1.55668365e+02 1.91000000e+02]\n",
            "   [1.42862228e+02 1.54862228e+02 1.92862228e+02]\n",
            "   [1.42214279e+02 1.56214279e+02 1.93214279e+02]\n",
            "   ...\n",
            "   [2.37255096e+02 2.17254974e+02 1.76183472e+02]\n",
            "   [2.24780579e+02 1.98913254e+02 1.41627487e+02]\n",
            "   [2.16948959e+02 1.89352066e+02 1.23443794e+02]]\n",
            "\n",
            "  [[1.44071503e+02 1.58071503e+02 1.95071503e+02]\n",
            "   [1.41428604e+02 1.55428604e+02 1.92428604e+02]\n",
            "   [1.40285645e+02 1.54285645e+02 1.91285645e+02]\n",
            "   ...\n",
            "   [2.45561295e+02 2.25632614e+02 1.97193848e+02]\n",
            "   [2.37311188e+02 2.12357208e+02 1.62142731e+02]\n",
            "   [2.19770401e+02 1.93127579e+02 1.22214111e+02]]]\n",
            "\n",
            "\n",
            " [[[1.95387756e+02 1.97387756e+02 1.58387756e+02]\n",
            "   [1.97214279e+02 1.99214279e+02 1.62214279e+02]\n",
            "   [2.06214294e+02 2.07642868e+02 1.76285721e+02]\n",
            "   ...\n",
            "   [1.87142792e+02 1.81280533e+02 1.58719299e+02]\n",
            "   [1.94515472e+02 1.89872620e+02 1.66801193e+02]\n",
            "   [2.13178421e+02 2.08178421e+02 1.87464127e+02]]\n",
            "\n",
            "  [[1.61719391e+02 1.63719391e+02 1.24719383e+02]\n",
            "   [1.85158157e+02 1.86295914e+02 1.51882660e+02]\n",
            "   [1.92239792e+02 1.93224487e+02 1.61484695e+02]\n",
            "   ...\n",
            "   [1.51433762e+02 1.48520477e+02 1.33234772e+02]\n",
            "   [1.54301010e+02 1.51505112e+02 1.34153061e+02]\n",
            "   [1.63740005e+02 1.61668579e+02 1.46382858e+02]]\n",
            "\n",
            "  [[9.38775558e+01 9.48775558e+01 6.13061218e+01]\n",
            "   [1.25581635e+02 1.26581635e+02 9.30102081e+01]\n",
            "   [1.40204086e+02 1.41204086e+02 1.09418365e+02]\n",
            "   ...\n",
            "   [8.85614319e+01 8.89899826e+01 8.20613708e+01]\n",
            "   [8.97245255e+01 9.09388123e+01 8.35816727e+01]\n",
            "   [9.68111191e+01 9.88162994e+01 9.11019821e+01]]\n",
            "\n",
            "  ...\n",
            "\n",
            "  [[1.37806442e+02 6.65206833e+01 1.10920887e+01]\n",
            "   [1.45025818e+02 7.24543457e+01 1.76686115e+01]\n",
            "   [1.44928970e+02 7.01891174e+01 1.62145920e+01]\n",
            "   ...\n",
            "   [6.43367081e+01 3.04285278e+01 3.85705566e+00]\n",
            "   [7.46887131e+01 3.86887131e+01 1.66887131e+01]\n",
            "   [7.32857666e+01 3.52857666e+01 1.62857666e+01]]\n",
            "\n",
            "  [[1.49790817e+02 7.58622742e+01 1.05765057e+01]\n",
            "   [1.64428574e+02 8.94948959e+01 2.42805748e+01]\n",
            "   [1.56658096e+02 8.14591217e+01 1.68570385e+01]\n",
            "   ...\n",
            "   [7.16735916e+01 3.68878517e+01 6.11748600e+00]\n",
            "   [7.93927536e+01 4.33927536e+01 1.93927517e+01]\n",
            "   [7.56635666e+01 3.86635666e+01 1.96635647e+01]]\n",
            "\n",
            "  [[1.60020477e+02 8.60204697e+01 1.23061171e+01]\n",
            "   [1.67556107e+02 9.35560989e+01 1.98417454e+01]\n",
            "   [1.64653320e+02 8.85768204e+01 1.57961082e+01]\n",
            "   ...\n",
            "   [6.66784134e+01 3.18926754e+01 2.29590893e-01]\n",
            "   [7.11990891e+01 3.51990891e+01 9.34197235e+00]\n",
            "   [8.79184036e+01 5.09184074e+01 3.19184074e+01]]]\n",
            "\n",
            "\n",
            " [[[1.06357140e+02 5.43571434e+01 5.83571434e+01]\n",
            "   [1.05071426e+02 5.30714264e+01 5.70714264e+01]\n",
            "   [1.03285713e+02 5.32857132e+01 5.58571396e+01]\n",
            "   ...\n",
            "   [1.65846893e+02 1.83418365e+02 1.83418365e+02]\n",
            "   [1.66642868e+02 1.84642868e+02 1.84642868e+02]\n",
            "   [1.67897980e+02 1.87897980e+02 1.86897980e+02]]\n",
            "\n",
            "  [[1.08882652e+02 5.38826523e+01 5.88826523e+01]\n",
            "   [1.05209183e+02 5.29948997e+01 5.70663261e+01]\n",
            "   [1.01071426e+02 5.09591827e+01 5.40153046e+01]\n",
            "   ...\n",
            "   [1.64974487e+02 1.82545959e+02 1.82331696e+02]\n",
            "   [1.68214294e+02 1.86214294e+02 1.86214294e+02]\n",
            "   [1.66734650e+02 1.86734650e+02 1.87734650e+02]]\n",
            "\n",
            "  [[1.02576530e+02 5.53520393e+01 5.80000000e+01]\n",
            "   [9.98979568e+01 5.52142868e+01 5.81836739e+01]\n",
            "   [9.69030609e+01 5.43826523e+01 5.90000000e+01]\n",
            "   ...\n",
            "   [1.67020447e+02 1.84591919e+02 1.84377655e+02]\n",
            "   [1.64729584e+02 1.82729584e+02 1.83158157e+02]\n",
            "   [1.68352173e+02 1.88352173e+02 1.89352173e+02]]\n",
            "\n",
            "  ...\n",
            "\n",
            "  [[1.61637756e+02 9.22805557e+01 6.06629086e+00]\n",
            "   [1.55158157e+02 8.58009491e+01 3.72425020e-01]\n",
            "   [1.60474442e+02 9.09794922e+01 5.64279175e+00]\n",
            "   ...\n",
            "   [1.15785736e+02 6.45714722e+01 1.22142639e+01]\n",
            "   [1.13928558e+02 6.29285583e+01 5.92855835e+00]\n",
            "   [1.13494911e+02 6.27091751e+01 5.28064728e+00]]\n",
            "\n",
            "  [[1.59974426e+02 8.79744186e+01 4.04586124e+00]\n",
            "   [1.61051041e+02 8.90510483e+01 5.05104303e+00]\n",
            "   [1.58785751e+02 8.87857513e+01 3.78575325e+00]\n",
            "   ...\n",
            "   [1.12770432e+02 6.15561638e+01 9.19895649e+00]\n",
            "   [1.14000000e+02 6.30000000e+01 9.86732483e+00]\n",
            "   [1.16357178e+02 6.53571777e+01 1.03571777e+01]]\n",
            "\n",
            "  [[1.52714325e+02 7.77143173e+01 0.00000000e+00]\n",
            "   [1.60045959e+02 8.68366699e+01 3.38262177e+00]\n",
            "   [1.60224442e+02 8.86530075e+01 4.43872070e+00]\n",
            "   ...\n",
            "   [1.13724533e+02 6.17245331e+01 1.17245331e+01]\n",
            "   [1.12974480e+02 6.19744835e+01 8.97448254e+00]\n",
            "   [1.14000000e+02 6.30000000e+01 1.00000000e+01]]]\n",
            "\n",
            "\n",
            " ...\n",
            "\n",
            "\n",
            " [[[2.10698990e+02 2.29714294e+02 2.20285721e+02]\n",
            "   [2.18051025e+02 2.25877548e+02 2.20285721e+02]\n",
            "   [2.25010193e+02 2.22709183e+02 2.22943878e+02]\n",
            "   ...\n",
            "   [1.13499084e+02 1.00927612e+02 8.37133484e+01]\n",
            "   [8.76583633e+01 7.26583633e+01 5.36583633e+01]\n",
            "   [1.28378098e+02 1.13378105e+02 9.43781052e+01]]\n",
            "\n",
            "  [[2.13214279e+02 2.29831619e+02 2.30280609e+02]\n",
            "   [2.18066330e+02 2.26147949e+02 2.27852036e+02]\n",
            "   [2.23469376e+02 2.26586731e+02 2.27714294e+02]\n",
            "   ...\n",
            "   [1.66841370e+02 1.55540283e+02 1.39213776e+02]\n",
            "   [9.64334335e+01 8.30201263e+01 6.70201263e+01]\n",
            "   [7.99951630e+01 6.39951630e+01 4.85920715e+01]]\n",
            "\n",
            "  [[1.84704086e+02 2.19418365e+02 2.26785721e+02]\n",
            "   [2.02178574e+02 2.23811234e+02 2.29341843e+02]\n",
            "   [2.17306122e+02 2.27642853e+02 2.29428574e+02]\n",
            "   ...\n",
            "   [1.95913010e+02 1.87127243e+02 1.72555847e+02]\n",
            "   [1.51948578e+02 1.37948578e+02 1.25377151e+02]\n",
            "   [8.64329529e+01 7.02186661e+01 5.78615265e+01]]\n",
            "\n",
            "  ...\n",
            "\n",
            "  [[8.58763885e+01 6.38763885e+01 5.05243149e+01]\n",
            "   [7.11675873e+01 5.00961571e+01 3.33104401e+01]\n",
            "   [9.41262436e+01 7.30803299e+01 5.52232285e+01]\n",
            "   ...\n",
            "   [2.86835480e+01 2.24692841e+01 1.14028778e+01]\n",
            "   [1.82602463e+01 1.20459833e+01 2.66331649e+00]\n",
            "   [2.28465290e+01 1.58465300e+01 7.86688423e+00]]\n",
            "\n",
            "  [[8.43116074e+01 5.80258446e+01 3.46686363e+01]\n",
            "   [9.29693832e+01 6.58213882e+01 4.44642029e+01]\n",
            "   [1.11423515e+02 8.52091904e+01 6.85663223e+01]\n",
            "   ...\n",
            "   [7.73828506e+01 6.72960434e+01 5.47399979e+01]\n",
            "   [8.21840439e+01 7.18982773e+01 6.19697151e+01]\n",
            "   [1.05391754e+02 9.50345459e+01 8.61774292e+01]]\n",
            "\n",
            "  [[9.37145615e+01 6.03573875e+01 2.63879051e+01]\n",
            "   [8.66730957e+01 5.46270752e+01 2.63617630e+01]\n",
            "   [9.02445984e+01 5.68210640e+01 3.85251274e+01]\n",
            "   ...\n",
            "   [4.59542503e+01 2.87348061e+01 1.81685448e+01]\n",
            "   [5.35093765e+01 3.41521988e+01 2.71521969e+01]\n",
            "   [3.79287796e+01 1.82144260e+01 1.25716028e+01]]]\n",
            "\n",
            "\n",
            " [[[1.66173477e+01 2.19744892e+01 1.39030609e+01]\n",
            "   [2.00102062e+01 2.50357170e+01 1.86020432e+01]\n",
            "   [1.44540815e+01 1.94540806e+01 1.47397957e+01]\n",
            "   ...\n",
            "   [8.72288895e+01 6.05868416e+01 2.45815735e+01]\n",
            "   [4.67601357e+01 6.35203590e+01 1.91428051e+01]\n",
            "   [4.89133110e+01 6.20254784e+01 2.16122341e+01]]\n",
            "\n",
            "  [[1.98673458e+01 2.90051022e+01 1.16734695e+01]\n",
            "   [1.85051022e+01 2.66428566e+01 1.10816326e+01]\n",
            "   [2.07857132e+01 2.88571415e+01 1.53163252e+01]\n",
            "   ...\n",
            "   [9.55757141e+01 6.00815315e+01 2.42803802e+01]\n",
            "   [5.77651596e+01 6.87754288e+01 2.55713234e+01]\n",
            "   [5.30766411e+01 6.05459862e+01 1.95255833e+01]]\n",
            "\n",
            "  [[2.70816326e+01 4.01428566e+01 1.50765314e+01]\n",
            "   [3.70204086e+01 4.91632652e+01 2.26632671e+01]\n",
            "   [3.46887741e+01 4.68316307e+01 2.04234676e+01]\n",
            "   ...\n",
            "   [1.14045021e+02 6.57495728e+01 2.98872738e+01]\n",
            "   [7.18875427e+01 7.30560303e+01 2.74284668e+01]\n",
            "   [5.60052834e+01 5.89184570e+01 1.65664577e+01]]\n",
            "\n",
            "  ...\n",
            "\n",
            "  [[1.43423447e+02 4.54949036e+01 5.85202026e+00]\n",
            "   [1.43000000e+02 4.35000153e+01 6.64284897e+00]\n",
            "   [1.37499985e+02 3.51428757e+01 2.18876839e+00]\n",
            "   ...\n",
            "   [1.70357147e+02 1.84357147e+02 4.57856750e+01]\n",
            "   [1.69658127e+02 1.84658127e+02 4.36581306e+01]\n",
            "   [1.66642822e+02 1.81642822e+02 3.86428223e+01]]\n",
            "\n",
            "  [[1.41693863e+02 4.65969505e+01 2.73977208e+00]\n",
            "   [1.43928589e+02 4.78571930e+01 5.92347097e+00]\n",
            "   [1.40295990e+02 4.19541817e+01 3.22962260e+00]\n",
            "   ...\n",
            "   [1.67127518e+02 1.81127518e+02 4.25560493e+01]\n",
            "   [1.67071381e+02 1.82071381e+02 4.10713806e+01]\n",
            "   [1.66045898e+02 1.81045898e+02 3.80459061e+01]]\n",
            "\n",
            "  [[1.38770416e+02 4.67704239e+01 6.88783944e-01]\n",
            "   [1.44311234e+02 5.19795914e+01 5.97450304e+00]\n",
            "   [1.44704086e+02 4.87806091e+01 6.41326761e+00]\n",
            "   ...\n",
            "   [1.64709152e+02 1.78709152e+02 4.01376801e+01]\n",
            "   [1.62071442e+02 1.77071442e+02 3.60714417e+01]\n",
            "   [1.62301056e+02 1.77301056e+02 3.43010559e+01]]]\n",
            "\n",
            "\n",
            " [[[5.58673477e+00 5.58673477e+00 3.58673477e+00]\n",
            "   [5.35714293e+00 5.35714293e+00 3.35714293e+00]\n",
            "   [6.49489784e+00 6.49489784e+00 4.49489784e+00]\n",
            "   ...\n",
            "   [1.51147903e+02 1.28086685e+02 1.20142876e+02]\n",
            "   [1.49959183e+02 1.29765335e+02 1.24362259e+02]\n",
            "   [1.49510147e+02 1.31096909e+02 1.27096909e+02]]\n",
            "\n",
            "  [[5.00000000e+00 5.00000000e+00 3.00000000e+00]\n",
            "   [4.13775444e+00 4.13775444e+00 2.13775468e+00]\n",
            "   [5.07142830e+00 5.07142830e+00 3.07142830e+00]\n",
            "   ...\n",
            "   [1.55443924e+02 1.30903168e+02 1.20816452e+02]\n",
            "   [1.57428528e+02 1.34846924e+02 1.28709152e+02]\n",
            "   [1.48311081e+02 1.28117279e+02 1.22714180e+02]]\n",
            "\n",
            "  [[6.21428585e+00 6.21428585e+00 4.21428585e+00]\n",
            "   [5.27040815e+00 5.27040815e+00 3.27040815e+00]\n",
            "   [5.00000000e+00 5.00000000e+00 3.00000000e+00]\n",
            "   ...\n",
            "   [1.53831696e+02 1.26617432e+02 1.15403168e+02]\n",
            "   [1.55698959e+02 1.31056137e+02 1.23341835e+02]\n",
            "   [1.54010147e+02 1.31852066e+02 1.25142853e+02]]\n",
            "\n",
            "  ...\n",
            "\n",
            "  [[1.12285713e+02 4.04999771e+01 1.48571863e+01]\n",
            "   [1.07285690e+02 3.62295685e+01 8.39793968e+00]\n",
            "   [1.20571426e+02 4.95714264e+01 2.08061562e+01]\n",
            "   ...\n",
            "   [2.32188553e+02 1.91402817e+02 1.29402817e+02]\n",
            "   [2.24913193e+02 1.84127457e+02 1.22127457e+02]\n",
            "   [2.24280472e+02 1.83494736e+02 1.21494728e+02]]\n",
            "\n",
            "  [[1.14571419e+02 4.25714149e+01 1.75714149e+01]\n",
            "   [1.07209183e+02 3.52091827e+01 1.02091818e+01]\n",
            "   [1.17413231e+02 4.63571014e+01 1.85255013e+01]\n",
            "   ...\n",
            "   [2.25413162e+02 1.83413162e+02 1.23413162e+02]\n",
            "   [2.25000000e+02 1.83000000e+02 1.23000000e+02]\n",
            "   [2.26382690e+02 1.84382690e+02 1.24382698e+02]]\n",
            "\n",
            "  [[1.12744942e+02 4.27449417e+01 1.77449436e+01]\n",
            "   [1.09117447e+02 3.91174469e+01 1.31174488e+01]\n",
            "   [1.17137848e+02 4.73521385e+01 2.07092800e+01]\n",
            "   ...\n",
            "   [2.19714172e+02 1.77714172e+02 1.19714172e+02]\n",
            "   [2.22974487e+02 1.80974487e+02 1.22974480e+02]\n",
            "   [2.25071533e+02 1.83071533e+02 1.25071533e+02]]]], shape=(32, 224, 224, 3), dtype=float32) tf.Tensor(\n",
            "[[1. 0. 0. 0. 0. 0. 0. 0. 0. 0.]\n",
            " [0. 1. 0. 0. 0. 0. 0. 0. 0. 0.]\n",
            " [0. 0. 0. 0. 0. 0. 0. 1. 0. 0.]\n",
            " [0. 0. 0. 0. 0. 1. 0. 0. 0. 0.]\n",
            " [1. 0. 0. 0. 0. 0. 0. 0. 0. 0.]\n",
            " [0. 0. 1. 0. 0. 0. 0. 0. 0. 0.]\n",
            " [0. 1. 0. 0. 0. 0. 0. 0. 0. 0.]\n",
            " [0. 0. 0. 0. 0. 0. 0. 0. 1. 0.]\n",
            " [0. 0. 0. 0. 0. 0. 0. 1. 0. 0.]\n",
            " [1. 0. 0. 0. 0. 0. 0. 0. 0. 0.]\n",
            " [0. 0. 0. 0. 0. 0. 0. 0. 1. 0.]\n",
            " [0. 0. 0. 0. 0. 0. 1. 0. 0. 0.]\n",
            " [0. 0. 0. 0. 0. 1. 0. 0. 0. 0.]\n",
            " [0. 0. 0. 0. 0. 0. 0. 0. 0. 1.]\n",
            " [0. 1. 0. 0. 0. 0. 0. 0. 0. 0.]\n",
            " [1. 0. 0. 0. 0. 0. 0. 0. 0. 0.]\n",
            " [1. 0. 0. 0. 0. 0. 0. 0. 0. 0.]\n",
            " [0. 1. 0. 0. 0. 0. 0. 0. 0. 0.]\n",
            " [0. 1. 0. 0. 0. 0. 0. 0. 0. 0.]\n",
            " [0. 0. 0. 1. 0. 0. 0. 0. 0. 0.]\n",
            " [0. 0. 0. 0. 0. 0. 0. 1. 0. 0.]\n",
            " [0. 0. 0. 0. 1. 0. 0. 0. 0. 0.]\n",
            " [0. 0. 0. 0. 0. 0. 1. 0. 0. 0.]\n",
            " [0. 0. 0. 0. 0. 1. 0. 0. 0. 0.]\n",
            " [0. 0. 0. 0. 0. 0. 1. 0. 0. 0.]\n",
            " [0. 0. 0. 0. 0. 0. 0. 1. 0. 0.]\n",
            " [0. 0. 0. 0. 0. 1. 0. 0. 0. 0.]\n",
            " [0. 0. 0. 1. 0. 0. 0. 0. 0. 0.]\n",
            " [0. 1. 0. 0. 0. 0. 0. 0. 0. 0.]\n",
            " [0. 0. 0. 0. 0. 0. 0. 1. 0. 0.]\n",
            " [0. 0. 0. 0. 0. 0. 0. 1. 0. 0.]\n",
            " [0. 1. 0. 0. 0. 0. 0. 0. 0. 0.]], shape=(32, 10), dtype=float32)\n"
          ],
          "name": "stdout"
        }
      ]
    },
    {
      "cell_type": "code",
      "metadata": {
        "colab": {
          "base_uri": "https://localhost:8080/"
        },
        "id": "royEmvHFRgnd",
        "outputId": "65d0099d-b69c-43a3-8ea5-467a0cd17f7e"
      },
      "source": [
        " base_model = tf.keras.applications.EfficientNetB0(include_top=False)\n",
        "\n",
        " base_model.trainable = False\n",
        "\n",
        " inputs = tf.keras.layers.Input(shape=(224 , 224 , 3) , name=\"input_layer\")\n",
        "\n",
        " #x = tf.keras.layers.experimental.preprocessing.Rescaling(1/255)(inputs)\n",
        "\n",
        " x = base_model(inputs)\n",
        " print(f\"shape after passing nput through base model : {x.shape}\")\n",
        "\n",
        " x =tf.keras.layers.GlobalAveragePooling2D(name=\"global_average_pooling_layer\")(x)\n",
        " print(f\"shape after passing GlobalAveragePooling : {x.shape}\")\n",
        "\n",
        " outputs= tf.keras.layers.Dense(10 , activation=\"softmax\" , name = \"output_layer\")(x)\n",
        "\n",
        " model_0 = tf.keras.Model(inputs , outputs)\n",
        "\n",
        " model_0.compile(loss= \"categorical_crossentropy\" , \n",
        "                 optimizer = tf.keras.optimizers.Adam() , \n",
        "                 metrics=[\"accuracy\"])\n",
        " \n",
        " history_10_percent = model_0.fit(train_data_10_percent , \n",
        "             epochs = 5 , \n",
        "             steps_per_epoch = len(train_data_10_percent) , \n",
        "             validation_data = test_data , \n",
        "             validation_steps = int(0.25*len(test_data)) , \n",
        "             callbacks= [create_tensorboard_callback(dir_name=\"transfer_learning\" , \n",
        "                                                     experiment_name = \"10_percent_feature_extraction\")]\n",
        "              )"
      ],
      "execution_count": 11,
      "outputs": [
        {
          "output_type": "stream",
          "text": [
            "Downloading data from https://storage.googleapis.com/keras-applications/efficientnetb0_notop.h5\n",
            "16711680/16705208 [==============================] - 0s 0us/step\n",
            "shape after passing nput through base model : (None, 7, 7, 1280)\n",
            "shape after passing GlobalAveragePooling : (None, 1280)\n",
            "Saving TensorBoard log files to: transfer_learning/10_percent_feature_extraction/20210713-155503\n",
            "Epoch 1/5\n"
          ],
          "name": "stdout"
        },
        {
          "output_type": "stream",
          "text": [
            "/usr/local/lib/python3.7/dist-packages/tensorflow/python/keras/utils/generic_utils.py:497: CustomMaskWarning: Custom mask layers require a config and must override get_config. When loading, the custom mask layer must be passed to the custom_objects argument.\n",
            "  category=CustomMaskWarning)\n"
          ],
          "name": "stderr"
        },
        {
          "output_type": "stream",
          "text": [
            "24/24 [==============================] - 42s 308ms/step - loss: 1.8992 - accuracy: 0.4147 - val_loss: 1.3302 - val_accuracy: 0.7319\n",
            "Epoch 2/5\n",
            "24/24 [==============================] - 5s 197ms/step - loss: 1.1457 - accuracy: 0.7360 - val_loss: 0.9271 - val_accuracy: 0.7763\n",
            "Epoch 3/5\n",
            "24/24 [==============================] - 5s 197ms/step - loss: 0.8364 - accuracy: 0.8000 - val_loss: 0.7497 - val_accuracy: 0.8306\n",
            "Epoch 4/5\n",
            "24/24 [==============================] - 5s 206ms/step - loss: 0.6840 - accuracy: 0.8440 - val_loss: 0.6966 - val_accuracy: 0.8207\n",
            "Epoch 5/5\n",
            "24/24 [==============================] - 5s 197ms/step - loss: 0.5954 - accuracy: 0.8587 - val_loss: 0.6294 - val_accuracy: 0.8421\n"
          ],
          "name": "stdout"
        }
      ]
    },
    {
      "cell_type": "code",
      "metadata": {
        "colab": {
          "base_uri": "https://localhost:8080/"
        },
        "id": "s1y_QVglVFLg",
        "outputId": "99d15b15-18f2-4993-e996-ddf82565f679"
      },
      "source": [
        "model_0.evaluate(test_data)"
      ],
      "execution_count": 12,
      "outputs": [
        {
          "output_type": "stream",
          "text": [
            "79/79 [==============================] - 9s 111ms/step - loss: 0.6118 - accuracy: 0.8388\n"
          ],
          "name": "stdout"
        },
        {
          "output_type": "execute_result",
          "data": {
            "text/plain": [
              "[0.6117696166038513, 0.8388000130653381]"
            ]
          },
          "metadata": {
            "tags": []
          },
          "execution_count": 12
        }
      ]
    },
    {
      "cell_type": "code",
      "metadata": {
        "colab": {
          "base_uri": "https://localhost:8080/"
        },
        "id": "eevdQCShVZ-L",
        "outputId": "56429202-e846-40a0-ec83-7119e22244b4"
      },
      "source": [
        "for layer_number , layer in enumerate(base_model.layers):\n",
        "  \n",
        "  print(layer_number , layer.name)"
      ],
      "execution_count": 13,
      "outputs": [
        {
          "output_type": "stream",
          "text": [
            "0 input_1\n",
            "1 rescaling\n",
            "2 normalization\n",
            "3 stem_conv_pad\n",
            "4 stem_conv\n",
            "5 stem_bn\n",
            "6 stem_activation\n",
            "7 block1a_dwconv\n",
            "8 block1a_bn\n",
            "9 block1a_activation\n",
            "10 block1a_se_squeeze\n",
            "11 block1a_se_reshape\n",
            "12 block1a_se_reduce\n",
            "13 block1a_se_expand\n",
            "14 block1a_se_excite\n",
            "15 block1a_project_conv\n",
            "16 block1a_project_bn\n",
            "17 block2a_expand_conv\n",
            "18 block2a_expand_bn\n",
            "19 block2a_expand_activation\n",
            "20 block2a_dwconv_pad\n",
            "21 block2a_dwconv\n",
            "22 block2a_bn\n",
            "23 block2a_activation\n",
            "24 block2a_se_squeeze\n",
            "25 block2a_se_reshape\n",
            "26 block2a_se_reduce\n",
            "27 block2a_se_expand\n",
            "28 block2a_se_excite\n",
            "29 block2a_project_conv\n",
            "30 block2a_project_bn\n",
            "31 block2b_expand_conv\n",
            "32 block2b_expand_bn\n",
            "33 block2b_expand_activation\n",
            "34 block2b_dwconv\n",
            "35 block2b_bn\n",
            "36 block2b_activation\n",
            "37 block2b_se_squeeze\n",
            "38 block2b_se_reshape\n",
            "39 block2b_se_reduce\n",
            "40 block2b_se_expand\n",
            "41 block2b_se_excite\n",
            "42 block2b_project_conv\n",
            "43 block2b_project_bn\n",
            "44 block2b_drop\n",
            "45 block2b_add\n",
            "46 block3a_expand_conv\n",
            "47 block3a_expand_bn\n",
            "48 block3a_expand_activation\n",
            "49 block3a_dwconv_pad\n",
            "50 block3a_dwconv\n",
            "51 block3a_bn\n",
            "52 block3a_activation\n",
            "53 block3a_se_squeeze\n",
            "54 block3a_se_reshape\n",
            "55 block3a_se_reduce\n",
            "56 block3a_se_expand\n",
            "57 block3a_se_excite\n",
            "58 block3a_project_conv\n",
            "59 block3a_project_bn\n",
            "60 block3b_expand_conv\n",
            "61 block3b_expand_bn\n",
            "62 block3b_expand_activation\n",
            "63 block3b_dwconv\n",
            "64 block3b_bn\n",
            "65 block3b_activation\n",
            "66 block3b_se_squeeze\n",
            "67 block3b_se_reshape\n",
            "68 block3b_se_reduce\n",
            "69 block3b_se_expand\n",
            "70 block3b_se_excite\n",
            "71 block3b_project_conv\n",
            "72 block3b_project_bn\n",
            "73 block3b_drop\n",
            "74 block3b_add\n",
            "75 block4a_expand_conv\n",
            "76 block4a_expand_bn\n",
            "77 block4a_expand_activation\n",
            "78 block4a_dwconv_pad\n",
            "79 block4a_dwconv\n",
            "80 block4a_bn\n",
            "81 block4a_activation\n",
            "82 block4a_se_squeeze\n",
            "83 block4a_se_reshape\n",
            "84 block4a_se_reduce\n",
            "85 block4a_se_expand\n",
            "86 block4a_se_excite\n",
            "87 block4a_project_conv\n",
            "88 block4a_project_bn\n",
            "89 block4b_expand_conv\n",
            "90 block4b_expand_bn\n",
            "91 block4b_expand_activation\n",
            "92 block4b_dwconv\n",
            "93 block4b_bn\n",
            "94 block4b_activation\n",
            "95 block4b_se_squeeze\n",
            "96 block4b_se_reshape\n",
            "97 block4b_se_reduce\n",
            "98 block4b_se_expand\n",
            "99 block4b_se_excite\n",
            "100 block4b_project_conv\n",
            "101 block4b_project_bn\n",
            "102 block4b_drop\n",
            "103 block4b_add\n",
            "104 block4c_expand_conv\n",
            "105 block4c_expand_bn\n",
            "106 block4c_expand_activation\n",
            "107 block4c_dwconv\n",
            "108 block4c_bn\n",
            "109 block4c_activation\n",
            "110 block4c_se_squeeze\n",
            "111 block4c_se_reshape\n",
            "112 block4c_se_reduce\n",
            "113 block4c_se_expand\n",
            "114 block4c_se_excite\n",
            "115 block4c_project_conv\n",
            "116 block4c_project_bn\n",
            "117 block4c_drop\n",
            "118 block4c_add\n",
            "119 block5a_expand_conv\n",
            "120 block5a_expand_bn\n",
            "121 block5a_expand_activation\n",
            "122 block5a_dwconv\n",
            "123 block5a_bn\n",
            "124 block5a_activation\n",
            "125 block5a_se_squeeze\n",
            "126 block5a_se_reshape\n",
            "127 block5a_se_reduce\n",
            "128 block5a_se_expand\n",
            "129 block5a_se_excite\n",
            "130 block5a_project_conv\n",
            "131 block5a_project_bn\n",
            "132 block5b_expand_conv\n",
            "133 block5b_expand_bn\n",
            "134 block5b_expand_activation\n",
            "135 block5b_dwconv\n",
            "136 block5b_bn\n",
            "137 block5b_activation\n",
            "138 block5b_se_squeeze\n",
            "139 block5b_se_reshape\n",
            "140 block5b_se_reduce\n",
            "141 block5b_se_expand\n",
            "142 block5b_se_excite\n",
            "143 block5b_project_conv\n",
            "144 block5b_project_bn\n",
            "145 block5b_drop\n",
            "146 block5b_add\n",
            "147 block5c_expand_conv\n",
            "148 block5c_expand_bn\n",
            "149 block5c_expand_activation\n",
            "150 block5c_dwconv\n",
            "151 block5c_bn\n",
            "152 block5c_activation\n",
            "153 block5c_se_squeeze\n",
            "154 block5c_se_reshape\n",
            "155 block5c_se_reduce\n",
            "156 block5c_se_expand\n",
            "157 block5c_se_excite\n",
            "158 block5c_project_conv\n",
            "159 block5c_project_bn\n",
            "160 block5c_drop\n",
            "161 block5c_add\n",
            "162 block6a_expand_conv\n",
            "163 block6a_expand_bn\n",
            "164 block6a_expand_activation\n",
            "165 block6a_dwconv_pad\n",
            "166 block6a_dwconv\n",
            "167 block6a_bn\n",
            "168 block6a_activation\n",
            "169 block6a_se_squeeze\n",
            "170 block6a_se_reshape\n",
            "171 block6a_se_reduce\n",
            "172 block6a_se_expand\n",
            "173 block6a_se_excite\n",
            "174 block6a_project_conv\n",
            "175 block6a_project_bn\n",
            "176 block6b_expand_conv\n",
            "177 block6b_expand_bn\n",
            "178 block6b_expand_activation\n",
            "179 block6b_dwconv\n",
            "180 block6b_bn\n",
            "181 block6b_activation\n",
            "182 block6b_se_squeeze\n",
            "183 block6b_se_reshape\n",
            "184 block6b_se_reduce\n",
            "185 block6b_se_expand\n",
            "186 block6b_se_excite\n",
            "187 block6b_project_conv\n",
            "188 block6b_project_bn\n",
            "189 block6b_drop\n",
            "190 block6b_add\n",
            "191 block6c_expand_conv\n",
            "192 block6c_expand_bn\n",
            "193 block6c_expand_activation\n",
            "194 block6c_dwconv\n",
            "195 block6c_bn\n",
            "196 block6c_activation\n",
            "197 block6c_se_squeeze\n",
            "198 block6c_se_reshape\n",
            "199 block6c_se_reduce\n",
            "200 block6c_se_expand\n",
            "201 block6c_se_excite\n",
            "202 block6c_project_conv\n",
            "203 block6c_project_bn\n",
            "204 block6c_drop\n",
            "205 block6c_add\n",
            "206 block6d_expand_conv\n",
            "207 block6d_expand_bn\n",
            "208 block6d_expand_activation\n",
            "209 block6d_dwconv\n",
            "210 block6d_bn\n",
            "211 block6d_activation\n",
            "212 block6d_se_squeeze\n",
            "213 block6d_se_reshape\n",
            "214 block6d_se_reduce\n",
            "215 block6d_se_expand\n",
            "216 block6d_se_excite\n",
            "217 block6d_project_conv\n",
            "218 block6d_project_bn\n",
            "219 block6d_drop\n",
            "220 block6d_add\n",
            "221 block7a_expand_conv\n",
            "222 block7a_expand_bn\n",
            "223 block7a_expand_activation\n",
            "224 block7a_dwconv\n",
            "225 block7a_bn\n",
            "226 block7a_activation\n",
            "227 block7a_se_squeeze\n",
            "228 block7a_se_reshape\n",
            "229 block7a_se_reduce\n",
            "230 block7a_se_expand\n",
            "231 block7a_se_excite\n",
            "232 block7a_project_conv\n",
            "233 block7a_project_bn\n",
            "234 top_conv\n",
            "235 top_bn\n",
            "236 top_activation\n"
          ],
          "name": "stdout"
        }
      ]
    },
    {
      "cell_type": "code",
      "metadata": {
        "colab": {
          "base_uri": "https://localhost:8080/"
        },
        "id": "1I01HDT5Vp-D",
        "outputId": "5ac35de1-411a-422c-e9db-ac50f6eb592b"
      },
      "source": [
        "model_0.summary()"
      ],
      "execution_count": 14,
      "outputs": [
        {
          "output_type": "stream",
          "text": [
            "Model: \"model\"\n",
            "_________________________________________________________________\n",
            "Layer (type)                 Output Shape              Param #   \n",
            "=================================================================\n",
            "input_layer (InputLayer)     [(None, 224, 224, 3)]     0         \n",
            "_________________________________________________________________\n",
            "efficientnetb0 (Functional)  (None, None, None, 1280)  4049571   \n",
            "_________________________________________________________________\n",
            "global_average_pooling_layer (None, 1280)              0         \n",
            "_________________________________________________________________\n",
            "output_layer (Dense)         (None, 10)                12810     \n",
            "=================================================================\n",
            "Total params: 4,062,381\n",
            "Trainable params: 12,810\n",
            "Non-trainable params: 4,049,571\n",
            "_________________________________________________________________\n"
          ],
          "name": "stdout"
        }
      ]
    },
    {
      "cell_type": "code",
      "metadata": {
        "colab": {
          "base_uri": "https://localhost:8080/"
        },
        "id": "YfjEqYitVsEN",
        "outputId": "239ac499-07de-499d-a28a-079833997334"
      },
      "source": [
        "base_model.summary()"
      ],
      "execution_count": 15,
      "outputs": [
        {
          "output_type": "stream",
          "text": [
            "Model: \"efficientnetb0\"\n",
            "__________________________________________________________________________________________________\n",
            "Layer (type)                    Output Shape         Param #     Connected to                     \n",
            "==================================================================================================\n",
            "input_1 (InputLayer)            [(None, None, None,  0                                            \n",
            "__________________________________________________________________________________________________\n",
            "rescaling (Rescaling)           (None, None, None, 3 0           input_1[0][0]                    \n",
            "__________________________________________________________________________________________________\n",
            "normalization (Normalization)   (None, None, None, 3 7           rescaling[0][0]                  \n",
            "__________________________________________________________________________________________________\n",
            "stem_conv_pad (ZeroPadding2D)   (None, None, None, 3 0           normalization[0][0]              \n",
            "__________________________________________________________________________________________________\n",
            "stem_conv (Conv2D)              (None, None, None, 3 864         stem_conv_pad[0][0]              \n",
            "__________________________________________________________________________________________________\n",
            "stem_bn (BatchNormalization)    (None, None, None, 3 128         stem_conv[0][0]                  \n",
            "__________________________________________________________________________________________________\n",
            "stem_activation (Activation)    (None, None, None, 3 0           stem_bn[0][0]                    \n",
            "__________________________________________________________________________________________________\n",
            "block1a_dwconv (DepthwiseConv2D (None, None, None, 3 288         stem_activation[0][0]            \n",
            "__________________________________________________________________________________________________\n",
            "block1a_bn (BatchNormalization) (None, None, None, 3 128         block1a_dwconv[0][0]             \n",
            "__________________________________________________________________________________________________\n",
            "block1a_activation (Activation) (None, None, None, 3 0           block1a_bn[0][0]                 \n",
            "__________________________________________________________________________________________________\n",
            "block1a_se_squeeze (GlobalAvera (None, 32)           0           block1a_activation[0][0]         \n",
            "__________________________________________________________________________________________________\n",
            "block1a_se_reshape (Reshape)    (None, 1, 1, 32)     0           block1a_se_squeeze[0][0]         \n",
            "__________________________________________________________________________________________________\n",
            "block1a_se_reduce (Conv2D)      (None, 1, 1, 8)      264         block1a_se_reshape[0][0]         \n",
            "__________________________________________________________________________________________________\n",
            "block1a_se_expand (Conv2D)      (None, 1, 1, 32)     288         block1a_se_reduce[0][0]          \n",
            "__________________________________________________________________________________________________\n",
            "block1a_se_excite (Multiply)    (None, None, None, 3 0           block1a_activation[0][0]         \n",
            "                                                                 block1a_se_expand[0][0]          \n",
            "__________________________________________________________________________________________________\n",
            "block1a_project_conv (Conv2D)   (None, None, None, 1 512         block1a_se_excite[0][0]          \n",
            "__________________________________________________________________________________________________\n",
            "block1a_project_bn (BatchNormal (None, None, None, 1 64          block1a_project_conv[0][0]       \n",
            "__________________________________________________________________________________________________\n",
            "block2a_expand_conv (Conv2D)    (None, None, None, 9 1536        block1a_project_bn[0][0]         \n",
            "__________________________________________________________________________________________________\n",
            "block2a_expand_bn (BatchNormali (None, None, None, 9 384         block2a_expand_conv[0][0]        \n",
            "__________________________________________________________________________________________________\n",
            "block2a_expand_activation (Acti (None, None, None, 9 0           block2a_expand_bn[0][0]          \n",
            "__________________________________________________________________________________________________\n",
            "block2a_dwconv_pad (ZeroPadding (None, None, None, 9 0           block2a_expand_activation[0][0]  \n",
            "__________________________________________________________________________________________________\n",
            "block2a_dwconv (DepthwiseConv2D (None, None, None, 9 864         block2a_dwconv_pad[0][0]         \n",
            "__________________________________________________________________________________________________\n",
            "block2a_bn (BatchNormalization) (None, None, None, 9 384         block2a_dwconv[0][0]             \n",
            "__________________________________________________________________________________________________\n",
            "block2a_activation (Activation) (None, None, None, 9 0           block2a_bn[0][0]                 \n",
            "__________________________________________________________________________________________________\n",
            "block2a_se_squeeze (GlobalAvera (None, 96)           0           block2a_activation[0][0]         \n",
            "__________________________________________________________________________________________________\n",
            "block2a_se_reshape (Reshape)    (None, 1, 1, 96)     0           block2a_se_squeeze[0][0]         \n",
            "__________________________________________________________________________________________________\n",
            "block2a_se_reduce (Conv2D)      (None, 1, 1, 4)      388         block2a_se_reshape[0][0]         \n",
            "__________________________________________________________________________________________________\n",
            "block2a_se_expand (Conv2D)      (None, 1, 1, 96)     480         block2a_se_reduce[0][0]          \n",
            "__________________________________________________________________________________________________\n",
            "block2a_se_excite (Multiply)    (None, None, None, 9 0           block2a_activation[0][0]         \n",
            "                                                                 block2a_se_expand[0][0]          \n",
            "__________________________________________________________________________________________________\n",
            "block2a_project_conv (Conv2D)   (None, None, None, 2 2304        block2a_se_excite[0][0]          \n",
            "__________________________________________________________________________________________________\n",
            "block2a_project_bn (BatchNormal (None, None, None, 2 96          block2a_project_conv[0][0]       \n",
            "__________________________________________________________________________________________________\n",
            "block2b_expand_conv (Conv2D)    (None, None, None, 1 3456        block2a_project_bn[0][0]         \n",
            "__________________________________________________________________________________________________\n",
            "block2b_expand_bn (BatchNormali (None, None, None, 1 576         block2b_expand_conv[0][0]        \n",
            "__________________________________________________________________________________________________\n",
            "block2b_expand_activation (Acti (None, None, None, 1 0           block2b_expand_bn[0][0]          \n",
            "__________________________________________________________________________________________________\n",
            "block2b_dwconv (DepthwiseConv2D (None, None, None, 1 1296        block2b_expand_activation[0][0]  \n",
            "__________________________________________________________________________________________________\n",
            "block2b_bn (BatchNormalization) (None, None, None, 1 576         block2b_dwconv[0][0]             \n",
            "__________________________________________________________________________________________________\n",
            "block2b_activation (Activation) (None, None, None, 1 0           block2b_bn[0][0]                 \n",
            "__________________________________________________________________________________________________\n",
            "block2b_se_squeeze (GlobalAvera (None, 144)          0           block2b_activation[0][0]         \n",
            "__________________________________________________________________________________________________\n",
            "block2b_se_reshape (Reshape)    (None, 1, 1, 144)    0           block2b_se_squeeze[0][0]         \n",
            "__________________________________________________________________________________________________\n",
            "block2b_se_reduce (Conv2D)      (None, 1, 1, 6)      870         block2b_se_reshape[0][0]         \n",
            "__________________________________________________________________________________________________\n",
            "block2b_se_expand (Conv2D)      (None, 1, 1, 144)    1008        block2b_se_reduce[0][0]          \n",
            "__________________________________________________________________________________________________\n",
            "block2b_se_excite (Multiply)    (None, None, None, 1 0           block2b_activation[0][0]         \n",
            "                                                                 block2b_se_expand[0][0]          \n",
            "__________________________________________________________________________________________________\n",
            "block2b_project_conv (Conv2D)   (None, None, None, 2 3456        block2b_se_excite[0][0]          \n",
            "__________________________________________________________________________________________________\n",
            "block2b_project_bn (BatchNormal (None, None, None, 2 96          block2b_project_conv[0][0]       \n",
            "__________________________________________________________________________________________________\n",
            "block2b_drop (Dropout)          (None, None, None, 2 0           block2b_project_bn[0][0]         \n",
            "__________________________________________________________________________________________________\n",
            "block2b_add (Add)               (None, None, None, 2 0           block2b_drop[0][0]               \n",
            "                                                                 block2a_project_bn[0][0]         \n",
            "__________________________________________________________________________________________________\n",
            "block3a_expand_conv (Conv2D)    (None, None, None, 1 3456        block2b_add[0][0]                \n",
            "__________________________________________________________________________________________________\n",
            "block3a_expand_bn (BatchNormali (None, None, None, 1 576         block3a_expand_conv[0][0]        \n",
            "__________________________________________________________________________________________________\n",
            "block3a_expand_activation (Acti (None, None, None, 1 0           block3a_expand_bn[0][0]          \n",
            "__________________________________________________________________________________________________\n",
            "block3a_dwconv_pad (ZeroPadding (None, None, None, 1 0           block3a_expand_activation[0][0]  \n",
            "__________________________________________________________________________________________________\n",
            "block3a_dwconv (DepthwiseConv2D (None, None, None, 1 3600        block3a_dwconv_pad[0][0]         \n",
            "__________________________________________________________________________________________________\n",
            "block3a_bn (BatchNormalization) (None, None, None, 1 576         block3a_dwconv[0][0]             \n",
            "__________________________________________________________________________________________________\n",
            "block3a_activation (Activation) (None, None, None, 1 0           block3a_bn[0][0]                 \n",
            "__________________________________________________________________________________________________\n",
            "block3a_se_squeeze (GlobalAvera (None, 144)          0           block3a_activation[0][0]         \n",
            "__________________________________________________________________________________________________\n",
            "block3a_se_reshape (Reshape)    (None, 1, 1, 144)    0           block3a_se_squeeze[0][0]         \n",
            "__________________________________________________________________________________________________\n",
            "block3a_se_reduce (Conv2D)      (None, 1, 1, 6)      870         block3a_se_reshape[0][0]         \n",
            "__________________________________________________________________________________________________\n",
            "block3a_se_expand (Conv2D)      (None, 1, 1, 144)    1008        block3a_se_reduce[0][0]          \n",
            "__________________________________________________________________________________________________\n",
            "block3a_se_excite (Multiply)    (None, None, None, 1 0           block3a_activation[0][0]         \n",
            "                                                                 block3a_se_expand[0][0]          \n",
            "__________________________________________________________________________________________________\n",
            "block3a_project_conv (Conv2D)   (None, None, None, 4 5760        block3a_se_excite[0][0]          \n",
            "__________________________________________________________________________________________________\n",
            "block3a_project_bn (BatchNormal (None, None, None, 4 160         block3a_project_conv[0][0]       \n",
            "__________________________________________________________________________________________________\n",
            "block3b_expand_conv (Conv2D)    (None, None, None, 2 9600        block3a_project_bn[0][0]         \n",
            "__________________________________________________________________________________________________\n",
            "block3b_expand_bn (BatchNormali (None, None, None, 2 960         block3b_expand_conv[0][0]        \n",
            "__________________________________________________________________________________________________\n",
            "block3b_expand_activation (Acti (None, None, None, 2 0           block3b_expand_bn[0][0]          \n",
            "__________________________________________________________________________________________________\n",
            "block3b_dwconv (DepthwiseConv2D (None, None, None, 2 6000        block3b_expand_activation[0][0]  \n",
            "__________________________________________________________________________________________________\n",
            "block3b_bn (BatchNormalization) (None, None, None, 2 960         block3b_dwconv[0][0]             \n",
            "__________________________________________________________________________________________________\n",
            "block3b_activation (Activation) (None, None, None, 2 0           block3b_bn[0][0]                 \n",
            "__________________________________________________________________________________________________\n",
            "block3b_se_squeeze (GlobalAvera (None, 240)          0           block3b_activation[0][0]         \n",
            "__________________________________________________________________________________________________\n",
            "block3b_se_reshape (Reshape)    (None, 1, 1, 240)    0           block3b_se_squeeze[0][0]         \n",
            "__________________________________________________________________________________________________\n",
            "block3b_se_reduce (Conv2D)      (None, 1, 1, 10)     2410        block3b_se_reshape[0][0]         \n",
            "__________________________________________________________________________________________________\n",
            "block3b_se_expand (Conv2D)      (None, 1, 1, 240)    2640        block3b_se_reduce[0][0]          \n",
            "__________________________________________________________________________________________________\n",
            "block3b_se_excite (Multiply)    (None, None, None, 2 0           block3b_activation[0][0]         \n",
            "                                                                 block3b_se_expand[0][0]          \n",
            "__________________________________________________________________________________________________\n",
            "block3b_project_conv (Conv2D)   (None, None, None, 4 9600        block3b_se_excite[0][0]          \n",
            "__________________________________________________________________________________________________\n",
            "block3b_project_bn (BatchNormal (None, None, None, 4 160         block3b_project_conv[0][0]       \n",
            "__________________________________________________________________________________________________\n",
            "block3b_drop (Dropout)          (None, None, None, 4 0           block3b_project_bn[0][0]         \n",
            "__________________________________________________________________________________________________\n",
            "block3b_add (Add)               (None, None, None, 4 0           block3b_drop[0][0]               \n",
            "                                                                 block3a_project_bn[0][0]         \n",
            "__________________________________________________________________________________________________\n",
            "block4a_expand_conv (Conv2D)    (None, None, None, 2 9600        block3b_add[0][0]                \n",
            "__________________________________________________________________________________________________\n",
            "block4a_expand_bn (BatchNormali (None, None, None, 2 960         block4a_expand_conv[0][0]        \n",
            "__________________________________________________________________________________________________\n",
            "block4a_expand_activation (Acti (None, None, None, 2 0           block4a_expand_bn[0][0]          \n",
            "__________________________________________________________________________________________________\n",
            "block4a_dwconv_pad (ZeroPadding (None, None, None, 2 0           block4a_expand_activation[0][0]  \n",
            "__________________________________________________________________________________________________\n",
            "block4a_dwconv (DepthwiseConv2D (None, None, None, 2 2160        block4a_dwconv_pad[0][0]         \n",
            "__________________________________________________________________________________________________\n",
            "block4a_bn (BatchNormalization) (None, None, None, 2 960         block4a_dwconv[0][0]             \n",
            "__________________________________________________________________________________________________\n",
            "block4a_activation (Activation) (None, None, None, 2 0           block4a_bn[0][0]                 \n",
            "__________________________________________________________________________________________________\n",
            "block4a_se_squeeze (GlobalAvera (None, 240)          0           block4a_activation[0][0]         \n",
            "__________________________________________________________________________________________________\n",
            "block4a_se_reshape (Reshape)    (None, 1, 1, 240)    0           block4a_se_squeeze[0][0]         \n",
            "__________________________________________________________________________________________________\n",
            "block4a_se_reduce (Conv2D)      (None, 1, 1, 10)     2410        block4a_se_reshape[0][0]         \n",
            "__________________________________________________________________________________________________\n",
            "block4a_se_expand (Conv2D)      (None, 1, 1, 240)    2640        block4a_se_reduce[0][0]          \n",
            "__________________________________________________________________________________________________\n",
            "block4a_se_excite (Multiply)    (None, None, None, 2 0           block4a_activation[0][0]         \n",
            "                                                                 block4a_se_expand[0][0]          \n",
            "__________________________________________________________________________________________________\n",
            "block4a_project_conv (Conv2D)   (None, None, None, 8 19200       block4a_se_excite[0][0]          \n",
            "__________________________________________________________________________________________________\n",
            "block4a_project_bn (BatchNormal (None, None, None, 8 320         block4a_project_conv[0][0]       \n",
            "__________________________________________________________________________________________________\n",
            "block4b_expand_conv (Conv2D)    (None, None, None, 4 38400       block4a_project_bn[0][0]         \n",
            "__________________________________________________________________________________________________\n",
            "block4b_expand_bn (BatchNormali (None, None, None, 4 1920        block4b_expand_conv[0][0]        \n",
            "__________________________________________________________________________________________________\n",
            "block4b_expand_activation (Acti (None, None, None, 4 0           block4b_expand_bn[0][0]          \n",
            "__________________________________________________________________________________________________\n",
            "block4b_dwconv (DepthwiseConv2D (None, None, None, 4 4320        block4b_expand_activation[0][0]  \n",
            "__________________________________________________________________________________________________\n",
            "block4b_bn (BatchNormalization) (None, None, None, 4 1920        block4b_dwconv[0][0]             \n",
            "__________________________________________________________________________________________________\n",
            "block4b_activation (Activation) (None, None, None, 4 0           block4b_bn[0][0]                 \n",
            "__________________________________________________________________________________________________\n",
            "block4b_se_squeeze (GlobalAvera (None, 480)          0           block4b_activation[0][0]         \n",
            "__________________________________________________________________________________________________\n",
            "block4b_se_reshape (Reshape)    (None, 1, 1, 480)    0           block4b_se_squeeze[0][0]         \n",
            "__________________________________________________________________________________________________\n",
            "block4b_se_reduce (Conv2D)      (None, 1, 1, 20)     9620        block4b_se_reshape[0][0]         \n",
            "__________________________________________________________________________________________________\n",
            "block4b_se_expand (Conv2D)      (None, 1, 1, 480)    10080       block4b_se_reduce[0][0]          \n",
            "__________________________________________________________________________________________________\n",
            "block4b_se_excite (Multiply)    (None, None, None, 4 0           block4b_activation[0][0]         \n",
            "                                                                 block4b_se_expand[0][0]          \n",
            "__________________________________________________________________________________________________\n",
            "block4b_project_conv (Conv2D)   (None, None, None, 8 38400       block4b_se_excite[0][0]          \n",
            "__________________________________________________________________________________________________\n",
            "block4b_project_bn (BatchNormal (None, None, None, 8 320         block4b_project_conv[0][0]       \n",
            "__________________________________________________________________________________________________\n",
            "block4b_drop (Dropout)          (None, None, None, 8 0           block4b_project_bn[0][0]         \n",
            "__________________________________________________________________________________________________\n",
            "block4b_add (Add)               (None, None, None, 8 0           block4b_drop[0][0]               \n",
            "                                                                 block4a_project_bn[0][0]         \n",
            "__________________________________________________________________________________________________\n",
            "block4c_expand_conv (Conv2D)    (None, None, None, 4 38400       block4b_add[0][0]                \n",
            "__________________________________________________________________________________________________\n",
            "block4c_expand_bn (BatchNormali (None, None, None, 4 1920        block4c_expand_conv[0][0]        \n",
            "__________________________________________________________________________________________________\n",
            "block4c_expand_activation (Acti (None, None, None, 4 0           block4c_expand_bn[0][0]          \n",
            "__________________________________________________________________________________________________\n",
            "block4c_dwconv (DepthwiseConv2D (None, None, None, 4 4320        block4c_expand_activation[0][0]  \n",
            "__________________________________________________________________________________________________\n",
            "block4c_bn (BatchNormalization) (None, None, None, 4 1920        block4c_dwconv[0][0]             \n",
            "__________________________________________________________________________________________________\n",
            "block4c_activation (Activation) (None, None, None, 4 0           block4c_bn[0][0]                 \n",
            "__________________________________________________________________________________________________\n",
            "block4c_se_squeeze (GlobalAvera (None, 480)          0           block4c_activation[0][0]         \n",
            "__________________________________________________________________________________________________\n",
            "block4c_se_reshape (Reshape)    (None, 1, 1, 480)    0           block4c_se_squeeze[0][0]         \n",
            "__________________________________________________________________________________________________\n",
            "block4c_se_reduce (Conv2D)      (None, 1, 1, 20)     9620        block4c_se_reshape[0][0]         \n",
            "__________________________________________________________________________________________________\n",
            "block4c_se_expand (Conv2D)      (None, 1, 1, 480)    10080       block4c_se_reduce[0][0]          \n",
            "__________________________________________________________________________________________________\n",
            "block4c_se_excite (Multiply)    (None, None, None, 4 0           block4c_activation[0][0]         \n",
            "                                                                 block4c_se_expand[0][0]          \n",
            "__________________________________________________________________________________________________\n",
            "block4c_project_conv (Conv2D)   (None, None, None, 8 38400       block4c_se_excite[0][0]          \n",
            "__________________________________________________________________________________________________\n",
            "block4c_project_bn (BatchNormal (None, None, None, 8 320         block4c_project_conv[0][0]       \n",
            "__________________________________________________________________________________________________\n",
            "block4c_drop (Dropout)          (None, None, None, 8 0           block4c_project_bn[0][0]         \n",
            "__________________________________________________________________________________________________\n",
            "block4c_add (Add)               (None, None, None, 8 0           block4c_drop[0][0]               \n",
            "                                                                 block4b_add[0][0]                \n",
            "__________________________________________________________________________________________________\n",
            "block5a_expand_conv (Conv2D)    (None, None, None, 4 38400       block4c_add[0][0]                \n",
            "__________________________________________________________________________________________________\n",
            "block5a_expand_bn (BatchNormali (None, None, None, 4 1920        block5a_expand_conv[0][0]        \n",
            "__________________________________________________________________________________________________\n",
            "block5a_expand_activation (Acti (None, None, None, 4 0           block5a_expand_bn[0][0]          \n",
            "__________________________________________________________________________________________________\n",
            "block5a_dwconv (DepthwiseConv2D (None, None, None, 4 12000       block5a_expand_activation[0][0]  \n",
            "__________________________________________________________________________________________________\n",
            "block5a_bn (BatchNormalization) (None, None, None, 4 1920        block5a_dwconv[0][0]             \n",
            "__________________________________________________________________________________________________\n",
            "block5a_activation (Activation) (None, None, None, 4 0           block5a_bn[0][0]                 \n",
            "__________________________________________________________________________________________________\n",
            "block5a_se_squeeze (GlobalAvera (None, 480)          0           block5a_activation[0][0]         \n",
            "__________________________________________________________________________________________________\n",
            "block5a_se_reshape (Reshape)    (None, 1, 1, 480)    0           block5a_se_squeeze[0][0]         \n",
            "__________________________________________________________________________________________________\n",
            "block5a_se_reduce (Conv2D)      (None, 1, 1, 20)     9620        block5a_se_reshape[0][0]         \n",
            "__________________________________________________________________________________________________\n",
            "block5a_se_expand (Conv2D)      (None, 1, 1, 480)    10080       block5a_se_reduce[0][0]          \n",
            "__________________________________________________________________________________________________\n",
            "block5a_se_excite (Multiply)    (None, None, None, 4 0           block5a_activation[0][0]         \n",
            "                                                                 block5a_se_expand[0][0]          \n",
            "__________________________________________________________________________________________________\n",
            "block5a_project_conv (Conv2D)   (None, None, None, 1 53760       block5a_se_excite[0][0]          \n",
            "__________________________________________________________________________________________________\n",
            "block5a_project_bn (BatchNormal (None, None, None, 1 448         block5a_project_conv[0][0]       \n",
            "__________________________________________________________________________________________________\n",
            "block5b_expand_conv (Conv2D)    (None, None, None, 6 75264       block5a_project_bn[0][0]         \n",
            "__________________________________________________________________________________________________\n",
            "block5b_expand_bn (BatchNormali (None, None, None, 6 2688        block5b_expand_conv[0][0]        \n",
            "__________________________________________________________________________________________________\n",
            "block5b_expand_activation (Acti (None, None, None, 6 0           block5b_expand_bn[0][0]          \n",
            "__________________________________________________________________________________________________\n",
            "block5b_dwconv (DepthwiseConv2D (None, None, None, 6 16800       block5b_expand_activation[0][0]  \n",
            "__________________________________________________________________________________________________\n",
            "block5b_bn (BatchNormalization) (None, None, None, 6 2688        block5b_dwconv[0][0]             \n",
            "__________________________________________________________________________________________________\n",
            "block5b_activation (Activation) (None, None, None, 6 0           block5b_bn[0][0]                 \n",
            "__________________________________________________________________________________________________\n",
            "block5b_se_squeeze (GlobalAvera (None, 672)          0           block5b_activation[0][0]         \n",
            "__________________________________________________________________________________________________\n",
            "block5b_se_reshape (Reshape)    (None, 1, 1, 672)    0           block5b_se_squeeze[0][0]         \n",
            "__________________________________________________________________________________________________\n",
            "block5b_se_reduce (Conv2D)      (None, 1, 1, 28)     18844       block5b_se_reshape[0][0]         \n",
            "__________________________________________________________________________________________________\n",
            "block5b_se_expand (Conv2D)      (None, 1, 1, 672)    19488       block5b_se_reduce[0][0]          \n",
            "__________________________________________________________________________________________________\n",
            "block5b_se_excite (Multiply)    (None, None, None, 6 0           block5b_activation[0][0]         \n",
            "                                                                 block5b_se_expand[0][0]          \n",
            "__________________________________________________________________________________________________\n",
            "block5b_project_conv (Conv2D)   (None, None, None, 1 75264       block5b_se_excite[0][0]          \n",
            "__________________________________________________________________________________________________\n",
            "block5b_project_bn (BatchNormal (None, None, None, 1 448         block5b_project_conv[0][0]       \n",
            "__________________________________________________________________________________________________\n",
            "block5b_drop (Dropout)          (None, None, None, 1 0           block5b_project_bn[0][0]         \n",
            "__________________________________________________________________________________________________\n",
            "block5b_add (Add)               (None, None, None, 1 0           block5b_drop[0][0]               \n",
            "                                                                 block5a_project_bn[0][0]         \n",
            "__________________________________________________________________________________________________\n",
            "block5c_expand_conv (Conv2D)    (None, None, None, 6 75264       block5b_add[0][0]                \n",
            "__________________________________________________________________________________________________\n",
            "block5c_expand_bn (BatchNormali (None, None, None, 6 2688        block5c_expand_conv[0][0]        \n",
            "__________________________________________________________________________________________________\n",
            "block5c_expand_activation (Acti (None, None, None, 6 0           block5c_expand_bn[0][0]          \n",
            "__________________________________________________________________________________________________\n",
            "block5c_dwconv (DepthwiseConv2D (None, None, None, 6 16800       block5c_expand_activation[0][0]  \n",
            "__________________________________________________________________________________________________\n",
            "block5c_bn (BatchNormalization) (None, None, None, 6 2688        block5c_dwconv[0][0]             \n",
            "__________________________________________________________________________________________________\n",
            "block5c_activation (Activation) (None, None, None, 6 0           block5c_bn[0][0]                 \n",
            "__________________________________________________________________________________________________\n",
            "block5c_se_squeeze (GlobalAvera (None, 672)          0           block5c_activation[0][0]         \n",
            "__________________________________________________________________________________________________\n",
            "block5c_se_reshape (Reshape)    (None, 1, 1, 672)    0           block5c_se_squeeze[0][0]         \n",
            "__________________________________________________________________________________________________\n",
            "block5c_se_reduce (Conv2D)      (None, 1, 1, 28)     18844       block5c_se_reshape[0][0]         \n",
            "__________________________________________________________________________________________________\n",
            "block5c_se_expand (Conv2D)      (None, 1, 1, 672)    19488       block5c_se_reduce[0][0]          \n",
            "__________________________________________________________________________________________________\n",
            "block5c_se_excite (Multiply)    (None, None, None, 6 0           block5c_activation[0][0]         \n",
            "                                                                 block5c_se_expand[0][0]          \n",
            "__________________________________________________________________________________________________\n",
            "block5c_project_conv (Conv2D)   (None, None, None, 1 75264       block5c_se_excite[0][0]          \n",
            "__________________________________________________________________________________________________\n",
            "block5c_project_bn (BatchNormal (None, None, None, 1 448         block5c_project_conv[0][0]       \n",
            "__________________________________________________________________________________________________\n",
            "block5c_drop (Dropout)          (None, None, None, 1 0           block5c_project_bn[0][0]         \n",
            "__________________________________________________________________________________________________\n",
            "block5c_add (Add)               (None, None, None, 1 0           block5c_drop[0][0]               \n",
            "                                                                 block5b_add[0][0]                \n",
            "__________________________________________________________________________________________________\n",
            "block6a_expand_conv (Conv2D)    (None, None, None, 6 75264       block5c_add[0][0]                \n",
            "__________________________________________________________________________________________________\n",
            "block6a_expand_bn (BatchNormali (None, None, None, 6 2688        block6a_expand_conv[0][0]        \n",
            "__________________________________________________________________________________________________\n",
            "block6a_expand_activation (Acti (None, None, None, 6 0           block6a_expand_bn[0][0]          \n",
            "__________________________________________________________________________________________________\n",
            "block6a_dwconv_pad (ZeroPadding (None, None, None, 6 0           block6a_expand_activation[0][0]  \n",
            "__________________________________________________________________________________________________\n",
            "block6a_dwconv (DepthwiseConv2D (None, None, None, 6 16800       block6a_dwconv_pad[0][0]         \n",
            "__________________________________________________________________________________________________\n",
            "block6a_bn (BatchNormalization) (None, None, None, 6 2688        block6a_dwconv[0][0]             \n",
            "__________________________________________________________________________________________________\n",
            "block6a_activation (Activation) (None, None, None, 6 0           block6a_bn[0][0]                 \n",
            "__________________________________________________________________________________________________\n",
            "block6a_se_squeeze (GlobalAvera (None, 672)          0           block6a_activation[0][0]         \n",
            "__________________________________________________________________________________________________\n",
            "block6a_se_reshape (Reshape)    (None, 1, 1, 672)    0           block6a_se_squeeze[0][0]         \n",
            "__________________________________________________________________________________________________\n",
            "block6a_se_reduce (Conv2D)      (None, 1, 1, 28)     18844       block6a_se_reshape[0][0]         \n",
            "__________________________________________________________________________________________________\n",
            "block6a_se_expand (Conv2D)      (None, 1, 1, 672)    19488       block6a_se_reduce[0][0]          \n",
            "__________________________________________________________________________________________________\n",
            "block6a_se_excite (Multiply)    (None, None, None, 6 0           block6a_activation[0][0]         \n",
            "                                                                 block6a_se_expand[0][0]          \n",
            "__________________________________________________________________________________________________\n",
            "block6a_project_conv (Conv2D)   (None, None, None, 1 129024      block6a_se_excite[0][0]          \n",
            "__________________________________________________________________________________________________\n",
            "block6a_project_bn (BatchNormal (None, None, None, 1 768         block6a_project_conv[0][0]       \n",
            "__________________________________________________________________________________________________\n",
            "block6b_expand_conv (Conv2D)    (None, None, None, 1 221184      block6a_project_bn[0][0]         \n",
            "__________________________________________________________________________________________________\n",
            "block6b_expand_bn (BatchNormali (None, None, None, 1 4608        block6b_expand_conv[0][0]        \n",
            "__________________________________________________________________________________________________\n",
            "block6b_expand_activation (Acti (None, None, None, 1 0           block6b_expand_bn[0][0]          \n",
            "__________________________________________________________________________________________________\n",
            "block6b_dwconv (DepthwiseConv2D (None, None, None, 1 28800       block6b_expand_activation[0][0]  \n",
            "__________________________________________________________________________________________________\n",
            "block6b_bn (BatchNormalization) (None, None, None, 1 4608        block6b_dwconv[0][0]             \n",
            "__________________________________________________________________________________________________\n",
            "block6b_activation (Activation) (None, None, None, 1 0           block6b_bn[0][0]                 \n",
            "__________________________________________________________________________________________________\n",
            "block6b_se_squeeze (GlobalAvera (None, 1152)         0           block6b_activation[0][0]         \n",
            "__________________________________________________________________________________________________\n",
            "block6b_se_reshape (Reshape)    (None, 1, 1, 1152)   0           block6b_se_squeeze[0][0]         \n",
            "__________________________________________________________________________________________________\n",
            "block6b_se_reduce (Conv2D)      (None, 1, 1, 48)     55344       block6b_se_reshape[0][0]         \n",
            "__________________________________________________________________________________________________\n",
            "block6b_se_expand (Conv2D)      (None, 1, 1, 1152)   56448       block6b_se_reduce[0][0]          \n",
            "__________________________________________________________________________________________________\n",
            "block6b_se_excite (Multiply)    (None, None, None, 1 0           block6b_activation[0][0]         \n",
            "                                                                 block6b_se_expand[0][0]          \n",
            "__________________________________________________________________________________________________\n",
            "block6b_project_conv (Conv2D)   (None, None, None, 1 221184      block6b_se_excite[0][0]          \n",
            "__________________________________________________________________________________________________\n",
            "block6b_project_bn (BatchNormal (None, None, None, 1 768         block6b_project_conv[0][0]       \n",
            "__________________________________________________________________________________________________\n",
            "block6b_drop (Dropout)          (None, None, None, 1 0           block6b_project_bn[0][0]         \n",
            "__________________________________________________________________________________________________\n",
            "block6b_add (Add)               (None, None, None, 1 0           block6b_drop[0][0]               \n",
            "                                                                 block6a_project_bn[0][0]         \n",
            "__________________________________________________________________________________________________\n",
            "block6c_expand_conv (Conv2D)    (None, None, None, 1 221184      block6b_add[0][0]                \n",
            "__________________________________________________________________________________________________\n",
            "block6c_expand_bn (BatchNormali (None, None, None, 1 4608        block6c_expand_conv[0][0]        \n",
            "__________________________________________________________________________________________________\n",
            "block6c_expand_activation (Acti (None, None, None, 1 0           block6c_expand_bn[0][0]          \n",
            "__________________________________________________________________________________________________\n",
            "block6c_dwconv (DepthwiseConv2D (None, None, None, 1 28800       block6c_expand_activation[0][0]  \n",
            "__________________________________________________________________________________________________\n",
            "block6c_bn (BatchNormalization) (None, None, None, 1 4608        block6c_dwconv[0][0]             \n",
            "__________________________________________________________________________________________________\n",
            "block6c_activation (Activation) (None, None, None, 1 0           block6c_bn[0][0]                 \n",
            "__________________________________________________________________________________________________\n",
            "block6c_se_squeeze (GlobalAvera (None, 1152)         0           block6c_activation[0][0]         \n",
            "__________________________________________________________________________________________________\n",
            "block6c_se_reshape (Reshape)    (None, 1, 1, 1152)   0           block6c_se_squeeze[0][0]         \n",
            "__________________________________________________________________________________________________\n",
            "block6c_se_reduce (Conv2D)      (None, 1, 1, 48)     55344       block6c_se_reshape[0][0]         \n",
            "__________________________________________________________________________________________________\n",
            "block6c_se_expand (Conv2D)      (None, 1, 1, 1152)   56448       block6c_se_reduce[0][0]          \n",
            "__________________________________________________________________________________________________\n",
            "block6c_se_excite (Multiply)    (None, None, None, 1 0           block6c_activation[0][0]         \n",
            "                                                                 block6c_se_expand[0][0]          \n",
            "__________________________________________________________________________________________________\n",
            "block6c_project_conv (Conv2D)   (None, None, None, 1 221184      block6c_se_excite[0][0]          \n",
            "__________________________________________________________________________________________________\n",
            "block6c_project_bn (BatchNormal (None, None, None, 1 768         block6c_project_conv[0][0]       \n",
            "__________________________________________________________________________________________________\n",
            "block6c_drop (Dropout)          (None, None, None, 1 0           block6c_project_bn[0][0]         \n",
            "__________________________________________________________________________________________________\n",
            "block6c_add (Add)               (None, None, None, 1 0           block6c_drop[0][0]               \n",
            "                                                                 block6b_add[0][0]                \n",
            "__________________________________________________________________________________________________\n",
            "block6d_expand_conv (Conv2D)    (None, None, None, 1 221184      block6c_add[0][0]                \n",
            "__________________________________________________________________________________________________\n",
            "block6d_expand_bn (BatchNormali (None, None, None, 1 4608        block6d_expand_conv[0][0]        \n",
            "__________________________________________________________________________________________________\n",
            "block6d_expand_activation (Acti (None, None, None, 1 0           block6d_expand_bn[0][0]          \n",
            "__________________________________________________________________________________________________\n",
            "block6d_dwconv (DepthwiseConv2D (None, None, None, 1 28800       block6d_expand_activation[0][0]  \n",
            "__________________________________________________________________________________________________\n",
            "block6d_bn (BatchNormalization) (None, None, None, 1 4608        block6d_dwconv[0][0]             \n",
            "__________________________________________________________________________________________________\n",
            "block6d_activation (Activation) (None, None, None, 1 0           block6d_bn[0][0]                 \n",
            "__________________________________________________________________________________________________\n",
            "block6d_se_squeeze (GlobalAvera (None, 1152)         0           block6d_activation[0][0]         \n",
            "__________________________________________________________________________________________________\n",
            "block6d_se_reshape (Reshape)    (None, 1, 1, 1152)   0           block6d_se_squeeze[0][0]         \n",
            "__________________________________________________________________________________________________\n",
            "block6d_se_reduce (Conv2D)      (None, 1, 1, 48)     55344       block6d_se_reshape[0][0]         \n",
            "__________________________________________________________________________________________________\n",
            "block6d_se_expand (Conv2D)      (None, 1, 1, 1152)   56448       block6d_se_reduce[0][0]          \n",
            "__________________________________________________________________________________________________\n",
            "block6d_se_excite (Multiply)    (None, None, None, 1 0           block6d_activation[0][0]         \n",
            "                                                                 block6d_se_expand[0][0]          \n",
            "__________________________________________________________________________________________________\n",
            "block6d_project_conv (Conv2D)   (None, None, None, 1 221184      block6d_se_excite[0][0]          \n",
            "__________________________________________________________________________________________________\n",
            "block6d_project_bn (BatchNormal (None, None, None, 1 768         block6d_project_conv[0][0]       \n",
            "__________________________________________________________________________________________________\n",
            "block6d_drop (Dropout)          (None, None, None, 1 0           block6d_project_bn[0][0]         \n",
            "__________________________________________________________________________________________________\n",
            "block6d_add (Add)               (None, None, None, 1 0           block6d_drop[0][0]               \n",
            "                                                                 block6c_add[0][0]                \n",
            "__________________________________________________________________________________________________\n",
            "block7a_expand_conv (Conv2D)    (None, None, None, 1 221184      block6d_add[0][0]                \n",
            "__________________________________________________________________________________________________\n",
            "block7a_expand_bn (BatchNormali (None, None, None, 1 4608        block7a_expand_conv[0][0]        \n",
            "__________________________________________________________________________________________________\n",
            "block7a_expand_activation (Acti (None, None, None, 1 0           block7a_expand_bn[0][0]          \n",
            "__________________________________________________________________________________________________\n",
            "block7a_dwconv (DepthwiseConv2D (None, None, None, 1 10368       block7a_expand_activation[0][0]  \n",
            "__________________________________________________________________________________________________\n",
            "block7a_bn (BatchNormalization) (None, None, None, 1 4608        block7a_dwconv[0][0]             \n",
            "__________________________________________________________________________________________________\n",
            "block7a_activation (Activation) (None, None, None, 1 0           block7a_bn[0][0]                 \n",
            "__________________________________________________________________________________________________\n",
            "block7a_se_squeeze (GlobalAvera (None, 1152)         0           block7a_activation[0][0]         \n",
            "__________________________________________________________________________________________________\n",
            "block7a_se_reshape (Reshape)    (None, 1, 1, 1152)   0           block7a_se_squeeze[0][0]         \n",
            "__________________________________________________________________________________________________\n",
            "block7a_se_reduce (Conv2D)      (None, 1, 1, 48)     55344       block7a_se_reshape[0][0]         \n",
            "__________________________________________________________________________________________________\n",
            "block7a_se_expand (Conv2D)      (None, 1, 1, 1152)   56448       block7a_se_reduce[0][0]          \n",
            "__________________________________________________________________________________________________\n",
            "block7a_se_excite (Multiply)    (None, None, None, 1 0           block7a_activation[0][0]         \n",
            "                                                                 block7a_se_expand[0][0]          \n",
            "__________________________________________________________________________________________________\n",
            "block7a_project_conv (Conv2D)   (None, None, None, 3 368640      block7a_se_excite[0][0]          \n",
            "__________________________________________________________________________________________________\n",
            "block7a_project_bn (BatchNormal (None, None, None, 3 1280        block7a_project_conv[0][0]       \n",
            "__________________________________________________________________________________________________\n",
            "top_conv (Conv2D)               (None, None, None, 1 409600      block7a_project_bn[0][0]         \n",
            "__________________________________________________________________________________________________\n",
            "top_bn (BatchNormalization)     (None, None, None, 1 5120        top_conv[0][0]                   \n",
            "__________________________________________________________________________________________________\n",
            "top_activation (Activation)     (None, None, None, 1 0           top_bn[0][0]                     \n",
            "==================================================================================================\n",
            "Total params: 4,049,571\n",
            "Trainable params: 0\n",
            "Non-trainable params: 4,049,571\n",
            "__________________________________________________________________________________________________\n"
          ],
          "name": "stdout"
        }
      ]
    },
    {
      "cell_type": "code",
      "metadata": {
        "colab": {
          "base_uri": "https://localhost:8080/",
          "height": 573
        },
        "id": "K28A2BsgVzpD",
        "outputId": "53e97191-435e-478b-9d54-7066cf139786"
      },
      "source": [
        " plot_loss_curves(history_10_percent)"
      ],
      "execution_count": 16,
      "outputs": [
        {
          "output_type": "display_data",
          "data": {
            "image/png": "[encoded data removed]",
            "text/plain": [
              "<Figure size 432x288 with 1 Axes>"
            ]
          },
          "metadata": {
            "tags": [],
            "needs_background": "light"
          }
        },
        {
          "output_type": "display_data",
          "data": {
            "image/png": "[encoded data removed]",
            "text/plain": [
              "<Figure size 432x288 with 1 Axes>"
            ]
          },
          "metadata": {
            "tags": [],
            "needs_background": "light"
          }
        }
      ]
    },
    {
      "cell_type": "code",
      "metadata": {
        "colab": {
          "base_uri": "https://localhost:8080/"
        },
        "id": "UlyRp5weWjBj",
        "outputId": "34d45447-aef8-474f-c81e-948534977812"
      },
      "source": [
        "input_shape = (1 ,4 , 4 , 3)\n",
        "\n",
        "tf.random.set_seed(42)\n",
        "input_tensor = tf.random.normal(input_shape)\n",
        "print(f\"random input tensor \\n {input_tensor}\")"
      ],
      "execution_count": 17,
      "outputs": [
        {
          "output_type": "stream",
          "text": [
            "random input tensor \n",
            " [[[[ 0.3274685  -0.8426258   0.3194337 ]\n",
            "   [-1.4075519  -2.3880599  -1.0392479 ]\n",
            "   [-0.5573232   0.539707    1.6994323 ]\n",
            "   [ 0.28893656 -1.5066116  -0.2645474 ]]\n",
            "\n",
            "  [[-0.59722406 -1.9171132  -0.62044144]\n",
            "   [ 0.8504023  -0.40604794 -3.0258412 ]\n",
            "   [ 0.9058464   0.29855987 -0.22561555]\n",
            "   [-0.7616443  -1.8917141  -0.93847126]]\n",
            "\n",
            "  [[ 0.77852213 -0.47338897  0.97772694]\n",
            "   [ 0.24694404  0.20573747 -0.5256233 ]\n",
            "   [ 0.32410017  0.02545409 -0.10638497]\n",
            "   [-0.6369475   1.1603122   0.2507359 ]]\n",
            "\n",
            "  [[-0.41728503  0.4012578  -1.4145443 ]\n",
            "   [-0.5931857  -1.6617213   0.33567193]\n",
            "   [ 0.10815629  0.23479682 -0.56668764]\n",
            "   [-0.35819843  0.88698614  0.52744764]]]]\n"
          ],
          "name": "stdout"
        }
      ]
    },
    {
      "cell_type": "code",
      "metadata": {
        "colab": {
          "base_uri": "https://localhost:8080/"
        },
        "id": "l19VcczSZgKA",
        "outputId": "31237614-6982-4cbb-cc7b-9f2ad6334fa1"
      },
      "source": [
        "input_shape = (1 , 4 , 4, 3)\n",
        "\n",
        "tf.random.set_seed(42)\n",
        "input_tensor = tf.random.normal(input_shape)\n",
        "print(f\"random input tensor \\n {input_tensor}\")\n",
        "\n",
        "global_average_pooled_tensor = tf.keras.layers.GlobalAveragePooling2D()(input_tensor)\n",
        "print(f\"global average pooled tensor \\n {global_average_pooled_tensor}\")"
      ],
      "execution_count": 18,
      "outputs": [
        {
          "output_type": "stream",
          "text": [
            "random input tensor \n",
            " [[[[ 0.3274685  -0.8426258   0.3194337 ]\n",
            "   [-1.4075519  -2.3880599  -1.0392479 ]\n",
            "   [-0.5573232   0.539707    1.6994323 ]\n",
            "   [ 0.28893656 -1.5066116  -0.2645474 ]]\n",
            "\n",
            "  [[-0.59722406 -1.9171132  -0.62044144]\n",
            "   [ 0.8504023  -0.40604794 -3.0258412 ]\n",
            "   [ 0.9058464   0.29855987 -0.22561555]\n",
            "   [-0.7616443  -1.8917141  -0.93847126]]\n",
            "\n",
            "  [[ 0.77852213 -0.47338897  0.97772694]\n",
            "   [ 0.24694404  0.20573747 -0.5256233 ]\n",
            "   [ 0.32410017  0.02545409 -0.10638497]\n",
            "   [-0.6369475   1.1603122   0.2507359 ]]\n",
            "\n",
            "  [[-0.41728503  0.4012578  -1.4145443 ]\n",
            "   [-0.5931857  -1.6617213   0.33567193]\n",
            "   [ 0.10815629  0.23479682 -0.56668764]\n",
            "   [-0.35819843  0.88698614  0.52744764]]]]\n",
            "global average pooled tensor \n",
            " [[-0.09368646 -0.45840448 -0.2885598 ]]\n"
          ],
          "name": "stdout"
        }
      ]
    },
    {
      "cell_type": "code",
      "metadata": {
        "colab": {
          "base_uri": "https://localhost:8080/"
        },
        "id": "Yu7S2jnAZ4Gl",
        "outputId": "29ef28b5-f148-426b-fe40-2caaff1ff36d"
      },
      "source": [
        "!wget https://storage.googleapis.com/ztm_tf_course/food_vision/10_food_classes_1_percent.zip\n",
        "\n",
        "unzip_data(\"10_food_classes_1_percent.zip\")"
      ],
      "execution_count": 19,
      "outputs": [
        {
          "output_type": "stream",
          "text": [
            "--2021-07-13 15:56:25--  https://storage.googleapis.com/ztm_tf_course/food_vision/10_food_classes_1_percent.zip\n",
            "Resolving storage.googleapis.com (storage.googleapis.com)... 74.125.135.128, 74.125.142.128, 74.125.195.128, ...\n",
            "Connecting to storage.googleapis.com (storage.googleapis.com)|74.125.135.128|:443... connected.\n",
            "HTTP request sent, awaiting response... 200 OK\n",
            "Length: 133612354 (127M) [application/zip]\n",
            "Saving to: ‘10_food_classes_1_percent.zip’\n",
            "\n",
            "10_food_classes_1_p 100%[===================>] 127.42M   208MB/s    in 0.6s    \n",
            "\n",
            "2021-07-13 15:56:26 (208 MB/s) - ‘10_food_classes_1_percent.zip’ saved [133612354/133612354]\n",
            "\n"
          ],
          "name": "stdout"
        }
      ]
    },
    {
      "cell_type": "code",
      "metadata": {
        "id": "-roYvQFCcFQ1"
      },
      "source": [
        "train_dir_1_percent = \"10_food_classes_1_percent/train\"\n",
        "test_dir = \"10_food_classes_1_percent/test\""
      ],
      "execution_count": 20,
      "outputs": []
    },
    {
      "cell_type": "code",
      "metadata": {
        "colab": {
          "base_uri": "https://localhost:8080/"
        },
        "id": "IApGfO0tc5EK",
        "outputId": "d49cf8cb-db1a-4024-e9a9-04b483626ee6"
      },
      "source": [
        "walk_through_dir(\"10_food_classes_1_percent\")"
      ],
      "execution_count": 21,
      "outputs": [
        {
          "output_type": "stream",
          "text": [
            "There are 2 directories and 0 images in '10_food_classes_1_percent'.\n",
            "There are 10 directories and 0 images in '10_food_classes_1_percent/train'.\n",
            "There are 0 directories and 7 images in '10_food_classes_1_percent/train/steak'.\n",
            "There are 0 directories and 7 images in '10_food_classes_1_percent/train/chicken_curry'.\n",
            "There are 0 directories and 7 images in '10_food_classes_1_percent/train/hamburger'.\n",
            "There are 0 directories and 7 images in '10_food_classes_1_percent/train/ice_cream'.\n",
            "There are 0 directories and 7 images in '10_food_classes_1_percent/train/chicken_wings'.\n",
            "There are 0 directories and 7 images in '10_food_classes_1_percent/train/grilled_salmon'.\n",
            "There are 0 directories and 7 images in '10_food_classes_1_percent/train/sushi'.\n",
            "There are 0 directories and 7 images in '10_food_classes_1_percent/train/fried_rice'.\n",
            "There are 0 directories and 7 images in '10_food_classes_1_percent/train/pizza'.\n",
            "There are 0 directories and 7 images in '10_food_classes_1_percent/train/ramen'.\n",
            "There are 10 directories and 0 images in '10_food_classes_1_percent/test'.\n",
            "There are 0 directories and 250 images in '10_food_classes_1_percent/test/steak'.\n",
            "There are 0 directories and 250 images in '10_food_classes_1_percent/test/chicken_curry'.\n",
            "There are 0 directories and 250 images in '10_food_classes_1_percent/test/hamburger'.\n",
            "There are 0 directories and 250 images in '10_food_classes_1_percent/test/ice_cream'.\n",
            "There are 0 directories and 250 images in '10_food_classes_1_percent/test/chicken_wings'.\n",
            "There are 0 directories and 250 images in '10_food_classes_1_percent/test/grilled_salmon'.\n",
            "There are 0 directories and 250 images in '10_food_classes_1_percent/test/sushi'.\n",
            "There are 0 directories and 250 images in '10_food_classes_1_percent/test/fried_rice'.\n",
            "There are 0 directories and 250 images in '10_food_classes_1_percent/test/pizza'.\n",
            "There are 0 directories and 250 images in '10_food_classes_1_percent/test/ramen'.\n"
          ],
          "name": "stdout"
        }
      ]
    },
    {
      "cell_type": "code",
      "metadata": {
        "colab": {
          "base_uri": "https://localhost:8080/"
        },
        "id": "qzv8KGfUc8P5",
        "outputId": "2c388334-b9b1-454a-b365-f0f570c7a577"
      },
      "source": [
        "IMG_SIZE = (224 , 224)\n",
        "train_data_1_percent = tf.keras.preprocessing.image_dataset_from_directory( train_dir_1_percent ,\n",
        "                                                                           label_mode = \"categorical\" , \n",
        "                                                                           image_size = IMG_SIZE , \n",
        "                                                                           batch_size = 32)\n",
        "test_data = tf.keras.preprocessing.image_dataset_from_directory(test_dir , \n",
        "                                                                label_mode = \"categorical\" , \n",
        "                                                                image_size = IMG_SIZE , \n",
        "                                                                batch_size = 32)"
      ],
      "execution_count": 22,
      "outputs": [
        {
          "output_type": "stream",
          "text": [
            "Found 70 files belonging to 10 classes.\n",
            "Found 2500 files belonging to 10 classes.\n"
          ],
          "name": "stdout"
        }
      ]
    },
    {
      "cell_type": "code",
      "metadata": {
        "id": "fMO86rDZdnzc"
      },
      "source": [
        "import tensorflow as tf\n",
        "from tensorflow import keras\n",
        "from tensorflow.keras import layers\n",
        "from tensorflow.keras.layers.experimental import preprocessing\n"
      ],
      "execution_count": 23,
      "outputs": []
    },
    {
      "cell_type": "code",
      "metadata": {
        "id": "7aqo6ROUfWdt"
      },
      "source": [
        "data_augmentation = keras.Sequential([\n",
        "                                      preprocessing.RandomFlip(\"horizontal\"),\n",
        "                                      preprocessing.RandomRotation(0.2) , \n",
        "                                      preprocessing.RandomZoom(0.2)  , \n",
        "                                      preprocessing.RandomHeight(0.2) , \n",
        "                                      preprocessing.RandomWidth(0.2) , \n",
        "\n",
        "\n",
        "] , name=\"data_augmentation\" )"
      ],
      "execution_count": 24,
      "outputs": []
    },
    {
      "cell_type": "code",
      "metadata": {
        "id": "oLypT5ddg5qg"
      },
      "source": [
        "import matplotlib.pyplot as plt\n",
        "import os \n",
        "import random\n",
        "import matplotlib.image as mpimg"
      ],
      "execution_count": 25,
      "outputs": []
    },
    {
      "cell_type": "code",
      "metadata": {
        "colab": {
          "base_uri": "https://localhost:8080/",
          "height": 544
        },
        "id": "9gd_WZyTrS1n",
        "outputId": "5259000e-83aa-4163-afb3-2bf15885ba20"
      },
      "source": [
        "target_class = random.choice(train_data_1_percent.class_names)\n",
        "target_dir = \"10_food_classes_1_percent/train/\" + target_class\n",
        "random_image = random.choice(os.listdir(target_dir))\n",
        "random_image_path = target_dir +\"/\"+random_image\n",
        "img = mpimg.imread(random_image_path)\n",
        "plt.imshow(img)\n",
        "plt.title(f\"original : {target_class}\")\n",
        "plt.axis(False);\n",
        "\n",
        "augmented_img = data_augmentation(tf.expand_dims(img , axis = 0))\n",
        "plt.figure()\n",
        "plt.imshow(tf.squeeze(augmented_img)/255)\n",
        "plt.title(f\"augmented : {target_class}\")\n"
      ],
      "execution_count": 26,
      "outputs": [
        {
          "output_type": "execute_result",
          "data": {
            "text/plain": [
              "Text(0.5, 1.0, 'augmented : pizza')"
            ]
          },
          "metadata": {
            "tags": []
          },
          "execution_count": 26
        },
        {
          "output_type": "display_data",
          "data": {
            "image/png": "[encoded data removed]",
            "text/plain": [
              "<Figure size 432x288 with 1 Axes>"
            ]
          },
          "metadata": {
            "tags": [],
            "needs_background": "light"
          }
        },
        {
          "output_type": "display_data",
          "data": {
            "image/png": "[encoded data removed]",
            "text/plain": [
              "<Figure size 432x288 with 1 Axes>"
            ]
          },
          "metadata": {
            "tags": [],
            "needs_background": "light"
          }
        }
      ]
    },
    {
      "cell_type": "code",
      "metadata": {
        "id": "5T6WhlSetsSd"
      },
      "source": [
        "input_shape  =(224 , 224 , 3)\n",
        "base_model = tf.keras.applications.EfficientNetB0(include_top=False)\n",
        "base_model.trainable = False \n",
        "\n",
        "inputs = layers.Input(shape = input_shape , name = \"input_layer\")\n",
        "\n",
        "x = data_augmentation(inputs)\n",
        "\n",
        "x = base_model(  x , training = False)\n",
        "\n",
        "x = layers.GlobalAveragePooling2D(name = \"global_pool_avg_layer\")(x)\n",
        "\n",
        "outputs = layers.Dense(10 , activation = \"softmax\" , name = \"output_layer\")(x)\n",
        "\n"
      ],
      "execution_count": 27,
      "outputs": []
    },
    {
      "cell_type": "code",
      "metadata": {
        "colab": {
          "base_uri": "https://localhost:8080/"
        },
        "id": "nJx7azR-zt-q",
        "outputId": "be36d1d7-7648-48ad-e828-626b4233adc5"
      },
      "source": [
        "model_1 = keras.Model(inputs , outputs)\n",
        "\n",
        "model_1.compile(loss=\"categorical_crossentropy\" , \n",
        "                optimizer=tf.keras.optimizers.Adam() , \n",
        "                metrics = [\"accuracy\"])\n",
        "\n",
        "history_1 = model_1.fit(train_data_1_percent , \n",
        "                        epochs = 5, \n",
        "                        steps_per_epoch = len(train_data_1_percent) , \n",
        "                        validation_data = test_data , \n",
        "                        validation_steps = int(0.25*len(test_data)) , \n",
        ")"
      ],
      "execution_count": 28,
      "outputs": [
        {
          "output_type": "stream",
          "text": [
            "Epoch 1/5\n",
            "3/3 [==============================] - 10s 2s/step - loss: 2.4370 - accuracy: 0.0286 - val_loss: 2.2225 - val_accuracy: 0.1612\n",
            "Epoch 2/5\n",
            "3/3 [==============================] - 4s 2s/step - loss: 2.1521 - accuracy: 0.1286 - val_loss: 2.1023 - val_accuracy: 0.2615\n",
            "Epoch 3/5\n",
            "3/3 [==============================] - 3s 1s/step - loss: 1.9366 - accuracy: 0.3571 - val_loss: 2.0042 - val_accuracy: 0.3405\n",
            "Epoch 4/5\n",
            "3/3 [==============================] - 3s 1s/step - loss: 1.8288 - accuracy: 0.4857 - val_loss: 1.9088 - val_accuracy: 0.4046\n",
            "Epoch 5/5\n",
            "3/3 [==============================] - 4s 2s/step - loss: 1.6626 - accuracy: 0.5714 - val_loss: 1.8265 - val_accuracy: 0.4638\n"
          ],
          "name": "stdout"
        }
      ]
    },
    {
      "cell_type": "code",
      "metadata": {
        "colab": {
          "base_uri": "https://localhost:8080/"
        },
        "id": "ODTCOgg30eTh",
        "outputId": "a5d3f6c2-986c-4779-c7f8-153122ddcb4d"
      },
      "source": [
        "history_1 = model_1.fit(train_data_1_percent , \n",
        "                        epochs = 4, \n",
        "                        steps_per_epoch = len(train_data_1_percent) , \n",
        "                        validation_data = test_data , \n",
        "                        validation_steps = int(0.25*len(test_data)) , \n",
        "                        callbacks = [create_tensorboard_callback(dir_name=\"transfer_learning\" , \n",
        "                                     experiment_name=\"1_percent_data_aug\")]\n",
        ")"
      ],
      "execution_count": 29,
      "outputs": [
        {
          "output_type": "stream",
          "text": [
            "Saving TensorBoard log files to: transfer_learning/1_percent_data_aug/20210713-155700\n",
            "Epoch 1/4\n"
          ],
          "name": "stdout"
        },
        {
          "output_type": "stream",
          "text": [
            "/usr/local/lib/python3.7/dist-packages/tensorflow/python/keras/utils/generic_utils.py:497: CustomMaskWarning: Custom mask layers require a config and must override get_config. When loading, the custom mask layer must be passed to the custom_objects argument.\n",
            "  category=CustomMaskWarning)\n"
          ],
          "name": "stderr"
        },
        {
          "output_type": "stream",
          "text": [
            "3/3 [==============================] - 5s 2s/step - loss: 1.5354 - accuracy: 0.6571 - val_loss: 1.7401 - val_accuracy: 0.5099\n",
            "Epoch 2/4\n",
            "3/3 [==============================] - 3s 1s/step - loss: 1.3633 - accuracy: 0.8000 - val_loss: 1.6874 - val_accuracy: 0.5247\n",
            "Epoch 3/4\n",
            "3/3 [==============================] - 4s 2s/step - loss: 1.2758 - accuracy: 0.8286 - val_loss: 1.5973 - val_accuracy: 0.5576\n",
            "Epoch 4/4\n",
            "3/3 [==============================] - 4s 2s/step - loss: 1.1601 - accuracy: 0.8857 - val_loss: 1.5433 - val_accuracy: 0.5773\n"
          ],
          "name": "stdout"
        }
      ]
    },
    {
      "cell_type": "code",
      "metadata": {
        "colab": {
          "base_uri": "https://localhost:8080/"
        },
        "id": "8aDsf58E09Fi",
        "outputId": "1fb3c9ac-c685-430f-a846-4f3bdb6cf4b5"
      },
      "source": [
        "model_1.summary()"
      ],
      "execution_count": 30,
      "outputs": [
        {
          "output_type": "stream",
          "text": [
            "Model: \"model_1\"\n",
            "_________________________________________________________________\n",
            "Layer (type)                 Output Shape              Param #   \n",
            "=================================================================\n",
            "input_layer (InputLayer)     [(None, 224, 224, 3)]     0         \n",
            "_________________________________________________________________\n",
            "data_augmentation (Sequentia (None, None, None, 3)     0         \n",
            "_________________________________________________________________\n",
            "efficientnetb0 (Functional)  (None, None, None, 1280)  4049571   \n",
            "_________________________________________________________________\n",
            "global_pool_avg_layer (Globa (None, 1280)              0         \n",
            "_________________________________________________________________\n",
            "output_layer (Dense)         (None, 10)                12810     \n",
            "=================================================================\n",
            "Total params: 4,062,381\n",
            "Trainable params: 12,810\n",
            "Non-trainable params: 4,049,571\n",
            "_________________________________________________________________\n"
          ],
          "name": "stdout"
        }
      ]
    },
    {
      "cell_type": "code",
      "metadata": {
        "colab": {
          "base_uri": "https://localhost:8080/"
        },
        "id": "0XxD3Qr51BEj",
        "outputId": "87149d30-7ce2-47fe-9604-fc5c5db9772a"
      },
      "source": [
        "results_1_percent_data_aug = model_1.evaluate(test_data)\n",
        "results_1_percent_data_aug"
      ],
      "execution_count": 31,
      "outputs": [
        {
          "output_type": "stream",
          "text": [
            "79/79 [==============================] - 9s 105ms/step - loss: 1.5498 - accuracy: 0.5768\n"
          ],
          "name": "stdout"
        },
        {
          "output_type": "execute_result",
          "data": {
            "text/plain": [
              "[1.549789547920227, 0.5767999887466431]"
            ]
          },
          "metadata": {
            "tags": []
          },
          "execution_count": 31
        }
      ]
    },
    {
      "cell_type": "code",
      "metadata": {
        "colab": {
          "base_uri": "https://localhost:8080/",
          "height": 573
        },
        "id": "kNgS53-q1VNJ",
        "outputId": "f3e5be64-4016-482b-eb3b-f873d0558541"
      },
      "source": [
        "plot_loss_curves(history_1)"
      ],
      "execution_count": 32,
      "outputs": [
        {
          "output_type": "display_data",
          "data": {
            "image/png": "[encoded data removed]",
            "text/plain": [
              "<Figure size 432x288 with 1 Axes>"
            ]
          },
          "metadata": {
            "tags": [],
            "needs_background": "light"
          }
        },
        {
          "output_type": "display_data",
          "data": {
            "image/png": "[encoded data removed]",
            "text/plain": [
              "<Figure size 432x288 with 1 Axes>"
            ]
          },
          "metadata": {
            "tags": [],
            "needs_background": "light"
          }
        }
      ]
    },
    {
      "cell_type": "code",
      "metadata": {
        "id": "60gkpbvD1bt-"
      },
      "source": [
        "train_dir_10_percent= \"10_food_classes_10_percent/train/\"\n",
        "test_dir = \"10_food_classes_10_percent/test/\""
      ],
      "execution_count": 33,
      "outputs": []
    },
    {
      "cell_type": "code",
      "metadata": {
        "colab": {
          "base_uri": "https://localhost:8080/"
        },
        "id": "S6IBkkgv5HZ7",
        "outputId": "a18b56b0-b7d2-4571-a200-68f929a6013b"
      },
      "source": [
        "import tensorflow as tf\n",
        "\n",
        "train_data_10_percent = tf.keras.preprocessing.image_dataset_from_directory(train_dir_10_percent , \n",
        "                                                                            label_mode = \"categorical\" , \n",
        "                                                                            image_size = (224 , 224) ) \n",
        "test_data = tf.keras.preprocessing.image_dataset_from_directory(test_dir , \n",
        "                                                                label_mode = \"categorical\" , \n",
        "                                                                image_size = (224 , 224))"
      ],
      "execution_count": 34,
      "outputs": [
        {
          "output_type": "stream",
          "text": [
            "Found 750 files belonging to 10 classes.\n",
            "Found 2500 files belonging to 10 classes.\n"
          ],
          "name": "stdout"
        }
      ]
    },
    {
      "cell_type": "code",
      "metadata": {
        "colab": {
          "base_uri": "https://localhost:8080/"
        },
        "id": "I7atOWya5xpk",
        "outputId": "e85176a7-3ac2-492a-c97a-e44921e8c4ba"
      },
      "source": [
        "from tensorflow.keras import layers\n",
        "from tensorflow.keras.layers.experimental import preprocessing\n",
        "from tensorflow.keras.models import Sequential\n",
        "\n",
        "data_augmentation = Sequential([\n",
        "                                preprocessing.RandomFlip(\"horizontal\") , \n",
        "                                preprocessing.RandomHeight(0.2) , \n",
        "                                preprocessing.RandomRotation(0.2) ,\n",
        "                                preprocessing.RandomWidth(0.2) , \n",
        "                                preprocessing.RandomZoom(0.2)\n",
        "] , name =\"data_augmentation\")\n",
        "\n",
        "input_shape = (224 ,224 , 3)\n",
        "\n",
        "base_model = tf.keras.applications.EfficientNetB4(include_top=False)\n",
        "base_model.trainable=False\n",
        "inputs = layers.Input(shape = input_shape , name=\"input_layer\")\n",
        "x = data_augmentation(inputs)\n",
        "x = base_model(x , training=False)\n",
        "x = layers.GlobalAveragePooling2D(name = \"global_avg_layer\")(x)\n",
        "\n",
        "outputs = layers.Dense(10 , activation = \"softmax\" , name=\"output_layer\")(x)\n",
        "model_2 = tf.keras.Model(inputs , outputs)\n",
        "\n",
        "model_2.compile(loss=\"categorical_crossentropy\" , \n",
        "                optimizer=tf.keras.optimizers.Adam() , \n",
        "                metrics = [\"accuracy\"])\n",
        "\n",
        "\n"
      ],
      "execution_count": 35,
      "outputs": [
        {
          "output_type": "stream",
          "text": [
            "Downloading data from https://storage.googleapis.com/keras-applications/efficientnetb4_notop.h5\n",
            "71688192/71686520 [==============================] - 1s 0us/step\n"
          ],
          "name": "stdout"
        }
      ]
    },
    {
      "cell_type": "code",
      "metadata": {
        "id": "t616-rum8xRN"
      },
      "source": [
        "checkpoint_path = \"ten_percent_model_checkpoints_weights/checkpoint.ckpt\"\n",
        "\n",
        "checkpoint_callback = tf.keras.callbacks.ModelCheckpoint(filepath = checkpoint_path , \n",
        "                                                         save_weights_only = True , \n",
        "        \n",
        "                                                         save_best_only = False , \n",
        "                                                         save_freq = \"epoch\" , \n",
        "                                                         verbose =1)"
      ],
      "execution_count": 36,
      "outputs": []
    },
    {
      "cell_type": "code",
      "metadata": {
        "colab": {
          "base_uri": "https://localhost:8080/"
        },
        "id": "qVHvBSg3JWBs",
        "outputId": "4231f184-4769-4d8f-e048-8d67a018b2a3"
      },
      "source": [
        "initial_epochs = 5 \n",
        "history_10_percent_data_aug = model_2.fit(train_data_10_percent , \n",
        "                                          epochs = initial_epochs , \n",
        "                                          validation_data = test_data , \n",
        "                                          validation_steps = int(0.25*len(test_data)) , \n",
        "                                          callbacks= [create_tensorboard_callback(dir_name=\"transfer_learning\" ,\n",
        "                                                                                  experiment_name = \"10_percent_data_aug\") , \n",
        "                                                      checkpoint_callback])"
      ],
      "execution_count": 37,
      "outputs": [
        {
          "output_type": "stream",
          "text": [
            "Saving TensorBoard log files to: transfer_learning/10_percent_data_aug/20210713-155736\n",
            "Epoch 1/5\n"
          ],
          "name": "stdout"
        },
        {
          "output_type": "stream",
          "text": [
            "/usr/local/lib/python3.7/dist-packages/tensorflow/python/keras/utils/generic_utils.py:497: CustomMaskWarning: Custom mask layers require a config and must override get_config. When loading, the custom mask layer must be passed to the custom_objects argument.\n",
            "  category=CustomMaskWarning)\n"
          ],
          "name": "stderr"
        },
        {
          "output_type": "stream",
          "text": [
            "24/24 [==============================] - 37s 1s/step - loss: 1.8937 - accuracy: 0.4160 - val_loss: 1.3039 - val_accuracy: 0.7451\n",
            "\n",
            "Epoch 00001: saving model to ten_percent_model_checkpoints_weights/checkpoint.ckpt\n",
            "Epoch 2/5\n",
            "24/24 [==============================] - 20s 825ms/step - loss: 1.2476 - accuracy: 0.6867 - val_loss: 0.8943 - val_accuracy: 0.7862\n",
            "\n",
            "Epoch 00002: saving model to ten_percent_model_checkpoints_weights/checkpoint.ckpt\n",
            "Epoch 3/5\n",
            "24/24 [==============================] - 19s 750ms/step - loss: 1.0080 - accuracy: 0.7373 - val_loss: 0.7782 - val_accuracy: 0.8026\n",
            "\n",
            "Epoch 00003: saving model to ten_percent_model_checkpoints_weights/checkpoint.ckpt\n",
            "Epoch 4/5\n",
            "24/24 [==============================] - 17s 690ms/step - loss: 0.8766 - accuracy: 0.7627 - val_loss: 0.6748 - val_accuracy: 0.8158\n",
            "\n",
            "Epoch 00004: saving model to ten_percent_model_checkpoints_weights/checkpoint.ckpt\n",
            "Epoch 5/5\n",
            "24/24 [==============================] - 18s 748ms/step - loss: 0.7543 - accuracy: 0.8000 - val_loss: 0.6286 - val_accuracy: 0.8207\n",
            "\n",
            "Epoch 00005: saving model to ten_percent_model_checkpoints_weights/checkpoint.ckpt\n"
          ],
          "name": "stdout"
        }
      ]
    },
    {
      "cell_type": "code",
      "metadata": {
        "colab": {
          "base_uri": "https://localhost:8080/"
        },
        "id": "CrE4SXdMKe2i",
        "outputId": "7a9402f0-5cd8-4b62-82a4-e3e90ba29a98"
      },
      "source": [
        "model_0.evaluate(test_data)"
      ],
      "execution_count": 38,
      "outputs": [
        {
          "output_type": "stream",
          "text": [
            "79/79 [==============================] - 9s 107ms/step - loss: 0.6118 - accuracy: 0.8388\n"
          ],
          "name": "stdout"
        },
        {
          "output_type": "execute_result",
          "data": {
            "text/plain": [
              "[0.6117695569992065, 0.8388000130653381]"
            ]
          },
          "metadata": {
            "tags": []
          },
          "execution_count": 38
        }
      ]
    },
    {
      "cell_type": "code",
      "metadata": {
        "colab": {
          "base_uri": "https://localhost:8080/"
        },
        "id": "DWjvkF-bKnwf",
        "outputId": "aaebfc57-9d22-4d48-e0dd-4c901b29ab0b"
      },
      "source": [
        "results_10_percent_data_aug = model_2.evaluate(test_data)\n",
        "results_10_percent_data_aug\n"
      ],
      "execution_count": 39,
      "outputs": [
        {
          "output_type": "stream",
          "text": [
            "79/79 [==============================] - 16s 203ms/step - loss: 0.6324 - accuracy: 0.8220\n"
          ],
          "name": "stdout"
        },
        {
          "output_type": "execute_result",
          "data": {
            "text/plain": [
              "[0.6324488520622253, 0.8220000267028809]"
            ]
          },
          "metadata": {
            "tags": []
          },
          "execution_count": 39
        }
      ]
    },
    {
      "cell_type": "code",
      "metadata": {
        "colab": {
          "base_uri": "https://localhost:8080/",
          "height": 573
        },
        "id": "VnU2DTaKKx9L",
        "outputId": "a78502e1-70e3-433f-8f7d-ea368b8f080c"
      },
      "source": [
        "plot_loss_curves(history_10_percent_data_aug)"
      ],
      "execution_count": 40,
      "outputs": [
        {
          "output_type": "display_data",
          "data": {
            "image/png": "[encoded data removed]",
            "text/plain": [
              "<Figure size 432x288 with 1 Axes>"
            ]
          },
          "metadata": {
            "tags": [],
            "needs_background": "light"
          }
        },
        {
          "output_type": "display_data",
          "data": {
            "image/png": "[encoded data removed]",
            "text/plain": [
              "<Figure size 432x288 with 1 Axes>"
            ]
          },
          "metadata": {
            "tags": [],
            "needs_background": "light"
          }
        }
      ]
    },
    {
      "cell_type": "code",
      "metadata": {
        "colab": {
          "base_uri": "https://localhost:8080/"
        },
        "id": "VfMaWOWYK-k-",
        "outputId": "38a04d61-548e-48f4-b661-35e17d649869"
      },
      "source": [
        "model_2.load_weights(checkpoint_path)  #loading in chckpoint weights"
      ],
      "execution_count": 41,
      "outputs": [
        {
          "output_type": "execute_result",
          "data": {
            "text/plain": [
              "<tensorflow.python.training.tracking.util.CheckpointLoadStatus at 0x7fc9099dcf90>"
            ]
          },
          "metadata": {
            "tags": []
          },
          "execution_count": 41
        }
      ]
    },
    {
      "cell_type": "code",
      "metadata": {
        "colab": {
          "base_uri": "https://localhost:8080/"
        },
        "id": "lax2-duMLQX6",
        "outputId": "c1cd2662-b48c-4896-c89b-56e47576d8f7"
      },
      "source": [
        "loaded_weights_model_results = model_2.evaluate(test_data)"
      ],
      "execution_count": 42,
      "outputs": [
        {
          "output_type": "stream",
          "text": [
            "79/79 [==============================] - 16s 194ms/step - loss: 0.6324 - accuracy: 0.8220\n"
          ],
          "name": "stdout"
        }
      ]
    },
    {
      "cell_type": "code",
      "metadata": {
        "colab": {
          "base_uri": "https://localhost:8080/"
        },
        "id": "qbA3y7UuLYlm",
        "outputId": "153b9775-761f-4f98-dd1c-7d1788d97e19"
      },
      "source": [
        "results_10_percent_data_aug"
      ],
      "execution_count": 43,
      "outputs": [
        {
          "output_type": "execute_result",
          "data": {
            "text/plain": [
              "[0.6324488520622253, 0.8220000267028809]"
            ]
          },
          "metadata": {
            "tags": []
          },
          "execution_count": 43
        }
      ]
    },
    {
      "cell_type": "code",
      "metadata": {
        "colab": {
          "base_uri": "https://localhost:8080/"
        },
        "id": "_J97k7sjLdfs",
        "outputId": "b8c507df-b503-42e0-aa09-f73f2f36b669"
      },
      "source": [
        "loaded_weights_model_results"
      ],
      "execution_count": 44,
      "outputs": [
        {
          "output_type": "execute_result",
          "data": {
            "text/plain": [
              "[0.6324489116668701, 0.8220000267028809]"
            ]
          },
          "metadata": {
            "tags": []
          },
          "execution_count": 44
        }
      ]
    },
    {
      "cell_type": "code",
      "metadata": {
        "colab": {
          "base_uri": "https://localhost:8080/"
        },
        "id": "pX2uf7URLgWt",
        "outputId": "921cc920-4ae7-4bcd-b469-0a3ef8aade5b"
      },
      "source": [
        "import numpy as np \n",
        "np.isclose(np.array(results_10_percent_data_aug) , np.array(loaded_weights_model_results))"
      ],
      "execution_count": 45,
      "outputs": [
        {
          "output_type": "execute_result",
          "data": {
            "text/plain": [
              "array([ True,  True])"
            ]
          },
          "metadata": {
            "tags": []
          },
          "execution_count": 45
        }
      ]
    },
    {
      "cell_type": "code",
      "metadata": {
        "colab": {
          "base_uri": "https://localhost:8080/"
        },
        "id": "FsoU7_EMZiWs",
        "outputId": "a5fc358c-c623-4a4c-82a9-35c77a5290a5"
      },
      "source": [
        " model_2.layers"
      ],
      "execution_count": 46,
      "outputs": [
        {
          "output_type": "execute_result",
          "data": {
            "text/plain": [
              "[<tensorflow.python.keras.engine.input_layer.InputLayer at 0x7fcb8a750b90>,\n",
              " <tensorflow.python.keras.engine.sequential.Sequential at 0x7fcb8a750c10>,\n",
              " <tensorflow.python.keras.engine.functional.Functional at 0x7fca8e411490>,\n",
              " <tensorflow.python.keras.layers.pooling.GlobalAveragePooling2D at 0x7fca8ef49090>,\n",
              " <tensorflow.python.keras.layers.core.Dense at 0x7fca8e316d10>]"
            ]
          },
          "metadata": {
            "tags": []
          },
          "execution_count": 46
        }
      ]
    },
    {
      "cell_type": "code",
      "metadata": {
        "colab": {
          "base_uri": "https://localhost:8080/"
        },
        "id": "LmGR6atYdz4O",
        "outputId": "31c0dbf1-32aa-4709-f4e6-d2735d9907a3"
      },
      "source": [
        "for layer in model_2.layers:\n",
        "  print(layer , layer.trainable)"
      ],
      "execution_count": 47,
      "outputs": [
        {
          "output_type": "stream",
          "text": [
            "<tensorflow.python.keras.engine.input_layer.InputLayer object at 0x7fcb8a750b90> True\n",
            "<tensorflow.python.keras.engine.sequential.Sequential object at 0x7fcb8a750c10> True\n",
            "<tensorflow.python.keras.engine.functional.Functional object at 0x7fca8e411490> False\n",
            "<tensorflow.python.keras.layers.pooling.GlobalAveragePooling2D object at 0x7fca8ef49090> True\n",
            "<tensorflow.python.keras.layers.core.Dense object at 0x7fca8e316d10> True\n"
          ],
          "name": "stdout"
        }
      ]
    },
    {
      "cell_type": "code",
      "metadata": {
        "colab": {
          "base_uri": "https://localhost:8080/"
        },
        "id": "3gMTnKi7eATf",
        "outputId": "af4b95ff-0a3a-4c81-8084-20a050f50df2"
      },
      "source": [
        "for  i , layer in enumerate(model_2.layers[2].layers):\n",
        " print(i , layer.name , layer.trainable)"
      ],
      "execution_count": 48,
      "outputs": [
        {
          "output_type": "stream",
          "text": [
            "0 input_3 False\n",
            "1 rescaling_2 False\n",
            "2 normalization_2 False\n",
            "3 stem_conv_pad False\n",
            "4 stem_conv False\n",
            "5 stem_bn False\n",
            "6 stem_activation False\n",
            "7 block1a_dwconv False\n",
            "8 block1a_bn False\n",
            "9 block1a_activation False\n",
            "10 block1a_se_squeeze False\n",
            "11 block1a_se_reshape False\n",
            "12 block1a_se_reduce False\n",
            "13 block1a_se_expand False\n",
            "14 block1a_se_excite False\n",
            "15 block1a_project_conv False\n",
            "16 block1a_project_bn False\n",
            "17 block1b_dwconv False\n",
            "18 block1b_bn False\n",
            "19 block1b_activation False\n",
            "20 block1b_se_squeeze False\n",
            "21 block1b_se_reshape False\n",
            "22 block1b_se_reduce False\n",
            "23 block1b_se_expand False\n",
            "24 block1b_se_excite False\n",
            "25 block1b_project_conv False\n",
            "26 block1b_project_bn False\n",
            "27 block1b_drop False\n",
            "28 block1b_add False\n",
            "29 block2a_expand_conv False\n",
            "30 block2a_expand_bn False\n",
            "31 block2a_expand_activation False\n",
            "32 block2a_dwconv_pad False\n",
            "33 block2a_dwconv False\n",
            "34 block2a_bn False\n",
            "35 block2a_activation False\n",
            "36 block2a_se_squeeze False\n",
            "37 block2a_se_reshape False\n",
            "38 block2a_se_reduce False\n",
            "39 block2a_se_expand False\n",
            "40 block2a_se_excite False\n",
            "41 block2a_project_conv False\n",
            "42 block2a_project_bn False\n",
            "43 block2b_expand_conv False\n",
            "44 block2b_expand_bn False\n",
            "45 block2b_expand_activation False\n",
            "46 block2b_dwconv False\n",
            "47 block2b_bn False\n",
            "48 block2b_activation False\n",
            "49 block2b_se_squeeze False\n",
            "50 block2b_se_reshape False\n",
            "51 block2b_se_reduce False\n",
            "52 block2b_se_expand False\n",
            "53 block2b_se_excite False\n",
            "54 block2b_project_conv False\n",
            "55 block2b_project_bn False\n",
            "56 block2b_drop False\n",
            "57 block2b_add False\n",
            "58 block2c_expand_conv False\n",
            "59 block2c_expand_bn False\n",
            "60 block2c_expand_activation False\n",
            "61 block2c_dwconv False\n",
            "62 block2c_bn False\n",
            "63 block2c_activation False\n",
            "64 block2c_se_squeeze False\n",
            "65 block2c_se_reshape False\n",
            "66 block2c_se_reduce False\n",
            "67 block2c_se_expand False\n",
            "68 block2c_se_excite False\n",
            "69 block2c_project_conv False\n",
            "70 block2c_project_bn False\n",
            "71 block2c_drop False\n",
            "72 block2c_add False\n",
            "73 block2d_expand_conv False\n",
            "74 block2d_expand_bn False\n",
            "75 block2d_expand_activation False\n",
            "76 block2d_dwconv False\n",
            "77 block2d_bn False\n",
            "78 block2d_activation False\n",
            "79 block2d_se_squeeze False\n",
            "80 block2d_se_reshape False\n",
            "81 block2d_se_reduce False\n",
            "82 block2d_se_expand False\n",
            "83 block2d_se_excite False\n",
            "84 block2d_project_conv False\n",
            "85 block2d_project_bn False\n",
            "86 block2d_drop False\n",
            "87 block2d_add False\n",
            "88 block3a_expand_conv False\n",
            "89 block3a_expand_bn False\n",
            "90 block3a_expand_activation False\n",
            "91 block3a_dwconv_pad False\n",
            "92 block3a_dwconv False\n",
            "93 block3a_bn False\n",
            "94 block3a_activation False\n",
            "95 block3a_se_squeeze False\n",
            "96 block3a_se_reshape False\n",
            "97 block3a_se_reduce False\n",
            "98 block3a_se_expand False\n",
            "99 block3a_se_excite False\n",
            "100 block3a_project_conv False\n",
            "101 block3a_project_bn False\n",
            "102 block3b_expand_conv False\n",
            "103 block3b_expand_bn False\n",
            "104 block3b_expand_activation False\n",
            "105 block3b_dwconv False\n",
            "106 block3b_bn False\n",
            "107 block3b_activation False\n",
            "108 block3b_se_squeeze False\n",
            "109 block3b_se_reshape False\n",
            "110 block3b_se_reduce False\n",
            "111 block3b_se_expand False\n",
            "112 block3b_se_excite False\n",
            "113 block3b_project_conv False\n",
            "114 block3b_project_bn False\n",
            "115 block3b_drop False\n",
            "116 block3b_add False\n",
            "117 block3c_expand_conv False\n",
            "118 block3c_expand_bn False\n",
            "119 block3c_expand_activation False\n",
            "120 block3c_dwconv False\n",
            "121 block3c_bn False\n",
            "122 block3c_activation False\n",
            "123 block3c_se_squeeze False\n",
            "124 block3c_se_reshape False\n",
            "125 block3c_se_reduce False\n",
            "126 block3c_se_expand False\n",
            "127 block3c_se_excite False\n",
            "128 block3c_project_conv False\n",
            "129 block3c_project_bn False\n",
            "130 block3c_drop False\n",
            "131 block3c_add False\n",
            "132 block3d_expand_conv False\n",
            "133 block3d_expand_bn False\n",
            "134 block3d_expand_activation False\n",
            "135 block3d_dwconv False\n",
            "136 block3d_bn False\n",
            "137 block3d_activation False\n",
            "138 block3d_se_squeeze False\n",
            "139 block3d_se_reshape False\n",
            "140 block3d_se_reduce False\n",
            "141 block3d_se_expand False\n",
            "142 block3d_se_excite False\n",
            "143 block3d_project_conv False\n",
            "144 block3d_project_bn False\n",
            "145 block3d_drop False\n",
            "146 block3d_add False\n",
            "147 block4a_expand_conv False\n",
            "148 block4a_expand_bn False\n",
            "149 block4a_expand_activation False\n",
            "150 block4a_dwconv_pad False\n",
            "151 block4a_dwconv False\n",
            "152 block4a_bn False\n",
            "153 block4a_activation False\n",
            "154 block4a_se_squeeze False\n",
            "155 block4a_se_reshape False\n",
            "156 block4a_se_reduce False\n",
            "157 block4a_se_expand False\n",
            "158 block4a_se_excite False\n",
            "159 block4a_project_conv False\n",
            "160 block4a_project_bn False\n",
            "161 block4b_expand_conv False\n",
            "162 block4b_expand_bn False\n",
            "163 block4b_expand_activation False\n",
            "164 block4b_dwconv False\n",
            "165 block4b_bn False\n",
            "166 block4b_activation False\n",
            "167 block4b_se_squeeze False\n",
            "168 block4b_se_reshape False\n",
            "169 block4b_se_reduce False\n",
            "170 block4b_se_expand False\n",
            "171 block4b_se_excite False\n",
            "172 block4b_project_conv False\n",
            "173 block4b_project_bn False\n",
            "174 block4b_drop False\n",
            "175 block4b_add False\n",
            "176 block4c_expand_conv False\n",
            "177 block4c_expand_bn False\n",
            "178 block4c_expand_activation False\n",
            "179 block4c_dwconv False\n",
            "180 block4c_bn False\n",
            "181 block4c_activation False\n",
            "182 block4c_se_squeeze False\n",
            "183 block4c_se_reshape False\n",
            "184 block4c_se_reduce False\n",
            "185 block4c_se_expand False\n",
            "186 block4c_se_excite False\n",
            "187 block4c_project_conv False\n",
            "188 block4c_project_bn False\n",
            "189 block4c_drop False\n",
            "190 block4c_add False\n",
            "191 block4d_expand_conv False\n",
            "192 block4d_expand_bn False\n",
            "193 block4d_expand_activation False\n",
            "194 block4d_dwconv False\n",
            "195 block4d_bn False\n",
            "196 block4d_activation False\n",
            "197 block4d_se_squeeze False\n",
            "198 block4d_se_reshape False\n",
            "199 block4d_se_reduce False\n",
            "200 block4d_se_expand False\n",
            "201 block4d_se_excite False\n",
            "202 block4d_project_conv False\n",
            "203 block4d_project_bn False\n",
            "204 block4d_drop False\n",
            "205 block4d_add False\n",
            "206 block4e_expand_conv False\n",
            "207 block4e_expand_bn False\n",
            "208 block4e_expand_activation False\n",
            "209 block4e_dwconv False\n",
            "210 block4e_bn False\n",
            "211 block4e_activation False\n",
            "212 block4e_se_squeeze False\n",
            "213 block4e_se_reshape False\n",
            "214 block4e_se_reduce False\n",
            "215 block4e_se_expand False\n",
            "216 block4e_se_excite False\n",
            "217 block4e_project_conv False\n",
            "218 block4e_project_bn False\n",
            "219 block4e_drop False\n",
            "220 block4e_add False\n",
            "221 block4f_expand_conv False\n",
            "222 block4f_expand_bn False\n",
            "223 block4f_expand_activation False\n",
            "224 block4f_dwconv False\n",
            "225 block4f_bn False\n",
            "226 block4f_activation False\n",
            "227 block4f_se_squeeze False\n",
            "228 block4f_se_reshape False\n",
            "229 block4f_se_reduce False\n",
            "230 block4f_se_expand False\n",
            "231 block4f_se_excite False\n",
            "232 block4f_project_conv False\n",
            "233 block4f_project_bn False\n",
            "234 block4f_drop False\n",
            "235 block4f_add False\n",
            "236 block5a_expand_conv False\n",
            "237 block5a_expand_bn False\n",
            "238 block5a_expand_activation False\n",
            "239 block5a_dwconv False\n",
            "240 block5a_bn False\n",
            "241 block5a_activation False\n",
            "242 block5a_se_squeeze False\n",
            "243 block5a_se_reshape False\n",
            "244 block5a_se_reduce False\n",
            "245 block5a_se_expand False\n",
            "246 block5a_se_excite False\n",
            "247 block5a_project_conv False\n",
            "248 block5a_project_bn False\n",
            "249 block5b_expand_conv False\n",
            "250 block5b_expand_bn False\n",
            "251 block5b_expand_activation False\n",
            "252 block5b_dwconv False\n",
            "253 block5b_bn False\n",
            "254 block5b_activation False\n",
            "255 block5b_se_squeeze False\n",
            "256 block5b_se_reshape False\n",
            "257 block5b_se_reduce False\n",
            "258 block5b_se_expand False\n",
            "259 block5b_se_excite False\n",
            "260 block5b_project_conv False\n",
            "261 block5b_project_bn False\n",
            "262 block5b_drop False\n",
            "263 block5b_add False\n",
            "264 block5c_expand_conv False\n",
            "265 block5c_expand_bn False\n",
            "266 block5c_expand_activation False\n",
            "267 block5c_dwconv False\n",
            "268 block5c_bn False\n",
            "269 block5c_activation False\n",
            "270 block5c_se_squeeze False\n",
            "271 block5c_se_reshape False\n",
            "272 block5c_se_reduce False\n",
            "273 block5c_se_expand False\n",
            "274 block5c_se_excite False\n",
            "275 block5c_project_conv False\n",
            "276 block5c_project_bn False\n",
            "277 block5c_drop False\n",
            "278 block5c_add False\n",
            "279 block5d_expand_conv False\n",
            "280 block5d_expand_bn False\n",
            "281 block5d_expand_activation False\n",
            "282 block5d_dwconv False\n",
            "283 block5d_bn False\n",
            "284 block5d_activation False\n",
            "285 block5d_se_squeeze False\n",
            "286 block5d_se_reshape False\n",
            "287 block5d_se_reduce False\n",
            "288 block5d_se_expand False\n",
            "289 block5d_se_excite False\n",
            "290 block5d_project_conv False\n",
            "291 block5d_project_bn False\n",
            "292 block5d_drop False\n",
            "293 block5d_add False\n",
            "294 block5e_expand_conv False\n",
            "295 block5e_expand_bn False\n",
            "296 block5e_expand_activation False\n",
            "297 block5e_dwconv False\n",
            "298 block5e_bn False\n",
            "299 block5e_activation False\n",
            "300 block5e_se_squeeze False\n",
            "301 block5e_se_reshape False\n",
            "302 block5e_se_reduce False\n",
            "303 block5e_se_expand False\n",
            "304 block5e_se_excite False\n",
            "305 block5e_project_conv False\n",
            "306 block5e_project_bn False\n",
            "307 block5e_drop False\n",
            "308 block5e_add False\n",
            "309 block5f_expand_conv False\n",
            "310 block5f_expand_bn False\n",
            "311 block5f_expand_activation False\n",
            "312 block5f_dwconv False\n",
            "313 block5f_bn False\n",
            "314 block5f_activation False\n",
            "315 block5f_se_squeeze False\n",
            "316 block5f_se_reshape False\n",
            "317 block5f_se_reduce False\n",
            "318 block5f_se_expand False\n",
            "319 block5f_se_excite False\n",
            "320 block5f_project_conv False\n",
            "321 block5f_project_bn False\n",
            "322 block5f_drop False\n",
            "323 block5f_add False\n",
            "324 block6a_expand_conv False\n",
            "325 block6a_expand_bn False\n",
            "326 block6a_expand_activation False\n",
            "327 block6a_dwconv_pad False\n",
            "328 block6a_dwconv False\n",
            "329 block6a_bn False\n",
            "330 block6a_activation False\n",
            "331 block6a_se_squeeze False\n",
            "332 block6a_se_reshape False\n",
            "333 block6a_se_reduce False\n",
            "334 block6a_se_expand False\n",
            "335 block6a_se_excite False\n",
            "336 block6a_project_conv False\n",
            "337 block6a_project_bn False\n",
            "338 block6b_expand_conv False\n",
            "339 block6b_expand_bn False\n",
            "340 block6b_expand_activation False\n",
            "341 block6b_dwconv False\n",
            "342 block6b_bn False\n",
            "343 block6b_activation False\n",
            "344 block6b_se_squeeze False\n",
            "345 block6b_se_reshape False\n",
            "346 block6b_se_reduce False\n",
            "347 block6b_se_expand False\n",
            "348 block6b_se_excite False\n",
            "349 block6b_project_conv False\n",
            "350 block6b_project_bn False\n",
            "351 block6b_drop False\n",
            "352 block6b_add False\n",
            "353 block6c_expand_conv False\n",
            "354 block6c_expand_bn False\n",
            "355 block6c_expand_activation False\n",
            "356 block6c_dwconv False\n",
            "357 block6c_bn False\n",
            "358 block6c_activation False\n",
            "359 block6c_se_squeeze False\n",
            "360 block6c_se_reshape False\n",
            "361 block6c_se_reduce False\n",
            "362 block6c_se_expand False\n",
            "363 block6c_se_excite False\n",
            "364 block6c_project_conv False\n",
            "365 block6c_project_bn False\n",
            "366 block6c_drop False\n",
            "367 block6c_add False\n",
            "368 block6d_expand_conv False\n",
            "369 block6d_expand_bn False\n",
            "370 block6d_expand_activation False\n",
            "371 block6d_dwconv False\n",
            "372 block6d_bn False\n",
            "373 block6d_activation False\n",
            "374 block6d_se_squeeze False\n",
            "375 block6d_se_reshape False\n",
            "376 block6d_se_reduce False\n",
            "377 block6d_se_expand False\n",
            "378 block6d_se_excite False\n",
            "379 block6d_project_conv False\n",
            "380 block6d_project_bn False\n",
            "381 block6d_drop False\n",
            "382 block6d_add False\n",
            "383 block6e_expand_conv False\n",
            "384 block6e_expand_bn False\n",
            "385 block6e_expand_activation False\n",
            "386 block6e_dwconv False\n",
            "387 block6e_bn False\n",
            "388 block6e_activation False\n",
            "389 block6e_se_squeeze False\n",
            "390 block6e_se_reshape False\n",
            "391 block6e_se_reduce False\n",
            "392 block6e_se_expand False\n",
            "393 block6e_se_excite False\n",
            "394 block6e_project_conv False\n",
            "395 block6e_project_bn False\n",
            "396 block6e_drop False\n",
            "397 block6e_add False\n",
            "398 block6f_expand_conv False\n",
            "399 block6f_expand_bn False\n",
            "400 block6f_expand_activation False\n",
            "401 block6f_dwconv False\n",
            "402 block6f_bn False\n",
            "403 block6f_activation False\n",
            "404 block6f_se_squeeze False\n",
            "405 block6f_se_reshape False\n",
            "406 block6f_se_reduce False\n",
            "407 block6f_se_expand False\n",
            "408 block6f_se_excite False\n",
            "409 block6f_project_conv False\n",
            "410 block6f_project_bn False\n",
            "411 block6f_drop False\n",
            "412 block6f_add False\n",
            "413 block6g_expand_conv False\n",
            "414 block6g_expand_bn False\n",
            "415 block6g_expand_activation False\n",
            "416 block6g_dwconv False\n",
            "417 block6g_bn False\n",
            "418 block6g_activation False\n",
            "419 block6g_se_squeeze False\n",
            "420 block6g_se_reshape False\n",
            "421 block6g_se_reduce False\n",
            "422 block6g_se_expand False\n",
            "423 block6g_se_excite False\n",
            "424 block6g_project_conv False\n",
            "425 block6g_project_bn False\n",
            "426 block6g_drop False\n",
            "427 block6g_add False\n",
            "428 block6h_expand_conv False\n",
            "429 block6h_expand_bn False\n",
            "430 block6h_expand_activation False\n",
            "431 block6h_dwconv False\n",
            "432 block6h_bn False\n",
            "433 block6h_activation False\n",
            "434 block6h_se_squeeze False\n",
            "435 block6h_se_reshape False\n",
            "436 block6h_se_reduce False\n",
            "437 block6h_se_expand False\n",
            "438 block6h_se_excite False\n",
            "439 block6h_project_conv False\n",
            "440 block6h_project_bn False\n",
            "441 block6h_drop False\n",
            "442 block6h_add False\n",
            "443 block7a_expand_conv False\n",
            "444 block7a_expand_bn False\n",
            "445 block7a_expand_activation False\n",
            "446 block7a_dwconv False\n",
            "447 block7a_bn False\n",
            "448 block7a_activation False\n",
            "449 block7a_se_squeeze False\n",
            "450 block7a_se_reshape False\n",
            "451 block7a_se_reduce False\n",
            "452 block7a_se_expand False\n",
            "453 block7a_se_excite False\n",
            "454 block7a_project_conv False\n",
            "455 block7a_project_bn False\n",
            "456 block7b_expand_conv False\n",
            "457 block7b_expand_bn False\n",
            "458 block7b_expand_activation False\n",
            "459 block7b_dwconv False\n",
            "460 block7b_bn False\n",
            "461 block7b_activation False\n",
            "462 block7b_se_squeeze False\n",
            "463 block7b_se_reshape False\n",
            "464 block7b_se_reduce False\n",
            "465 block7b_se_expand False\n",
            "466 block7b_se_excite False\n",
            "467 block7b_project_conv False\n",
            "468 block7b_project_bn False\n",
            "469 block7b_drop False\n",
            "470 block7b_add False\n",
            "471 top_conv False\n",
            "472 top_bn False\n",
            "473 top_activation False\n"
          ],
          "name": "stdout"
        }
      ]
    },
    {
      "cell_type": "code",
      "metadata": {
        "colab": {
          "base_uri": "https://localhost:8080/"
        },
        "id": "xiLYQ82xeTz0",
        "outputId": "8b090519-a4a8-43f8-e314-4a3907aaddb1"
      },
      "source": [
        "print(len(model_2.layers[2].trainable_variables))"
      ],
      "execution_count": 49,
      "outputs": [
        {
          "output_type": "stream",
          "text": [
            "0\n"
          ],
          "name": "stdout"
        }
      ]
    },
    {
      "cell_type": "code",
      "metadata": {
        "id": "tekHJ-gaesDr"
      },
      "source": [
        "base_model.trainable = True \n",
        "\n",
        "for layer in base_model.layers[:-10]:\n",
        "  layer.trainable = False"
      ],
      "execution_count": 50,
      "outputs": []
    },
    {
      "cell_type": "code",
      "metadata": {
        "colab": {
          "base_uri": "https://localhost:8080/"
        },
        "id": "pHiIgB2Be6CP",
        "outputId": "ae4c9410-f58a-4abb-93ae-b5d5f481b36c"
      },
      "source": [
        "model_2.compile(loss = \"categorical_crossentropy\" , \n",
        "                optimizer =tf.keras.optimizers.Adam(lr = 0.0001) , \n",
        "                metrics=[\"accuracy\"])"
      ],
      "execution_count": 51,
      "outputs": [
        {
          "output_type": "stream",
          "text": [
            "/usr/local/lib/python3.7/dist-packages/tensorflow/python/keras/optimizer_v2/optimizer_v2.py:375: UserWarning: The `lr` argument is deprecated, use `learning_rate` instead.\n",
            "  \"The `lr` argument is deprecated, use `learning_rate` instead.\")\n"
          ],
          "name": "stderr"
        }
      ]
    },
    {
      "cell_type": "code",
      "metadata": {
        "colab": {
          "base_uri": "https://localhost:8080/"
        },
        "id": "CG3P5_y3fKSR",
        "outputId": "1536ee41-72c4-41fe-af47-2ca541fe2fd4"
      },
      "source": [
        "for layer_number , layer in enumerate(model_2.layers[2].layers):\n",
        "  print(layer_number , layer.name , layer.trainable)"
      ],
      "execution_count": 52,
      "outputs": [
        {
          "output_type": "stream",
          "text": [
            "0 input_3 False\n",
            "1 rescaling_2 False\n",
            "2 normalization_2 False\n",
            "3 stem_conv_pad False\n",
            "4 stem_conv False\n",
            "5 stem_bn False\n",
            "6 stem_activation False\n",
            "7 block1a_dwconv False\n",
            "8 block1a_bn False\n",
            "9 block1a_activation False\n",
            "10 block1a_se_squeeze False\n",
            "11 block1a_se_reshape False\n",
            "12 block1a_se_reduce False\n",
            "13 block1a_se_expand False\n",
            "14 block1a_se_excite False\n",
            "15 block1a_project_conv False\n",
            "16 block1a_project_bn False\n",
            "17 block1b_dwconv False\n",
            "18 block1b_bn False\n",
            "19 block1b_activation False\n",
            "20 block1b_se_squeeze False\n",
            "21 block1b_se_reshape False\n",
            "22 block1b_se_reduce False\n",
            "23 block1b_se_expand False\n",
            "24 block1b_se_excite False\n",
            "25 block1b_project_conv False\n",
            "26 block1b_project_bn False\n",
            "27 block1b_drop False\n",
            "28 block1b_add False\n",
            "29 block2a_expand_conv False\n",
            "30 block2a_expand_bn False\n",
            "31 block2a_expand_activation False\n",
            "32 block2a_dwconv_pad False\n",
            "33 block2a_dwconv False\n",
            "34 block2a_bn False\n",
            "35 block2a_activation False\n",
            "36 block2a_se_squeeze False\n",
            "37 block2a_se_reshape False\n",
            "38 block2a_se_reduce False\n",
            "39 block2a_se_expand False\n",
            "40 block2a_se_excite False\n",
            "41 block2a_project_conv False\n",
            "42 block2a_project_bn False\n",
            "43 block2b_expand_conv False\n",
            "44 block2b_expand_bn False\n",
            "45 block2b_expand_activation False\n",
            "46 block2b_dwconv False\n",
            "47 block2b_bn False\n",
            "48 block2b_activation False\n",
            "49 block2b_se_squeeze False\n",
            "50 block2b_se_reshape False\n",
            "51 block2b_se_reduce False\n",
            "52 block2b_se_expand False\n",
            "53 block2b_se_excite False\n",
            "54 block2b_project_conv False\n",
            "55 block2b_project_bn False\n",
            "56 block2b_drop False\n",
            "57 block2b_add False\n",
            "58 block2c_expand_conv False\n",
            "59 block2c_expand_bn False\n",
            "60 block2c_expand_activation False\n",
            "61 block2c_dwconv False\n",
            "62 block2c_bn False\n",
            "63 block2c_activation False\n",
            "64 block2c_se_squeeze False\n",
            "65 block2c_se_reshape False\n",
            "66 block2c_se_reduce False\n",
            "67 block2c_se_expand False\n",
            "68 block2c_se_excite False\n",
            "69 block2c_project_conv False\n",
            "70 block2c_project_bn False\n",
            "71 block2c_drop False\n",
            "72 block2c_add False\n",
            "73 block2d_expand_conv False\n",
            "74 block2d_expand_bn False\n",
            "75 block2d_expand_activation False\n",
            "76 block2d_dwconv False\n",
            "77 block2d_bn False\n",
            "78 block2d_activation False\n",
            "79 block2d_se_squeeze False\n",
            "80 block2d_se_reshape False\n",
            "81 block2d_se_reduce False\n",
            "82 block2d_se_expand False\n",
            "83 block2d_se_excite False\n",
            "84 block2d_project_conv False\n",
            "85 block2d_project_bn False\n",
            "86 block2d_drop False\n",
            "87 block2d_add False\n",
            "88 block3a_expand_conv False\n",
            "89 block3a_expand_bn False\n",
            "90 block3a_expand_activation False\n",
            "91 block3a_dwconv_pad False\n",
            "92 block3a_dwconv False\n",
            "93 block3a_bn False\n",
            "94 block3a_activation False\n",
            "95 block3a_se_squeeze False\n",
            "96 block3a_se_reshape False\n",
            "97 block3a_se_reduce False\n",
            "98 block3a_se_expand False\n",
            "99 block3a_se_excite False\n",
            "100 block3a_project_conv False\n",
            "101 block3a_project_bn False\n",
            "102 block3b_expand_conv False\n",
            "103 block3b_expand_bn False\n",
            "104 block3b_expand_activation False\n",
            "105 block3b_dwconv False\n",
            "106 block3b_bn False\n",
            "107 block3b_activation False\n",
            "108 block3b_se_squeeze False\n",
            "109 block3b_se_reshape False\n",
            "110 block3b_se_reduce False\n",
            "111 block3b_se_expand False\n",
            "112 block3b_se_excite False\n",
            "113 block3b_project_conv False\n",
            "114 block3b_project_bn False\n",
            "115 block3b_drop False\n",
            "116 block3b_add False\n",
            "117 block3c_expand_conv False\n",
            "118 block3c_expand_bn False\n",
            "119 block3c_expand_activation False\n",
            "120 block3c_dwconv False\n",
            "121 block3c_bn False\n",
            "122 block3c_activation False\n",
            "123 block3c_se_squeeze False\n",
            "124 block3c_se_reshape False\n",
            "125 block3c_se_reduce False\n",
            "126 block3c_se_expand False\n",
            "127 block3c_se_excite False\n",
            "128 block3c_project_conv False\n",
            "129 block3c_project_bn False\n",
            "130 block3c_drop False\n",
            "131 block3c_add False\n",
            "132 block3d_expand_conv False\n",
            "133 block3d_expand_bn False\n",
            "134 block3d_expand_activation False\n",
            "135 block3d_dwconv False\n",
            "136 block3d_bn False\n",
            "137 block3d_activation False\n",
            "138 block3d_se_squeeze False\n",
            "139 block3d_se_reshape False\n",
            "140 block3d_se_reduce False\n",
            "141 block3d_se_expand False\n",
            "142 block3d_se_excite False\n",
            "143 block3d_project_conv False\n",
            "144 block3d_project_bn False\n",
            "145 block3d_drop False\n",
            "146 block3d_add False\n",
            "147 block4a_expand_conv False\n",
            "148 block4a_expand_bn False\n",
            "149 block4a_expand_activation False\n",
            "150 block4a_dwconv_pad False\n",
            "151 block4a_dwconv False\n",
            "152 block4a_bn False\n",
            "153 block4a_activation False\n",
            "154 block4a_se_squeeze False\n",
            "155 block4a_se_reshape False\n",
            "156 block4a_se_reduce False\n",
            "157 block4a_se_expand False\n",
            "158 block4a_se_excite False\n",
            "159 block4a_project_conv False\n",
            "160 block4a_project_bn False\n",
            "161 block4b_expand_conv False\n",
            "162 block4b_expand_bn False\n",
            "163 block4b_expand_activation False\n",
            "164 block4b_dwconv False\n",
            "165 block4b_bn False\n",
            "166 block4b_activation False\n",
            "167 block4b_se_squeeze False\n",
            "168 block4b_se_reshape False\n",
            "169 block4b_se_reduce False\n",
            "170 block4b_se_expand False\n",
            "171 block4b_se_excite False\n",
            "172 block4b_project_conv False\n",
            "173 block4b_project_bn False\n",
            "174 block4b_drop False\n",
            "175 block4b_add False\n",
            "176 block4c_expand_conv False\n",
            "177 block4c_expand_bn False\n",
            "178 block4c_expand_activation False\n",
            "179 block4c_dwconv False\n",
            "180 block4c_bn False\n",
            "181 block4c_activation False\n",
            "182 block4c_se_squeeze False\n",
            "183 block4c_se_reshape False\n",
            "184 block4c_se_reduce False\n",
            "185 block4c_se_expand False\n",
            "186 block4c_se_excite False\n",
            "187 block4c_project_conv False\n",
            "188 block4c_project_bn False\n",
            "189 block4c_drop False\n",
            "190 block4c_add False\n",
            "191 block4d_expand_conv False\n",
            "192 block4d_expand_bn False\n",
            "193 block4d_expand_activation False\n",
            "194 block4d_dwconv False\n",
            "195 block4d_bn False\n",
            "196 block4d_activation False\n",
            "197 block4d_se_squeeze False\n",
            "198 block4d_se_reshape False\n",
            "199 block4d_se_reduce False\n",
            "200 block4d_se_expand False\n",
            "201 block4d_se_excite False\n",
            "202 block4d_project_conv False\n",
            "203 block4d_project_bn False\n",
            "204 block4d_drop False\n",
            "205 block4d_add False\n",
            "206 block4e_expand_conv False\n",
            "207 block4e_expand_bn False\n",
            "208 block4e_expand_activation False\n",
            "209 block4e_dwconv False\n",
            "210 block4e_bn False\n",
            "211 block4e_activation False\n",
            "212 block4e_se_squeeze False\n",
            "213 block4e_se_reshape False\n",
            "214 block4e_se_reduce False\n",
            "215 block4e_se_expand False\n",
            "216 block4e_se_excite False\n",
            "217 block4e_project_conv False\n",
            "218 block4e_project_bn False\n",
            "219 block4e_drop False\n",
            "220 block4e_add False\n",
            "221 block4f_expand_conv False\n",
            "222 block4f_expand_bn False\n",
            "223 block4f_expand_activation False\n",
            "224 block4f_dwconv False\n",
            "225 block4f_bn False\n",
            "226 block4f_activation False\n",
            "227 block4f_se_squeeze False\n",
            "228 block4f_se_reshape False\n",
            "229 block4f_se_reduce False\n",
            "230 block4f_se_expand False\n",
            "231 block4f_se_excite False\n",
            "232 block4f_project_conv False\n",
            "233 block4f_project_bn False\n",
            "234 block4f_drop False\n",
            "235 block4f_add False\n",
            "236 block5a_expand_conv False\n",
            "237 block5a_expand_bn False\n",
            "238 block5a_expand_activation False\n",
            "239 block5a_dwconv False\n",
            "240 block5a_bn False\n",
            "241 block5a_activation False\n",
            "242 block5a_se_squeeze False\n",
            "243 block5a_se_reshape False\n",
            "244 block5a_se_reduce False\n",
            "245 block5a_se_expand False\n",
            "246 block5a_se_excite False\n",
            "247 block5a_project_conv False\n",
            "248 block5a_project_bn False\n",
            "249 block5b_expand_conv False\n",
            "250 block5b_expand_bn False\n",
            "251 block5b_expand_activation False\n",
            "252 block5b_dwconv False\n",
            "253 block5b_bn False\n",
            "254 block5b_activation False\n",
            "255 block5b_se_squeeze False\n",
            "256 block5b_se_reshape False\n",
            "257 block5b_se_reduce False\n",
            "258 block5b_se_expand False\n",
            "259 block5b_se_excite False\n",
            "260 block5b_project_conv False\n",
            "261 block5b_project_bn False\n",
            "262 block5b_drop False\n",
            "263 block5b_add False\n",
            "264 block5c_expand_conv False\n",
            "265 block5c_expand_bn False\n",
            "266 block5c_expand_activation False\n",
            "267 block5c_dwconv False\n",
            "268 block5c_bn False\n",
            "269 block5c_activation False\n",
            "270 block5c_se_squeeze False\n",
            "271 block5c_se_reshape False\n",
            "272 block5c_se_reduce False\n",
            "273 block5c_se_expand False\n",
            "274 block5c_se_excite False\n",
            "275 block5c_project_conv False\n",
            "276 block5c_project_bn False\n",
            "277 block5c_drop False\n",
            "278 block5c_add False\n",
            "279 block5d_expand_conv False\n",
            "280 block5d_expand_bn False\n",
            "281 block5d_expand_activation False\n",
            "282 block5d_dwconv False\n",
            "283 block5d_bn False\n",
            "284 block5d_activation False\n",
            "285 block5d_se_squeeze False\n",
            "286 block5d_se_reshape False\n",
            "287 block5d_se_reduce False\n",
            "288 block5d_se_expand False\n",
            "289 block5d_se_excite False\n",
            "290 block5d_project_conv False\n",
            "291 block5d_project_bn False\n",
            "292 block5d_drop False\n",
            "293 block5d_add False\n",
            "294 block5e_expand_conv False\n",
            "295 block5e_expand_bn False\n",
            "296 block5e_expand_activation False\n",
            "297 block5e_dwconv False\n",
            "298 block5e_bn False\n",
            "299 block5e_activation False\n",
            "300 block5e_se_squeeze False\n",
            "301 block5e_se_reshape False\n",
            "302 block5e_se_reduce False\n",
            "303 block5e_se_expand False\n",
            "304 block5e_se_excite False\n",
            "305 block5e_project_conv False\n",
            "306 block5e_project_bn False\n",
            "307 block5e_drop False\n",
            "308 block5e_add False\n",
            "309 block5f_expand_conv False\n",
            "310 block5f_expand_bn False\n",
            "311 block5f_expand_activation False\n",
            "312 block5f_dwconv False\n",
            "313 block5f_bn False\n",
            "314 block5f_activation False\n",
            "315 block5f_se_squeeze False\n",
            "316 block5f_se_reshape False\n",
            "317 block5f_se_reduce False\n",
            "318 block5f_se_expand False\n",
            "319 block5f_se_excite False\n",
            "320 block5f_project_conv False\n",
            "321 block5f_project_bn False\n",
            "322 block5f_drop False\n",
            "323 block5f_add False\n",
            "324 block6a_expand_conv False\n",
            "325 block6a_expand_bn False\n",
            "326 block6a_expand_activation False\n",
            "327 block6a_dwconv_pad False\n",
            "328 block6a_dwconv False\n",
            "329 block6a_bn False\n",
            "330 block6a_activation False\n",
            "331 block6a_se_squeeze False\n",
            "332 block6a_se_reshape False\n",
            "333 block6a_se_reduce False\n",
            "334 block6a_se_expand False\n",
            "335 block6a_se_excite False\n",
            "336 block6a_project_conv False\n",
            "337 block6a_project_bn False\n",
            "338 block6b_expand_conv False\n",
            "339 block6b_expand_bn False\n",
            "340 block6b_expand_activation False\n",
            "341 block6b_dwconv False\n",
            "342 block6b_bn False\n",
            "343 block6b_activation False\n",
            "344 block6b_se_squeeze False\n",
            "345 block6b_se_reshape False\n",
            "346 block6b_se_reduce False\n",
            "347 block6b_se_expand False\n",
            "348 block6b_se_excite False\n",
            "349 block6b_project_conv False\n",
            "350 block6b_project_bn False\n",
            "351 block6b_drop False\n",
            "352 block6b_add False\n",
            "353 block6c_expand_conv False\n",
            "354 block6c_expand_bn False\n",
            "355 block6c_expand_activation False\n",
            "356 block6c_dwconv False\n",
            "357 block6c_bn False\n",
            "358 block6c_activation False\n",
            "359 block6c_se_squeeze False\n",
            "360 block6c_se_reshape False\n",
            "361 block6c_se_reduce False\n",
            "362 block6c_se_expand False\n",
            "363 block6c_se_excite False\n",
            "364 block6c_project_conv False\n",
            "365 block6c_project_bn False\n",
            "366 block6c_drop False\n",
            "367 block6c_add False\n",
            "368 block6d_expand_conv False\n",
            "369 block6d_expand_bn False\n",
            "370 block6d_expand_activation False\n",
            "371 block6d_dwconv False\n",
            "372 block6d_bn False\n",
            "373 block6d_activation False\n",
            "374 block6d_se_squeeze False\n",
            "375 block6d_se_reshape False\n",
            "376 block6d_se_reduce False\n",
            "377 block6d_se_expand False\n",
            "378 block6d_se_excite False\n",
            "379 block6d_project_conv False\n",
            "380 block6d_project_bn False\n",
            "381 block6d_drop False\n",
            "382 block6d_add False\n",
            "383 block6e_expand_conv False\n",
            "384 block6e_expand_bn False\n",
            "385 block6e_expand_activation False\n",
            "386 block6e_dwconv False\n",
            "387 block6e_bn False\n",
            "388 block6e_activation False\n",
            "389 block6e_se_squeeze False\n",
            "390 block6e_se_reshape False\n",
            "391 block6e_se_reduce False\n",
            "392 block6e_se_expand False\n",
            "393 block6e_se_excite False\n",
            "394 block6e_project_conv False\n",
            "395 block6e_project_bn False\n",
            "396 block6e_drop False\n",
            "397 block6e_add False\n",
            "398 block6f_expand_conv False\n",
            "399 block6f_expand_bn False\n",
            "400 block6f_expand_activation False\n",
            "401 block6f_dwconv False\n",
            "402 block6f_bn False\n",
            "403 block6f_activation False\n",
            "404 block6f_se_squeeze False\n",
            "405 block6f_se_reshape False\n",
            "406 block6f_se_reduce False\n",
            "407 block6f_se_expand False\n",
            "408 block6f_se_excite False\n",
            "409 block6f_project_conv False\n",
            "410 block6f_project_bn False\n",
            "411 block6f_drop False\n",
            "412 block6f_add False\n",
            "413 block6g_expand_conv False\n",
            "414 block6g_expand_bn False\n",
            "415 block6g_expand_activation False\n",
            "416 block6g_dwconv False\n",
            "417 block6g_bn False\n",
            "418 block6g_activation False\n",
            "419 block6g_se_squeeze False\n",
            "420 block6g_se_reshape False\n",
            "421 block6g_se_reduce False\n",
            "422 block6g_se_expand False\n",
            "423 block6g_se_excite False\n",
            "424 block6g_project_conv False\n",
            "425 block6g_project_bn False\n",
            "426 block6g_drop False\n",
            "427 block6g_add False\n",
            "428 block6h_expand_conv False\n",
            "429 block6h_expand_bn False\n",
            "430 block6h_expand_activation False\n",
            "431 block6h_dwconv False\n",
            "432 block6h_bn False\n",
            "433 block6h_activation False\n",
            "434 block6h_se_squeeze False\n",
            "435 block6h_se_reshape False\n",
            "436 block6h_se_reduce False\n",
            "437 block6h_se_expand False\n",
            "438 block6h_se_excite False\n",
            "439 block6h_project_conv False\n",
            "440 block6h_project_bn False\n",
            "441 block6h_drop False\n",
            "442 block6h_add False\n",
            "443 block7a_expand_conv False\n",
            "444 block7a_expand_bn False\n",
            "445 block7a_expand_activation False\n",
            "446 block7a_dwconv False\n",
            "447 block7a_bn False\n",
            "448 block7a_activation False\n",
            "449 block7a_se_squeeze False\n",
            "450 block7a_se_reshape False\n",
            "451 block7a_se_reduce False\n",
            "452 block7a_se_expand False\n",
            "453 block7a_se_excite False\n",
            "454 block7a_project_conv False\n",
            "455 block7a_project_bn False\n",
            "456 block7b_expand_conv False\n",
            "457 block7b_expand_bn False\n",
            "458 block7b_expand_activation False\n",
            "459 block7b_dwconv False\n",
            "460 block7b_bn False\n",
            "461 block7b_activation False\n",
            "462 block7b_se_squeeze False\n",
            "463 block7b_se_reshape False\n",
            "464 block7b_se_reduce True\n",
            "465 block7b_se_expand True\n",
            "466 block7b_se_excite True\n",
            "467 block7b_project_conv True\n",
            "468 block7b_project_bn True\n",
            "469 block7b_drop True\n",
            "470 block7b_add True\n",
            "471 top_conv True\n",
            "472 top_bn True\n",
            "473 top_activation True\n"
          ],
          "name": "stdout"
        }
      ]
    },
    {
      "cell_type": "code",
      "metadata": {
        "colab": {
          "base_uri": "https://localhost:8080/"
        },
        "id": "UUAYHRyQffHT",
        "outputId": "8278e5e8-e886-45f2-ff2a-b1fc3dc5f2c3"
      },
      "source": [
        "print(len(model_2.trainable_variables))"
      ],
      "execution_count": 53,
      "outputs": [
        {
          "output_type": "stream",
          "text": [
            "12\n"
          ],
          "name": "stdout"
        }
      ]
    },
    {
      "cell_type": "code",
      "metadata": {
        "colab": {
          "base_uri": "https://localhost:8080/"
        },
        "id": "bnYFDubZfuF4",
        "outputId": "5aab6f31-d776-4cde-ee1b-9c04f94ede06"
      },
      "source": [
        "fine_tune_epochs = initial_epochs + 5 \n",
        "\n",
        "history_fine_10_percent_data_aug = model_2.fit(train_data_10_percent , \n",
        "                                               epochs = fine_tune_epochs , \n",
        "                                               validation_data = test_data , \n",
        "                                               validation_steps = int(0.25*len(test_data)) , \n",
        "                                               initial_epoch = history_10_percent_data_aug.epoch[-1] , \n",
        "                                               callbacks=[create_tensorboard_callback(dir_name=\"transfer_learning\" ,\n",
        "                                                                                      experiment_name=\"10_percent_fine_tuning\")])"
      ],
      "execution_count": 54,
      "outputs": [
        {
          "output_type": "stream",
          "text": [
            "Saving TensorBoard log files to: transfer_learning/10_percent_fine_tuning/20210713-160021\n",
            "Epoch 5/10\n"
          ],
          "name": "stdout"
        },
        {
          "output_type": "stream",
          "text": [
            "/usr/local/lib/python3.7/dist-packages/tensorflow/python/keras/utils/generic_utils.py:497: CustomMaskWarning: Custom mask layers require a config and must override get_config. When loading, the custom mask layer must be passed to the custom_objects argument.\n",
            "  category=CustomMaskWarning)\n"
          ],
          "name": "stderr"
        },
        {
          "output_type": "stream",
          "text": [
            "24/24 [==============================] - 35s 986ms/step - loss: 0.6754 - accuracy: 0.8000 - val_loss: 0.5309 - val_accuracy: 0.8224\n",
            "Epoch 6/10\n",
            "24/24 [==============================] - 18s 742ms/step - loss: 0.5605 - accuracy: 0.8133 - val_loss: 0.4986 - val_accuracy: 0.8355\n",
            "Epoch 7/10\n",
            "24/24 [==============================] - 15s 623ms/step - loss: 0.4913 - accuracy: 0.8347 - val_loss: 0.5310 - val_accuracy: 0.8092\n",
            "Epoch 8/10\n",
            "24/24 [==============================] - 16s 648ms/step - loss: 0.4022 - accuracy: 0.8680 - val_loss: 0.5105 - val_accuracy: 0.8322\n",
            "Epoch 9/10\n",
            "24/24 [==============================] - 14s 573ms/step - loss: 0.4102 - accuracy: 0.8627 - val_loss: 0.5081 - val_accuracy: 0.8257\n",
            "Epoch 10/10\n",
            "24/24 [==============================] - 16s 659ms/step - loss: 0.3437 - accuracy: 0.8907 - val_loss: 0.5667 - val_accuracy: 0.7961\n"
          ],
          "name": "stdout"
        }
      ]
    },
    {
      "cell_type": "code",
      "metadata": {
        "colab": {
          "base_uri": "https://localhost:8080/"
        },
        "id": "Ww6tB1sQjPLA",
        "outputId": "b2ea3c3c-5ea0-4f39-aa9e-8cb450bfb623"
      },
      "source": [
        "results_fine_tune_10_percent = model_2.evaluate(test_data)"
      ],
      "execution_count": 55,
      "outputs": [
        {
          "output_type": "stream",
          "text": [
            "79/79 [==============================] - 16s 193ms/step - loss: 0.5276 - accuracy: 0.8268\n"
          ],
          "name": "stdout"
        }
      ]
    },
    {
      "cell_type": "code",
      "metadata": {
        "colab": {
          "base_uri": "https://localhost:8080/",
          "height": 573
        },
        "id": "dWvipLtzjZL9",
        "outputId": "cd63d5a7-4f7e-49ae-c396-762c7a6d2777"
      },
      "source": [
        "plot_loss_curves(history_fine_10_percent_data_aug)"
      ],
      "execution_count": 56,
      "outputs": [
        {
          "output_type": "display_data",
          "data": {
            "image/png": "[encoded data removed]",
            "text/plain": [
              "<Figure size 432x288 with 1 Axes>"
            ]
          },
          "metadata": {
            "tags": [],
            "needs_background": "light"
          }
        },
        {
          "output_type": "display_data",
          "data": {
            "image/png": "[encoded data removed]",
            "text/plain": [
              "<Figure size 432x288 with 1 Axes>"
            ]
          },
          "metadata": {
            "tags": [],
            "needs_background": "light"
          }
        }
      ]
    },
    {
      "cell_type": "code",
      "metadata": {
        "id": "d0AmqSnQjzvv"
      },
      "source": [
        " def compare_historys(original_history , new_history , initial_epochs=5):\n",
        "\n",
        "   acc = original_history.history[\"accuracy\"]\n",
        "   loss = original_history.history[\"loss\"]\n",
        "\n",
        "   val_acc = original_history.history[\"val_accuracy\"]\n",
        "   val_loss = original_history.history[\"val_loss\"]\n",
        "\n",
        "   total_acc = acc + new_history.history[\"accuracy\"]\n",
        "   total_loss = loss + new_history.history[\"loss\"]\n",
        "\n",
        "   total_val_acc = val_acc + new_history.history[\"val_accuracy\"]\n",
        "   total_val_loss = val_loss + new_history.history[\"val_loss\"]\n",
        "\n",
        "   plt.figure(figsize=(8,8))\n",
        "   plt.subplot(2,1,1)\n",
        "   plt.plot(total_acc , label=\"training acc\")\n",
        "   plt.plot(total_val_acc , label=\"val acc\")\n",
        "   plt.plot([initial_epochs-1 , initial_epochs-1] , plt.ylim() , label=\"start fine tuning\")\n",
        "   plt.legend(loc=\"lower right\")\n",
        "   plt.title(\"training and val acc\")\n",
        "\n",
        "\n",
        "   plt.figure(figsize=(8,8))\n",
        "   plt.subplot(2,1,1)\n",
        "   plt.plot(total_loss , label=\"training loss\")\n",
        "   plt.plot(total_val_loss , label=\"val loss\")\n",
        "   plt.plot([initial_epochs-1 , initial_epochs-1] , plt.ylim() , label=\"start fine tuning\")\n",
        "   plt.legend(loc=\"upper right\")\n",
        "   plt.title(\"training and val acc\")"
      ],
      "execution_count": 57,
      "outputs": []
    },
    {
      "cell_type": "code",
      "metadata": {
        "colab": {
          "base_uri": "https://localhost:8080/",
          "height": 507
        },
        "id": "BSx0n6LMovYM",
        "outputId": "3f5d08b0-217a-45dc-8977-7d7c6fe3b4ce"
      },
      "source": [
        "compare_historys(history_10_percent_data_aug , \n",
        "                 history_fine_10_percent_data_aug , \n",
        "                 initial_epochs=5)"
      ],
      "execution_count": 58,
      "outputs": [
        {
          "output_type": "display_data",
          "data": {
            "image/png": "[encoded data removed]",
            "text/plain": [
              "<Figure size 576x576 with 1 Axes>"
            ]
          },
          "metadata": {
            "tags": [],
            "needs_background": "light"
          }
        },
        {
          "output_type": "display_data",
          "data": {
            "image/png": "[encoded data removed]",
            "text/plain": [
              "<Figure size 576x576 with 1 Axes>"
            ]
          },
          "metadata": {
            "tags": [],
            "needs_background": "light"
          }
        }
      ]
    },
    {
      "cell_type": "code",
      "metadata": {
        "colab": {
          "base_uri": "https://localhost:8080/"
        },
        "id": "-U04a0QtpK7E",
        "outputId": "e6db3e5e-b414-4413-f4e8-fc67bb331e0b"
      },
      "source": [
        "!wget https://storage.googleapis.com/ztm_tf_course/food_vision/10_food_classes_all_data.zip\n",
        "unzip_data(\"10_food_classes_all_data.zip\")"
      ],
      "execution_count": 64,
      "outputs": [
        {
          "output_type": "stream",
          "text": [
            "--2021-07-13 16:04:06--  https://storage.googleapis.com/ztm_tf_course/food_vision/10_food_classes_all_data.zip\n",
            "Resolving storage.googleapis.com (storage.googleapis.com)... 74.125.142.128, 74.125.195.128, 2607:f8b0:400e:c07::80, ...\n",
            "Connecting to storage.googleapis.com (storage.googleapis.com)|74.125.142.128|:443... connected.\n",
            "HTTP request sent, awaiting response... 200 OK\n",
            "Length: 519183241 (495M) [application/zip]\n",
            "Saving to: ‘10_food_classes_all_data.zip’\n",
            "\n",
            "10_food_classes_all 100%[===================>] 495.13M   118MB/s    in 5.4s    \n",
            "\n",
            "2021-07-13 16:04:11 (92.5 MB/s) - ‘10_food_classes_all_data.zip’ saved [519183241/519183241]\n",
            "\n"
          ],
          "name": "stdout"
        }
      ]
    },
    {
      "cell_type": "code",
      "metadata": {
        "id": "8tPLK4qfleh4"
      },
      "source": [
        "train_dir_all_data = \"10_food_classes_all_data/train\"\n",
        "test_dir = \"10_food_classes_all_data/test\""
      ],
      "execution_count": 65,
      "outputs": []
    },
    {
      "cell_type": "code",
      "metadata": {
        "colab": {
          "base_uri": "https://localhost:8080/"
        },
        "id": "tHAOlaUslm-1",
        "outputId": "2bed2226-7d2a-4944-950a-2218fc88c58c"
      },
      "source": [
        "walk_through_dir(\"10_food_classes_all_data\")"
      ],
      "execution_count": 66,
      "outputs": [
        {
          "output_type": "stream",
          "text": [
            "There are 2 directories and 0 images in '10_food_classes_all_data'.\n",
            "There are 10 directories and 0 images in '10_food_classes_all_data/train'.\n",
            "There are 0 directories and 750 images in '10_food_classes_all_data/train/steak'.\n",
            "There are 0 directories and 750 images in '10_food_classes_all_data/train/chicken_curry'.\n",
            "There are 0 directories and 750 images in '10_food_classes_all_data/train/hamburger'.\n",
            "There are 0 directories and 750 images in '10_food_classes_all_data/train/ice_cream'.\n",
            "There are 0 directories and 750 images in '10_food_classes_all_data/train/chicken_wings'.\n",
            "There are 0 directories and 750 images in '10_food_classes_all_data/train/grilled_salmon'.\n",
            "There are 0 directories and 750 images in '10_food_classes_all_data/train/sushi'.\n",
            "There are 0 directories and 750 images in '10_food_classes_all_data/train/fried_rice'.\n",
            "There are 0 directories and 750 images in '10_food_classes_all_data/train/pizza'.\n",
            "There are 0 directories and 750 images in '10_food_classes_all_data/train/ramen'.\n",
            "There are 10 directories and 0 images in '10_food_classes_all_data/test'.\n",
            "There are 0 directories and 250 images in '10_food_classes_all_data/test/steak'.\n",
            "There are 0 directories and 250 images in '10_food_classes_all_data/test/chicken_curry'.\n",
            "There are 0 directories and 250 images in '10_food_classes_all_data/test/hamburger'.\n",
            "There are 0 directories and 250 images in '10_food_classes_all_data/test/ice_cream'.\n",
            "There are 0 directories and 250 images in '10_food_classes_all_data/test/chicken_wings'.\n",
            "There are 0 directories and 250 images in '10_food_classes_all_data/test/grilled_salmon'.\n",
            "There are 0 directories and 250 images in '10_food_classes_all_data/test/sushi'.\n",
            "There are 0 directories and 250 images in '10_food_classes_all_data/test/fried_rice'.\n",
            "There are 0 directories and 250 images in '10_food_classes_all_data/test/pizza'.\n",
            "There are 0 directories and 250 images in '10_food_classes_all_data/test/ramen'.\n"
          ],
          "name": "stdout"
        }
      ]
    },
    {
      "cell_type": "code",
      "metadata": {
        "colab": {
          "base_uri": "https://localhost:8080/"
        },
        "id": "ND_yYdKClp1o",
        "outputId": "88e9d198-a119-4cda-f690-f4efb5c51ace"
      },
      "source": [
        "import tensorflow as tf \n",
        "IMG_SIZE = (224 , 224)\n",
        "train_data_10_food_classes_full = tf.keras.preprocessing.image_dataset_from_directory(train_dir_all_data , \n",
        "                                                                                      label_mode = \"categorical\" , \n",
        "                                                                                      image_size = IMG_SIZE)\n",
        "\n",
        "test_data = tf.keras.preprocessing.image_dataset_from_directory(test_dir , \n",
        "                                                                label_mode=\"categorical\" , \n",
        "                                                                image_size = IMG_SIZE)"
      ],
      "execution_count": 67,
      "outputs": [
        {
          "output_type": "stream",
          "text": [
            "Found 7500 files belonging to 10 classes.\n",
            "Found 2500 files belonging to 10 classes.\n"
          ],
          "name": "stdout"
        }
      ]
    },
    {
      "cell_type": "code",
      "metadata": {
        "colab": {
          "base_uri": "https://localhost:8080/"
        },
        "id": "YLc16oLgmZvu",
        "outputId": "83d28601-27a1-48a2-858d-5a8f716c6226"
      },
      "source": [
        "model_2.evaluate(test_data)\n"
      ],
      "execution_count": 68,
      "outputs": [
        {
          "output_type": "stream",
          "text": [
            "79/79 [==============================] - 16s 197ms/step - loss: 0.5276 - accuracy: 0.8268\n"
          ],
          "name": "stdout"
        },
        {
          "output_type": "execute_result",
          "data": {
            "text/plain": [
              "[0.527637243270874, 0.8267999887466431]"
            ]
          },
          "metadata": {
            "tags": []
          },
          "execution_count": 68
        }
      ]
    },
    {
      "cell_type": "code",
      "metadata": {
        "colab": {
          "base_uri": "https://localhost:8080/"
        },
        "id": "vzbfSpxKmhov",
        "outputId": "1cfb0573-d510-4dd4-cb93-8e12925dde33"
      },
      "source": [
        "results_fine_tune_10_percent"
      ],
      "execution_count": 69,
      "outputs": [
        {
          "output_type": "execute_result",
          "data": {
            "text/plain": [
              "[0.5276371836662292, 0.8267999887466431]"
            ]
          },
          "metadata": {
            "tags": []
          },
          "execution_count": 69
        }
      ]
    },
    {
      "cell_type": "code",
      "metadata": {
        "colab": {
          "base_uri": "https://localhost:8080/"
        },
        "id": "neNXZbH2mlpS",
        "outputId": "f792c6a8-89bf-4eeb-f7d6-7a1dbc142800"
      },
      "source": [
        "model_2.load_weights(checkpoint_path)"
      ],
      "execution_count": 70,
      "outputs": [
        {
          "output_type": "execute_result",
          "data": {
            "text/plain": [
              "<tensorflow.python.training.tracking.util.CheckpointLoadStatus at 0x7fc900cd3ed0>"
            ]
          },
          "metadata": {
            "tags": []
          },
          "execution_count": 70
        }
      ]
    },
    {
      "cell_type": "code",
      "metadata": {
        "colab": {
          "base_uri": "https://localhost:8080/"
        },
        "id": "S5NiVCngmsln",
        "outputId": "cb22e75a-c19a-4181-d1ee-2ba142897cdd"
      },
      "source": [
        "model_2.evaluate(test_data)"
      ],
      "execution_count": 71,
      "outputs": [
        {
          "output_type": "stream",
          "text": [
            "79/79 [==============================] - 16s 196ms/step - loss: 0.6324 - accuracy: 0.8220\n"
          ],
          "name": "stdout"
        },
        {
          "output_type": "execute_result",
          "data": {
            "text/plain": [
              "[0.6324488520622253, 0.8220000267028809]"
            ]
          },
          "metadata": {
            "tags": []
          },
          "execution_count": 71
        }
      ]
    },
    {
      "cell_type": "code",
      "metadata": {
        "colab": {
          "base_uri": "https://localhost:8080/"
        },
        "id": "O86lNIKkm4zg",
        "outputId": "f37b3187-a235-40ab-9e13-91c77b7b684e"
      },
      "source": [
        "results_10_percent_data_aug"
      ],
      "execution_count": 72,
      "outputs": [
        {
          "output_type": "execute_result",
          "data": {
            "text/plain": [
              "[0.6324488520622253, 0.8220000267028809]"
            ]
          },
          "metadata": {
            "tags": []
          },
          "execution_count": 72
        }
      ]
    },
    {
      "cell_type": "code",
      "metadata": {
        "colab": {
          "base_uri": "https://localhost:8080/"
        },
        "id": "IJvzDtuxnXnZ",
        "outputId": "6de10039-f4c0-43cc-b00b-e7b155fe2e98"
      },
      "source": [
        "for layer_number , layer in enumerate(model_2.layers):\n",
        "  print(layer_number , layer.name , layer.trainable)"
      ],
      "execution_count": 73,
      "outputs": [
        {
          "output_type": "stream",
          "text": [
            "0 input_layer True\n",
            "1 data_augmentation True\n",
            "2 efficientnetb4 True\n",
            "3 global_avg_layer True\n",
            "4 output_layer True\n"
          ],
          "name": "stdout"
        }
      ]
    },
    {
      "cell_type": "code",
      "metadata": {
        "colab": {
          "base_uri": "https://localhost:8080/"
        },
        "id": "SpdAHZsTnoHG",
        "outputId": "0db686c3-b966-46ac-a7a7-5db7338de015"
      },
      "source": [
        "for layer_number , layer in enumerate(model_2.layers[2].layers):\n",
        "  print(layer_number , layer.name , layer.trainable)"
      ],
      "execution_count": 75,
      "outputs": [
        {
          "output_type": "stream",
          "text": [
            "0 input_3 False\n",
            "1 rescaling_2 False\n",
            "2 normalization_2 False\n",
            "3 stem_conv_pad False\n",
            "4 stem_conv False\n",
            "5 stem_bn False\n",
            "6 stem_activation False\n",
            "7 block1a_dwconv False\n",
            "8 block1a_bn False\n",
            "9 block1a_activation False\n",
            "10 block1a_se_squeeze False\n",
            "11 block1a_se_reshape False\n",
            "12 block1a_se_reduce False\n",
            "13 block1a_se_expand False\n",
            "14 block1a_se_excite False\n",
            "15 block1a_project_conv False\n",
            "16 block1a_project_bn False\n",
            "17 block1b_dwconv False\n",
            "18 block1b_bn False\n",
            "19 block1b_activation False\n",
            "20 block1b_se_squeeze False\n",
            "21 block1b_se_reshape False\n",
            "22 block1b_se_reduce False\n",
            "23 block1b_se_expand False\n",
            "24 block1b_se_excite False\n",
            "25 block1b_project_conv False\n",
            "26 block1b_project_bn False\n",
            "27 block1b_drop False\n",
            "28 block1b_add False\n",
            "29 block2a_expand_conv False\n",
            "30 block2a_expand_bn False\n",
            "31 block2a_expand_activation False\n",
            "32 block2a_dwconv_pad False\n",
            "33 block2a_dwconv False\n",
            "34 block2a_bn False\n",
            "35 block2a_activation False\n",
            "36 block2a_se_squeeze False\n",
            "37 block2a_se_reshape False\n",
            "38 block2a_se_reduce False\n",
            "39 block2a_se_expand False\n",
            "40 block2a_se_excite False\n",
            "41 block2a_project_conv False\n",
            "42 block2a_project_bn False\n",
            "43 block2b_expand_conv False\n",
            "44 block2b_expand_bn False\n",
            "45 block2b_expand_activation False\n",
            "46 block2b_dwconv False\n",
            "47 block2b_bn False\n",
            "48 block2b_activation False\n",
            "49 block2b_se_squeeze False\n",
            "50 block2b_se_reshape False\n",
            "51 block2b_se_reduce False\n",
            "52 block2b_se_expand False\n",
            "53 block2b_se_excite False\n",
            "54 block2b_project_conv False\n",
            "55 block2b_project_bn False\n",
            "56 block2b_drop False\n",
            "57 block2b_add False\n",
            "58 block2c_expand_conv False\n",
            "59 block2c_expand_bn False\n",
            "60 block2c_expand_activation False\n",
            "61 block2c_dwconv False\n",
            "62 block2c_bn False\n",
            "63 block2c_activation False\n",
            "64 block2c_se_squeeze False\n",
            "65 block2c_se_reshape False\n",
            "66 block2c_se_reduce False\n",
            "67 block2c_se_expand False\n",
            "68 block2c_se_excite False\n",
            "69 block2c_project_conv False\n",
            "70 block2c_project_bn False\n",
            "71 block2c_drop False\n",
            "72 block2c_add False\n",
            "73 block2d_expand_conv False\n",
            "74 block2d_expand_bn False\n",
            "75 block2d_expand_activation False\n",
            "76 block2d_dwconv False\n",
            "77 block2d_bn False\n",
            "78 block2d_activation False\n",
            "79 block2d_se_squeeze False\n",
            "80 block2d_se_reshape False\n",
            "81 block2d_se_reduce False\n",
            "82 block2d_se_expand False\n",
            "83 block2d_se_excite False\n",
            "84 block2d_project_conv False\n",
            "85 block2d_project_bn False\n",
            "86 block2d_drop False\n",
            "87 block2d_add False\n",
            "88 block3a_expand_conv False\n",
            "89 block3a_expand_bn False\n",
            "90 block3a_expand_activation False\n",
            "91 block3a_dwconv_pad False\n",
            "92 block3a_dwconv False\n",
            "93 block3a_bn False\n",
            "94 block3a_activation False\n",
            "95 block3a_se_squeeze False\n",
            "96 block3a_se_reshape False\n",
            "97 block3a_se_reduce False\n",
            "98 block3a_se_expand False\n",
            "99 block3a_se_excite False\n",
            "100 block3a_project_conv False\n",
            "101 block3a_project_bn False\n",
            "102 block3b_expand_conv False\n",
            "103 block3b_expand_bn False\n",
            "104 block3b_expand_activation False\n",
            "105 block3b_dwconv False\n",
            "106 block3b_bn False\n",
            "107 block3b_activation False\n",
            "108 block3b_se_squeeze False\n",
            "109 block3b_se_reshape False\n",
            "110 block3b_se_reduce False\n",
            "111 block3b_se_expand False\n",
            "112 block3b_se_excite False\n",
            "113 block3b_project_conv False\n",
            "114 block3b_project_bn False\n",
            "115 block3b_drop False\n",
            "116 block3b_add False\n",
            "117 block3c_expand_conv False\n",
            "118 block3c_expand_bn False\n",
            "119 block3c_expand_activation False\n",
            "120 block3c_dwconv False\n",
            "121 block3c_bn False\n",
            "122 block3c_activation False\n",
            "123 block3c_se_squeeze False\n",
            "124 block3c_se_reshape False\n",
            "125 block3c_se_reduce False\n",
            "126 block3c_se_expand False\n",
            "127 block3c_se_excite False\n",
            "128 block3c_project_conv False\n",
            "129 block3c_project_bn False\n",
            "130 block3c_drop False\n",
            "131 block3c_add False\n",
            "132 block3d_expand_conv False\n",
            "133 block3d_expand_bn False\n",
            "134 block3d_expand_activation False\n",
            "135 block3d_dwconv False\n",
            "136 block3d_bn False\n",
            "137 block3d_activation False\n",
            "138 block3d_se_squeeze False\n",
            "139 block3d_se_reshape False\n",
            "140 block3d_se_reduce False\n",
            "141 block3d_se_expand False\n",
            "142 block3d_se_excite False\n",
            "143 block3d_project_conv False\n",
            "144 block3d_project_bn False\n",
            "145 block3d_drop False\n",
            "146 block3d_add False\n",
            "147 block4a_expand_conv False\n",
            "148 block4a_expand_bn False\n",
            "149 block4a_expand_activation False\n",
            "150 block4a_dwconv_pad False\n",
            "151 block4a_dwconv False\n",
            "152 block4a_bn False\n",
            "153 block4a_activation False\n",
            "154 block4a_se_squeeze False\n",
            "155 block4a_se_reshape False\n",
            "156 block4a_se_reduce False\n",
            "157 block4a_se_expand False\n",
            "158 block4a_se_excite False\n",
            "159 block4a_project_conv False\n",
            "160 block4a_project_bn False\n",
            "161 block4b_expand_conv False\n",
            "162 block4b_expand_bn False\n",
            "163 block4b_expand_activation False\n",
            "164 block4b_dwconv False\n",
            "165 block4b_bn False\n",
            "166 block4b_activation False\n",
            "167 block4b_se_squeeze False\n",
            "168 block4b_se_reshape False\n",
            "169 block4b_se_reduce False\n",
            "170 block4b_se_expand False\n",
            "171 block4b_se_excite False\n",
            "172 block4b_project_conv False\n",
            "173 block4b_project_bn False\n",
            "174 block4b_drop False\n",
            "175 block4b_add False\n",
            "176 block4c_expand_conv False\n",
            "177 block4c_expand_bn False\n",
            "178 block4c_expand_activation False\n",
            "179 block4c_dwconv False\n",
            "180 block4c_bn False\n",
            "181 block4c_activation False\n",
            "182 block4c_se_squeeze False\n",
            "183 block4c_se_reshape False\n",
            "184 block4c_se_reduce False\n",
            "185 block4c_se_expand False\n",
            "186 block4c_se_excite False\n",
            "187 block4c_project_conv False\n",
            "188 block4c_project_bn False\n",
            "189 block4c_drop False\n",
            "190 block4c_add False\n",
            "191 block4d_expand_conv False\n",
            "192 block4d_expand_bn False\n",
            "193 block4d_expand_activation False\n",
            "194 block4d_dwconv False\n",
            "195 block4d_bn False\n",
            "196 block4d_activation False\n",
            "197 block4d_se_squeeze False\n",
            "198 block4d_se_reshape False\n",
            "199 block4d_se_reduce False\n",
            "200 block4d_se_expand False\n",
            "201 block4d_se_excite False\n",
            "202 block4d_project_conv False\n",
            "203 block4d_project_bn False\n",
            "204 block4d_drop False\n",
            "205 block4d_add False\n",
            "206 block4e_expand_conv False\n",
            "207 block4e_expand_bn False\n",
            "208 block4e_expand_activation False\n",
            "209 block4e_dwconv False\n",
            "210 block4e_bn False\n",
            "211 block4e_activation False\n",
            "212 block4e_se_squeeze False\n",
            "213 block4e_se_reshape False\n",
            "214 block4e_se_reduce False\n",
            "215 block4e_se_expand False\n",
            "216 block4e_se_excite False\n",
            "217 block4e_project_conv False\n",
            "218 block4e_project_bn False\n",
            "219 block4e_drop False\n",
            "220 block4e_add False\n",
            "221 block4f_expand_conv False\n",
            "222 block4f_expand_bn False\n",
            "223 block4f_expand_activation False\n",
            "224 block4f_dwconv False\n",
            "225 block4f_bn False\n",
            "226 block4f_activation False\n",
            "227 block4f_se_squeeze False\n",
            "228 block4f_se_reshape False\n",
            "229 block4f_se_reduce False\n",
            "230 block4f_se_expand False\n",
            "231 block4f_se_excite False\n",
            "232 block4f_project_conv False\n",
            "233 block4f_project_bn False\n",
            "234 block4f_drop False\n",
            "235 block4f_add False\n",
            "236 block5a_expand_conv False\n",
            "237 block5a_expand_bn False\n",
            "238 block5a_expand_activation False\n",
            "239 block5a_dwconv False\n",
            "240 block5a_bn False\n",
            "241 block5a_activation False\n",
            "242 block5a_se_squeeze False\n",
            "243 block5a_se_reshape False\n",
            "244 block5a_se_reduce False\n",
            "245 block5a_se_expand False\n",
            "246 block5a_se_excite False\n",
            "247 block5a_project_conv False\n",
            "248 block5a_project_bn False\n",
            "249 block5b_expand_conv False\n",
            "250 block5b_expand_bn False\n",
            "251 block5b_expand_activation False\n",
            "252 block5b_dwconv False\n",
            "253 block5b_bn False\n",
            "254 block5b_activation False\n",
            "255 block5b_se_squeeze False\n",
            "256 block5b_se_reshape False\n",
            "257 block5b_se_reduce False\n",
            "258 block5b_se_expand False\n",
            "259 block5b_se_excite False\n",
            "260 block5b_project_conv False\n",
            "261 block5b_project_bn False\n",
            "262 block5b_drop False\n",
            "263 block5b_add False\n",
            "264 block5c_expand_conv False\n",
            "265 block5c_expand_bn False\n",
            "266 block5c_expand_activation False\n",
            "267 block5c_dwconv False\n",
            "268 block5c_bn False\n",
            "269 block5c_activation False\n",
            "270 block5c_se_squeeze False\n",
            "271 block5c_se_reshape False\n",
            "272 block5c_se_reduce False\n",
            "273 block5c_se_expand False\n",
            "274 block5c_se_excite False\n",
            "275 block5c_project_conv False\n",
            "276 block5c_project_bn False\n",
            "277 block5c_drop False\n",
            "278 block5c_add False\n",
            "279 block5d_expand_conv False\n",
            "280 block5d_expand_bn False\n",
            "281 block5d_expand_activation False\n",
            "282 block5d_dwconv False\n",
            "283 block5d_bn False\n",
            "284 block5d_activation False\n",
            "285 block5d_se_squeeze False\n",
            "286 block5d_se_reshape False\n",
            "287 block5d_se_reduce False\n",
            "288 block5d_se_expand False\n",
            "289 block5d_se_excite False\n",
            "290 block5d_project_conv False\n",
            "291 block5d_project_bn False\n",
            "292 block5d_drop False\n",
            "293 block5d_add False\n",
            "294 block5e_expand_conv False\n",
            "295 block5e_expand_bn False\n",
            "296 block5e_expand_activation False\n",
            "297 block5e_dwconv False\n",
            "298 block5e_bn False\n",
            "299 block5e_activation False\n",
            "300 block5e_se_squeeze False\n",
            "301 block5e_se_reshape False\n",
            "302 block5e_se_reduce False\n",
            "303 block5e_se_expand False\n",
            "304 block5e_se_excite False\n",
            "305 block5e_project_conv False\n",
            "306 block5e_project_bn False\n",
            "307 block5e_drop False\n",
            "308 block5e_add False\n",
            "309 block5f_expand_conv False\n",
            "310 block5f_expand_bn False\n",
            "311 block5f_expand_activation False\n",
            "312 block5f_dwconv False\n",
            "313 block5f_bn False\n",
            "314 block5f_activation False\n",
            "315 block5f_se_squeeze False\n",
            "316 block5f_se_reshape False\n",
            "317 block5f_se_reduce False\n",
            "318 block5f_se_expand False\n",
            "319 block5f_se_excite False\n",
            "320 block5f_project_conv False\n",
            "321 block5f_project_bn False\n",
            "322 block5f_drop False\n",
            "323 block5f_add False\n",
            "324 block6a_expand_conv False\n",
            "325 block6a_expand_bn False\n",
            "326 block6a_expand_activation False\n",
            "327 block6a_dwconv_pad False\n",
            "328 block6a_dwconv False\n",
            "329 block6a_bn False\n",
            "330 block6a_activation False\n",
            "331 block6a_se_squeeze False\n",
            "332 block6a_se_reshape False\n",
            "333 block6a_se_reduce False\n",
            "334 block6a_se_expand False\n",
            "335 block6a_se_excite False\n",
            "336 block6a_project_conv False\n",
            "337 block6a_project_bn False\n",
            "338 block6b_expand_conv False\n",
            "339 block6b_expand_bn False\n",
            "340 block6b_expand_activation False\n",
            "341 block6b_dwconv False\n",
            "342 block6b_bn False\n",
            "343 block6b_activation False\n",
            "344 block6b_se_squeeze False\n",
            "345 block6b_se_reshape False\n",
            "346 block6b_se_reduce False\n",
            "347 block6b_se_expand False\n",
            "348 block6b_se_excite False\n",
            "349 block6b_project_conv False\n",
            "350 block6b_project_bn False\n",
            "351 block6b_drop False\n",
            "352 block6b_add False\n",
            "353 block6c_expand_conv False\n",
            "354 block6c_expand_bn False\n",
            "355 block6c_expand_activation False\n",
            "356 block6c_dwconv False\n",
            "357 block6c_bn False\n",
            "358 block6c_activation False\n",
            "359 block6c_se_squeeze False\n",
            "360 block6c_se_reshape False\n",
            "361 block6c_se_reduce False\n",
            "362 block6c_se_expand False\n",
            "363 block6c_se_excite False\n",
            "364 block6c_project_conv False\n",
            "365 block6c_project_bn False\n",
            "366 block6c_drop False\n",
            "367 block6c_add False\n",
            "368 block6d_expand_conv False\n",
            "369 block6d_expand_bn False\n",
            "370 block6d_expand_activation False\n",
            "371 block6d_dwconv False\n",
            "372 block6d_bn False\n",
            "373 block6d_activation False\n",
            "374 block6d_se_squeeze False\n",
            "375 block6d_se_reshape False\n",
            "376 block6d_se_reduce False\n",
            "377 block6d_se_expand False\n",
            "378 block6d_se_excite False\n",
            "379 block6d_project_conv False\n",
            "380 block6d_project_bn False\n",
            "381 block6d_drop False\n",
            "382 block6d_add False\n",
            "383 block6e_expand_conv False\n",
            "384 block6e_expand_bn False\n",
            "385 block6e_expand_activation False\n",
            "386 block6e_dwconv False\n",
            "387 block6e_bn False\n",
            "388 block6e_activation False\n",
            "389 block6e_se_squeeze False\n",
            "390 block6e_se_reshape False\n",
            "391 block6e_se_reduce False\n",
            "392 block6e_se_expand False\n",
            "393 block6e_se_excite False\n",
            "394 block6e_project_conv False\n",
            "395 block6e_project_bn False\n",
            "396 block6e_drop False\n",
            "397 block6e_add False\n",
            "398 block6f_expand_conv False\n",
            "399 block6f_expand_bn False\n",
            "400 block6f_expand_activation False\n",
            "401 block6f_dwconv False\n",
            "402 block6f_bn False\n",
            "403 block6f_activation False\n",
            "404 block6f_se_squeeze False\n",
            "405 block6f_se_reshape False\n",
            "406 block6f_se_reduce False\n",
            "407 block6f_se_expand False\n",
            "408 block6f_se_excite False\n",
            "409 block6f_project_conv False\n",
            "410 block6f_project_bn False\n",
            "411 block6f_drop False\n",
            "412 block6f_add False\n",
            "413 block6g_expand_conv False\n",
            "414 block6g_expand_bn False\n",
            "415 block6g_expand_activation False\n",
            "416 block6g_dwconv False\n",
            "417 block6g_bn False\n",
            "418 block6g_activation False\n",
            "419 block6g_se_squeeze False\n",
            "420 block6g_se_reshape False\n",
            "421 block6g_se_reduce False\n",
            "422 block6g_se_expand False\n",
            "423 block6g_se_excite False\n",
            "424 block6g_project_conv False\n",
            "425 block6g_project_bn False\n",
            "426 block6g_drop False\n",
            "427 block6g_add False\n",
            "428 block6h_expand_conv False\n",
            "429 block6h_expand_bn False\n",
            "430 block6h_expand_activation False\n",
            "431 block6h_dwconv False\n",
            "432 block6h_bn False\n",
            "433 block6h_activation False\n",
            "434 block6h_se_squeeze False\n",
            "435 block6h_se_reshape False\n",
            "436 block6h_se_reduce False\n",
            "437 block6h_se_expand False\n",
            "438 block6h_se_excite False\n",
            "439 block6h_project_conv False\n",
            "440 block6h_project_bn False\n",
            "441 block6h_drop False\n",
            "442 block6h_add False\n",
            "443 block7a_expand_conv False\n",
            "444 block7a_expand_bn False\n",
            "445 block7a_expand_activation False\n",
            "446 block7a_dwconv False\n",
            "447 block7a_bn False\n",
            "448 block7a_activation False\n",
            "449 block7a_se_squeeze False\n",
            "450 block7a_se_reshape False\n",
            "451 block7a_se_reduce False\n",
            "452 block7a_se_expand False\n",
            "453 block7a_se_excite False\n",
            "454 block7a_project_conv False\n",
            "455 block7a_project_bn False\n",
            "456 block7b_expand_conv False\n",
            "457 block7b_expand_bn False\n",
            "458 block7b_expand_activation False\n",
            "459 block7b_dwconv False\n",
            "460 block7b_bn False\n",
            "461 block7b_activation False\n",
            "462 block7b_se_squeeze False\n",
            "463 block7b_se_reshape False\n",
            "464 block7b_se_reduce True\n",
            "465 block7b_se_expand True\n",
            "466 block7b_se_excite True\n",
            "467 block7b_project_conv True\n",
            "468 block7b_project_bn True\n",
            "469 block7b_drop True\n",
            "470 block7b_add True\n",
            "471 top_conv True\n",
            "472 top_bn True\n",
            "473 top_activation True\n"
          ],
          "name": "stdout"
        }
      ]
    },
    {
      "cell_type": "code",
      "metadata": {
        "id": "2TGW1jtinyOv"
      },
      "source": [
        "model_2.compile(loss = \"categorical_crossentropy\" , \n",
        "                optimizer =tf.keras.optimizers.Adam(learning_rate = 0.0001) , \n",
        "                metrics=[\"accuracy\"])"
      ],
      "execution_count": 78,
      "outputs": []
    },
    {
      "cell_type": "code",
      "metadata": {
        "colab": {
          "base_uri": "https://localhost:8080/"
        },
        "id": "BJwrp57woSKE",
        "outputId": "1d5e14cb-e2b6-41d9-e820-385cc370485e"
      },
      "source": [
        "fine_tune_epochs = initial_epochs + 5 \n",
        "\n",
        "history_fine_10_classes_full = model_2.fit(train_data_10_food_classes_full , \n",
        "                                               epochs = fine_tune_epochs , \n",
        "                                               validation_data = test_data , \n",
        "                                               validation_steps = int(0.25*len(test_data)) , \n",
        "                                               initial_epoch = history_10_percent_data_aug.epoch[-1] , \n",
        "                                               callbacks=[create_tensorboard_callback(dir_name=\"transfer_learning\" ,\n",
        "                                                                                      experiment_name=\"full_10_classes_fine_tuning\")])"
      ],
      "execution_count": 80,
      "outputs": [
        {
          "output_type": "stream",
          "text": [
            "Saving TensorBoard log files to: transfer_learning/full_10_classes_fine_tuning/20210713-161125\n",
            "Epoch 5/10\n"
          ],
          "name": "stdout"
        },
        {
          "output_type": "stream",
          "text": [
            "/usr/local/lib/python3.7/dist-packages/tensorflow/python/keras/utils/generic_utils.py:497: CustomMaskWarning: Custom mask layers require a config and must override get_config. When loading, the custom mask layer must be passed to the custom_objects argument.\n",
            "  category=CustomMaskWarning)\n"
          ],
          "name": "stderr"
        },
        {
          "output_type": "stream",
          "text": [
            "235/235 [==============================] - 92s 353ms/step - loss: 0.7381 - accuracy: 0.7617 - val_loss: 0.3580 - val_accuracy: 0.8750\n",
            "Epoch 6/10\n",
            "235/235 [==============================] - 104s 440ms/step - loss: 0.5982 - accuracy: 0.8021 - val_loss: 0.3218 - val_accuracy: 0.8931\n",
            "Epoch 7/10\n",
            "235/235 [==============================] - 94s 398ms/step - loss: 0.5358 - accuracy: 0.8252 - val_loss: 0.2878 - val_accuracy: 0.9095\n",
            "Epoch 8/10\n",
            "235/235 [==============================] - 92s 392ms/step - loss: 0.4761 - accuracy: 0.8416 - val_loss: 0.2421 - val_accuracy: 0.9260\n",
            "Epoch 9/10\n",
            "235/235 [==============================] - 87s 370ms/step - loss: 0.4377 - accuracy: 0.8529 - val_loss: 0.2863 - val_accuracy: 0.9145\n",
            "Epoch 10/10\n",
            "235/235 [==============================] - 82s 348ms/step - loss: 0.3950 - accuracy: 0.8683 - val_loss: 0.3176 - val_accuracy: 0.9062\n"
          ],
          "name": "stdout"
        }
      ]
    },
    {
      "cell_type": "code",
      "metadata": {
        "colab": {
          "base_uri": "https://localhost:8080/"
        },
        "id": "nifjRt5Ron5e",
        "outputId": "275645da-1046-4fba-9f3f-b1fc1e0a2e2a"
      },
      "source": [
        "results_fine_tune_full_data = model_2.evaluate(test_data)\n",
        "results_fine_tune_full_data\n"
      ],
      "execution_count": 81,
      "outputs": [
        {
          "output_type": "stream",
          "text": [
            "79/79 [==============================] - 16s 194ms/step - loss: 0.3179 - accuracy: 0.9040\n"
          ],
          "name": "stdout"
        },
        {
          "output_type": "execute_result",
          "data": {
            "text/plain": [
              "[0.31789547204971313, 0.9039999842643738]"
            ]
          },
          "metadata": {
            "tags": []
          },
          "execution_count": 81
        }
      ]
    },
    {
      "cell_type": "code",
      "metadata": {
        "id": "CGmiWSMIo1tz"
      },
      "source": [
        "compare_historys(original_history = history_10_percent_data_aug , \n",
        "                 new_history = history_fine_10_classes_full , \n",
        "                 initial_epochs = 5)"
      ],
      "execution_count": null,
      "outputs": []
    },
    {
      "cell_type": "code",
      "metadata": {
        "id": "KjHsuRcnp09o"
      },
      "source": [
        "\n"
      ],
      "execution_count": null,
      "outputs": []
    }
  ]
}