{
  "nbformat": 4,
  "nbformat_minor": 0,
  "metadata": {
    "colab": {
      "name": "bird_species.ipynb",
      "provenance": [],
      "collapsed_sections": []
    },
    "kernelspec": {
      "name": "python3",
      "display_name": "Python 3"
    },
    "language_info": {
      "name": "python"
    },
    "accelerator": "GPU"
  },
  "cells": [
    {
      "cell_type": "code",
      "metadata": {
        "colab": {
          "base_uri": "https://localhost:8080/"
        },
        "id": "nwFZXs0foGoB",
        "outputId": "369bb331-8d50-4151-be9b-d8b78c730e53"
      },
      "source": [
        "!pip install --upgrade -q kaggle \n",
        "!mkdir /root/.kaggle\n",
        "import json \n",
        "token = {\n",
        "    \n",
        "    \"username\": \"ifrahandleeb\",\n",
        "    \"key\": \"7d32d51ce48e80317141c1a4fc7c3c23\"\n",
        "    \n",
        "}\n",
        "\n",
        "with open('/root/.kaggle/kaggle.json' , 'w') as config_file:\n",
        "\n",
        "  json.dump(token , config_file)\n",
        "\n",
        "!chmod 600 /root/.kaggle/kaggle.json\n",
        "\n",
        "!kaggle datasets download -d gpiosenka/100-bird-species"
      ],
      "execution_count": 1,
      "outputs": [
        {
          "output_type": "stream",
          "text": [
            "Downloading 100-bird-species.zip to /content\n",
            "100% 1.81G/1.81G [00:16<00:00, 63.7MB/s]\n",
            "100% 1.81G/1.81G [00:16<00:00, 119MB/s] \n"
          ],
          "name": "stdout"
        }
      ]
    },
    {
      "cell_type": "code",
      "metadata": {
        "id": "UaZJ9O5ko7K6"
      },
      "source": [
        "import zipfile \n",
        "\n",
        "zip_ref = zipfile.ZipFile(\"/content/100-bird-species.zip\")\n",
        "zip_ref.extractall()\n",
        "zip_ref.close()"
      ],
      "execution_count": 2,
      "outputs": []
    },
    {
      "cell_type": "code",
      "metadata": {
        "colab": {
          "base_uri": "https://localhost:8080/"
        },
        "id": "VRn8pQI2pX0J",
        "outputId": "7c8f98de-6856-4255-9763-d7d9f6e87006"
      },
      "source": [
        "!ls /content/birds"
      ],
      "execution_count": 3,
      "outputs": [
        {
          "output_type": "stream",
          "text": [
            "birds.csv  test  train\tvalid\n"
          ],
          "name": "stdout"
        }
      ]
    },
    {
      "cell_type": "code",
      "metadata": {
        "colab": {
          "base_uri": "https://localhost:8080/"
        },
        "id": "iNq-A-J1pfeT",
        "outputId": "c6fc1bd9-90d8-4d31-92b3-1105cd6f5a85"
      },
      "source": [
        "!ls /content/birds/train "
      ],
      "execution_count": 4,
      "outputs": [
        {
          "output_type": "stream",
          "text": [
            "'AFRICAN CROWNED CRANE'     'INCA TERN'\n",
            "'AFRICAN FIREFINCH'\t    'INDIAN BUSTARD'\n",
            " ALBATROSS\t\t    'INDIAN PITTA'\n",
            "'ALEXANDRINE PARAKEET'\t    'INDIGO BUNTING'\n",
            "'AMERICAN AVOCET'\t     JABIRU\n",
            "'AMERICAN BITTERN'\t    'JAVA SPARROW'\n",
            "'AMERICAN COOT'\t\t     KAKAPO\n",
            "'AMERICAN GOLDFINCH'\t     KILLDEAR\n",
            "'AMERICAN KESTREL'\t    'KING VULTURE'\n",
            "'AMERICAN PIPIT'\t     KIWI\n",
            "'AMERICAN REDSTART'\t     KOOKABURRA\n",
            " ANHINGA\t\t    'LARK BUNTING'\n",
            "'ANNAS HUMMINGBIRD'\t    'LEARS MACAW'\n",
            " ANTBIRD\t\t    'LILAC ROLLER'\n",
            "'ARARIPE MANAKIN'\t    'LONG-EARED OWL'\n",
            "'ASIAN CRESTED IBIS'\t    'MAGPIE GOOSE'\n",
            "'BALD EAGLE'\t\t    'MALABAR HORNBILL'\n",
            "'BALI STARLING'\t\t    'MALACHITE KINGFISHER'\n",
            "'BALTIMORE ORIOLE'\t     MALEO\n",
            " BANANAQUIT\t\t    'MALLARD DUCK'\n",
            "'BANDED BROADBILL'\t    'MANDRIN DUCK'\n",
            "'BARN OWL'\t\t    'MARABOU STORK'\n",
            "'BARN SWALLOW'\t\t    'MASKED BOOBY'\n",
            "'BARRED PUFFBIRD'\t    'MASKED LAPWING'\n",
            "'BAR-TAILED GODWIT'\t    'MIKADO  PHEASANT'\n",
            "'BAY-BREASTED WARBLER'\t    'MOURNING DOVE'\n",
            "'BEARDED BARBET'\t     MYNA\n",
            "'BEARDED REEDLING'\t    'NICOBAR PIGEON'\n",
            "'BELTED KINGFISHER'\t    'NOISY FRIARBIRD'\n",
            "'BIRD OF PARADISE'\t    'NORTHERN BALD IBIS'\n",
            "'BLACKBURNIAM WARBLER'\t    'NORTHERN CARDINAL'\n",
            "'BLACK-CAPPED CHICKADEE'    'NORTHERN FLICKER'\n",
            "'BLACK FRANCOLIN'\t    'NORTHERN GANNET'\n",
            "'BLACK-NECKED GREBE'\t    'NORTHERN GOSHAWK'\n",
            "'BLACK SKIMMER'\t\t    'NORTHERN JACANA'\n",
            "'BLACK SWAN'\t\t    'NORTHERN MOCKINGBIRD'\n",
            "'BLACK TAIL CRAKE'\t    'NORTHERN PARULA'\n",
            "'BLACK THROATED BUSHTIT'    'NORTHERN RED BISHOP'\n",
            "'BLACK-THROATED SPARROW'    'NORTHERN SHOVELER'\n",
            "'BLACK THROATED WARBLER'    'OCELLATED TURKEY'\n",
            "'BLACK VULTURE'\t\t    'OKINAWA RAIL'\n",
            "'BLACK & YELLOW bROADBILL'   OSPREY\n",
            "'BLUE GROUSE'\t\t     OSTRICH\n",
            "'BLUE HERON'\t\t     OVENBIRD\n",
            " BOBOLINK\t\t    'OYSTER CATCHER'\n",
            "'BORNEAN BRISTLEHEAD'\t    'PAINTED BUNTIG'\n",
            "'BORNEAN LEAFBIRD'\t     PALILA\n",
            "'BROWN NOODY'\t\t    'PARADISE TANAGER'\n",
            "'BROWN THRASHER'\t    'PARAKETT  AKULET'\n",
            "'BULWERS PHEASANT'\t    'PARUS MAJOR'\n",
            "'CACTUS WREN'\t\t     PEACOCK\n",
            "'CALIFORNIA CONDOR'\t     PELICAN\n",
            "'CALIFORNIA GULL'\t    'PEREGRINE FALCON'\n",
            "'CALIFORNIA QUAIL'\t    'PHILIPPINE EAGLE'\n",
            " CANARY\t\t\t    'PINK ROBIN'\n",
            "'CAPE MAY WARBLER'\t     PUFFIN\n",
            " CAPUCHINBIRD\t\t    'PURPLE FINCH'\n",
            "'CARMINE BEE-EATER'\t    'PURPLE GALLINULE'\n",
            "'CASPIAN TERN'\t\t    'PURPLE MARTIN'\n",
            " CASSOWARY\t\t    'PURPLE SWAMPHEN'\n",
            "'CEDAR WAXWING'\t\t    'PYGMY KINGFISHER'\n",
            "'CHARA DE COLLAR'\t     QUETZAL\n",
            "'CHIPPING SPARROW'\t    'RAINBOW LORIKEET'\n",
            "'CHUKAR PARTRIDGE'\t     RAZORBILL\n",
            "'CINNAMON TEAL'\t\t    'RED BEARDED BEE EATER'\n",
            "'CLARKS NUTCRACKER'\t    'RED BELLIED PITTA'\n",
            " COCKATOO\t\t    'RED BROWED FINCH'\n",
            "'COCK OF THE  ROCK'\t    'RED FACED CORMORANT'\n",
            "'COMMON FIRECREST'\t    'RED FACED WARBLER'\n",
            "'COMMON GRACKLE'\t    'RED HEADED DUCK'\n",
            "'COMMON HOUSE MARTIN'\t    'RED HEADED WOODPECKER'\n",
            "'COMMON LOON'\t\t    'RED HONEY CREEPER'\n",
            "'COMMON POORWILL'\t    'RED TAILED THRUSH'\n",
            "'COMMON STARLING'\t    'RED WINGED BLACKBIRD'\n",
            "'COUCHS KINGBIRD'\t    'RED WISKERED BULBUL'\n",
            "'CRESTED AUKLET'\t    'REGENT BOWERBIRD'\n",
            "'CRESTED CARACARA'\t    'RING-NECKED PHEASANT'\n",
            "'CRESTED NUTHATCH'\t     ROADRUNNER\n",
            " CROW\t\t\t     ROBIN\n",
            "'CROWNED PIGEON'\t    'ROCK DOVE'\n",
            "'CUBAN TODY'\t\t    'ROSY FACED LOVEBIRD'\n",
            "'CURL CRESTED ARACURI'\t    'ROUGH LEG BUZZARD'\n",
            "'DARK EYED JUNCO'\t    'ROYAL FLYCATCHER'\n",
            "'D-ARNAUDS BARBET'\t    'RUBY THROATED HUMMINGBIRD'\n",
            "'DOUBLE BARRED FINCH'\t    'RUFOUS KINGFISHER'\n",
            "'DOWNY WOODPECKER'\t    'RUFUOS MOTMOT'\n",
            "'EASTERN BLUEBIRD'\t    'SAMATRAN THRUSH'\n",
            "'EASTERN MEADOWLARK'\t    'SAND MARTIN'\n",
            "'EASTERN ROSELLA'\t    'SCARLET IBIS'\n",
            "'EASTERN TOWEE'\t\t    'SCARLET MACAW'\n",
            "'ELEGANT TROGON'\t     SHOEBILL\n",
            "'ELLIOTS  PHEASANT'\t    'SHORT BILLED DOWITCHER'\n",
            "'EMPEROR PENGUIN'\t    'SMITHS LONGSPUR'\n",
            " EMU\t\t\t    'SNOWY EGRET'\n",
            "'ENGGANO MYNA'\t\t    'SNOWY OWL'\n",
            "'EURASIAN GOLDEN ORIOLE'     SORA\n",
            "'EURASIAN MAGPIE'\t    'SPANGLED COTINGA'\n",
            "'EVENING GROSBEAK'\t    'SPLENDID WREN'\n",
            "'FIRE TAILLED MYZORNIS'     'SPOON BILED SANDPIPER'\n",
            "'FLAME TANAGER'\t\t     SPOONBILL\n",
            " FLAMINGO\t\t    'SRI LANKA BLUE MAGPIE'\n",
            " FRIGATE\t\t    'STEAMER DUCK'\n",
            "'GAMBELS QUAIL'\t\t    'STORK BILLED KINGFISHER'\n",
            "'GANG GANG COCKATOO'\t    'STRAWBERRY FINCH'\n",
            "'GILA WOODPECKER'\t    'STRIPPED SWALLOW'\n",
            "'GILDED FLICKER'\t    'SUPERB STARLING'\n",
            "'GLOSSY IBIS'\t\t    'SWINHOES PHEASANT'\n",
            "'GO AWAY BIRD'\t\t    'TAIWAN MAGPIE'\n",
            "'GOLDEN CHEEKED WARBLER'     TAKAHE\n",
            "'GOLDEN CHLOROPHONIA'\t    'TASMANIAN HEN'\n",
            "'GOLDEN EAGLE'\t\t    'TEAL DUCK'\n",
            "'GOLDEN PHEASANT'\t    'TIT MOUSE'\n",
            "'GOLDEN PIPIT'\t\t     TOUCHAN\n",
            "'GOLD WING WARBLER'\t    'TOWNSENDS WARBLER'\n",
            "'GOULDIAN FINCH'\t    'TREE SWALLOW'\n",
            "'GRAY CATBIRD'\t\t    'TRUMPTER SWAN'\n",
            "'GRAY PARTRIDGE'\t    'TURKEY VULTURE'\n",
            "'GREATOR SAGE GROUSE'\t    'TURQUOISE MOTMOT'\n",
            "'GREAT POTOO'\t\t    'UMBRELLA BIRD'\n",
            "'GREEN JAY'\t\t    'VARIED THRUSH'\n",
            "'GREEN MAGPIE'\t\t    'VENEZUELIAN TROUPIAL'\n",
            "'GREY PLOVER'\t\t    'VERMILION FLYCATHER'\n",
            " GUINEAFOWL\t\t    'VICTORIA CROWNED PIGEON'\n",
            "'GUINEA TURACO'\t\t    'VIOLET GREEN SWALLOW'\n",
            " GYRFALCON\t\t    'VULTURINE GUINEAFOWL'\n",
            "'HARPY EAGLE'\t\t    'WATTLED CURASSOW'\n",
            "'HAWAIIAN GOOSE'\t     WHIMBREL\n",
            "'HELMET VANGA'\t\t    'WHITE CHEEKED TURACO'\n",
            "'HIMALAYAN MONAL'\t    'WHITE NECKED RAVEN'\n",
            " HOATZIN\t\t    'WHITE TAILED TROPIC'\n",
            "'HOODED MERGANSER'\t    'WHITE THROATED BEE EATER'\n",
            " HOOPOES\t\t    'WILD TURKEY'\n",
            " HORNBILL\t\t    'WILSONS BIRD OF PARADISE'\n",
            "'HORNED GUAN'\t\t    'WOOD DUCK'\n",
            "'HORNED SUNGEM'\t\t    'YELLOW BELLIED FLOWERPECKER'\n",
            "'HOUSE FINCH'\t\t    'YELLOW CACIQUE'\n",
            "'HOUSE SPARROW'\t\t    'YELLOW HEADED BLACKBIRD'\n",
            "'IMPERIAL SHAQ'\n"
          ],
          "name": "stdout"
        }
      ]
    },
    {
      "cell_type": "code",
      "metadata": {
        "colab": {
          "base_uri": "https://localhost:8080/"
        },
        "id": "f7WvFtSspmCI",
        "outputId": "947df278-c6f4-457f-8ee6-95af990e83c2"
      },
      "source": [
        "import os \n",
        "\n",
        "num_train = len(os.listdir(\"/content/birds/train\"))\n",
        "num_train"
      ],
      "execution_count": 5,
      "outputs": [
        {
          "output_type": "execute_result",
          "data": {
            "text/plain": [
              "275"
            ]
          },
          "metadata": {
            "tags": []
          },
          "execution_count": 5
        }
      ]
    },
    {
      "cell_type": "code",
      "metadata": {
        "colab": {
          "base_uri": "https://localhost:8080/"
        },
        "id": "UF9ViSyOqLrS",
        "outputId": "680ce7a4-f4ad-4da1-a251-8e31f2b34ff3"
      },
      "source": [
        "num_test = len(os.listdir(\"/content/birds/valid\"))\n",
        "num_test"
      ],
      "execution_count": 6,
      "outputs": [
        {
          "output_type": "execute_result",
          "data": {
            "text/plain": [
              "275"
            ]
          },
          "metadata": {
            "tags": []
          },
          "execution_count": 6
        }
      ]
    },
    {
      "cell_type": "code",
      "metadata": {
        "id": "f5nipi4dqa_g"
      },
      "source": [
        "import tensorflow as tf \n",
        "from tensorflow.keras import Sequential \n",
        "from tensorflow.keras.layers import Conv2D , MaxPool2D , Flatten , Activation , Dense \n",
        "from tensorflow.keras.optimizers import Adam \n",
        "from tensorflow.keras.preprocessing.image import ImageDataGenerator"
      ],
      "execution_count": 7,
      "outputs": []
    },
    {
      "cell_type": "code",
      "metadata": {
        "colab": {
          "base_uri": "https://localhost:8080/"
        },
        "id": "kMlnstherNTO",
        "outputId": "1c2a581f-fa31-40a5-cbc8-0a8b1020e794"
      },
      "source": [
        "tf.random.set_seed(42)\n",
        "\n",
        "train_datagen = ImageDataGenerator(rescale = 1/255)\n",
        "test_datagen = ImageDataGenerator(rescale = 1/255)\n",
        "val_datagen = ImageDataGenerator(rescale = 1/255)\n",
        "\n",
        "train_dir = \"/content/birds/train/\"\n",
        "test_dir = \"/content/birds/test/\"\n",
        "val_dir = \"/content/birds/valid/\"\n",
        "\n",
        "train_data = train_datagen.flow_from_directory(directory = train_dir , \n",
        "                                               batch_size = 32 , \n",
        "                                               target_size = (224 , 224) ,\n",
        "                                               class_mode = \"categorical\" )\n",
        "val_data = val_datagen.flow_from_directory(directory = val_dir , \n",
        "                                           batch_size = 32 , \n",
        "                                           target_size = (224 ,224) , \n",
        "                                           class_mode = \"categorical\" )\n",
        "test_data = test_datagen.flow_from_directory(directory = test_dir , \n",
        "                                           batch_size = 32 , \n",
        "                                           target_size = (224 ,224) , \n",
        "                                           class_mode = \"categorical\"\n",
        "                                            \n",
        ")"
      ],
      "execution_count": 8,
      "outputs": [
        {
          "output_type": "stream",
          "text": [
            "Found 39364 images belonging to 275 classes.\n",
            "Found 1375 images belonging to 275 classes.\n",
            "Found 1375 images belonging to 275 classes.\n"
          ],
          "name": "stdout"
        }
      ]
    },
    {
      "cell_type": "code",
      "metadata": {
        "id": "Kt7d4FxItY2H"
      },
      "source": [
        "model = Sequential ([\n",
        "                      Conv2D(10 , 3 , activation= \"relu\") , \n",
        "                      MaxPool2D() , \n",
        "                      Conv2D(10 , 3 , activation = \"relu\") , \n",
        "                      MaxPool2D() , \n",
        "                      Flatten() , \n",
        "                      Dense( 275 , activation = \"softmax\")\n",
        "                     \n",
        "])"
      ],
      "execution_count": 9,
      "outputs": []
    },
    {
      "cell_type": "code",
      "metadata": {
        "id": "OGbggXN1t-1Y"
      },
      "source": [
        "model.compile( loss = \"mae\" , \n",
        "                optimizer = Adam() , \n",
        "                metrics = [\"accuracy\"])"
      ],
      "execution_count": 10,
      "outputs": []
    },
    {
      "cell_type": "code",
      "metadata": {
        "colab": {
          "base_uri": "https://localhost:8080/",
          "height": 418
        },
        "id": "no9Bpam1uDlO",
        "outputId": "2d647f4e-d1c6-463d-8e7c-c75ae580d429"
      },
      "source": [
        "history = model.fit(    train_data , \n",
        "                        epochs = 5 , \n",
        "                        steps_per_epoch = len(train_data) , \n",
        "                        validation_data = val_data ,\n",
        "                        validation_steps = len(val_data) \n",
        "\n",
        "                        )"
      ],
      "execution_count": 11,
      "outputs": [
        {
          "output_type": "stream",
          "text": [
            "Epoch 1/5\n",
            " 247/1231 [=====>........................] - ETA: 14:39 - loss: 0.0072 - accuracy: 0.0048"
          ],
          "name": "stdout"
        },
        {
          "output_type": "error",
          "ename": "KeyboardInterrupt",
          "evalue": "ignored",
          "traceback": [
            "\u001b[0;31m---------------------------------------------------------------------------\u001b[0m",
            "\u001b[0;31mKeyboardInterrupt\u001b[0m                         Traceback (most recent call last)",
            "\u001b[0;32m<ipython-input-11-21bf1b6984c2>\u001b[0m in \u001b[0;36m<module>\u001b[0;34m()\u001b[0m\n\u001b[1;32m      3\u001b[0m                         \u001b[0msteps_per_epoch\u001b[0m \u001b[0;34m=\u001b[0m \u001b[0mlen\u001b[0m\u001b[0;34m(\u001b[0m\u001b[0mtrain_data\u001b[0m\u001b[0;34m)\u001b[0m \u001b[0;34m,\u001b[0m\u001b[0;34m\u001b[0m\u001b[0;34m\u001b[0m\u001b[0m\n\u001b[1;32m      4\u001b[0m                         \u001b[0mvalidation_data\u001b[0m \u001b[0;34m=\u001b[0m \u001b[0mval_data\u001b[0m \u001b[0;34m,\u001b[0m\u001b[0;34m\u001b[0m\u001b[0;34m\u001b[0m\u001b[0m\n\u001b[0;32m----> 5\u001b[0;31m                         \u001b[0mvalidation_steps\u001b[0m \u001b[0;34m=\u001b[0m \u001b[0mlen\u001b[0m\u001b[0;34m(\u001b[0m\u001b[0mval_data\u001b[0m\u001b[0;34m)\u001b[0m\u001b[0;34m\u001b[0m\u001b[0;34m\u001b[0m\u001b[0m\n\u001b[0m\u001b[1;32m      6\u001b[0m \u001b[0;34m\u001b[0m\u001b[0m\n\u001b[1;32m      7\u001b[0m                         )\n",
            "\u001b[0;32m/usr/local/lib/python3.7/dist-packages/tensorflow/python/keras/engine/training.py\u001b[0m in \u001b[0;36mfit\u001b[0;34m(self, x, y, batch_size, epochs, verbose, callbacks, validation_split, validation_data, shuffle, class_weight, sample_weight, initial_epoch, steps_per_epoch, validation_steps, validation_batch_size, validation_freq, max_queue_size, workers, use_multiprocessing)\u001b[0m\n\u001b[1;32m   1181\u001b[0m                 _r=1):\n\u001b[1;32m   1182\u001b[0m               \u001b[0mcallbacks\u001b[0m\u001b[0;34m.\u001b[0m\u001b[0mon_train_batch_begin\u001b[0m\u001b[0;34m(\u001b[0m\u001b[0mstep\u001b[0m\u001b[0;34m)\u001b[0m\u001b[0;34m\u001b[0m\u001b[0;34m\u001b[0m\u001b[0m\n\u001b[0;32m-> 1183\u001b[0;31m               \u001b[0mtmp_logs\u001b[0m \u001b[0;34m=\u001b[0m \u001b[0mself\u001b[0m\u001b[0;34m.\u001b[0m\u001b[0mtrain_function\u001b[0m\u001b[0;34m(\u001b[0m\u001b[0miterator\u001b[0m\u001b[0;34m)\u001b[0m\u001b[0;34m\u001b[0m\u001b[0;34m\u001b[0m\u001b[0m\n\u001b[0m\u001b[1;32m   1184\u001b[0m               \u001b[0;32mif\u001b[0m \u001b[0mdata_handler\u001b[0m\u001b[0;34m.\u001b[0m\u001b[0mshould_sync\u001b[0m\u001b[0;34m:\u001b[0m\u001b[0;34m\u001b[0m\u001b[0;34m\u001b[0m\u001b[0m\n\u001b[1;32m   1185\u001b[0m                 \u001b[0mcontext\u001b[0m\u001b[0;34m.\u001b[0m\u001b[0masync_wait\u001b[0m\u001b[0;34m(\u001b[0m\u001b[0;34m)\u001b[0m\u001b[0;34m\u001b[0m\u001b[0;34m\u001b[0m\u001b[0m\n",
            "\u001b[0;32m/usr/local/lib/python3.7/dist-packages/tensorflow/python/eager/def_function.py\u001b[0m in \u001b[0;36m__call__\u001b[0;34m(self, *args, **kwds)\u001b[0m\n\u001b[1;32m    887\u001b[0m \u001b[0;34m\u001b[0m\u001b[0m\n\u001b[1;32m    888\u001b[0m       \u001b[0;32mwith\u001b[0m \u001b[0mOptionalXlaContext\u001b[0m\u001b[0;34m(\u001b[0m\u001b[0mself\u001b[0m\u001b[0;34m.\u001b[0m\u001b[0m_jit_compile\u001b[0m\u001b[0;34m)\u001b[0m\u001b[0;34m:\u001b[0m\u001b[0;34m\u001b[0m\u001b[0;34m\u001b[0m\u001b[0m\n\u001b[0;32m--> 889\u001b[0;31m         \u001b[0mresult\u001b[0m \u001b[0;34m=\u001b[0m \u001b[0mself\u001b[0m\u001b[0;34m.\u001b[0m\u001b[0m_call\u001b[0m\u001b[0;34m(\u001b[0m\u001b[0;34m*\u001b[0m\u001b[0margs\u001b[0m\u001b[0;34m,\u001b[0m \u001b[0;34m**\u001b[0m\u001b[0mkwds\u001b[0m\u001b[0;34m)\u001b[0m\u001b[0;34m\u001b[0m\u001b[0;34m\u001b[0m\u001b[0m\n\u001b[0m\u001b[1;32m    890\u001b[0m \u001b[0;34m\u001b[0m\u001b[0m\n\u001b[1;32m    891\u001b[0m       \u001b[0mnew_tracing_count\u001b[0m \u001b[0;34m=\u001b[0m \u001b[0mself\u001b[0m\u001b[0;34m.\u001b[0m\u001b[0mexperimental_get_tracing_count\u001b[0m\u001b[0;34m(\u001b[0m\u001b[0;34m)\u001b[0m\u001b[0;34m\u001b[0m\u001b[0;34m\u001b[0m\u001b[0m\n",
            "\u001b[0;32m/usr/local/lib/python3.7/dist-packages/tensorflow/python/eager/def_function.py\u001b[0m in \u001b[0;36m_call\u001b[0;34m(self, *args, **kwds)\u001b[0m\n\u001b[1;32m    915\u001b[0m       \u001b[0;31m# In this case we have created variables on the first call, so we run the\u001b[0m\u001b[0;34m\u001b[0m\u001b[0;34m\u001b[0m\u001b[0;34m\u001b[0m\u001b[0m\n\u001b[1;32m    916\u001b[0m       \u001b[0;31m# defunned version which is guaranteed to never create variables.\u001b[0m\u001b[0;34m\u001b[0m\u001b[0;34m\u001b[0m\u001b[0;34m\u001b[0m\u001b[0m\n\u001b[0;32m--> 917\u001b[0;31m       \u001b[0;32mreturn\u001b[0m \u001b[0mself\u001b[0m\u001b[0;34m.\u001b[0m\u001b[0m_stateless_fn\u001b[0m\u001b[0;34m(\u001b[0m\u001b[0;34m*\u001b[0m\u001b[0margs\u001b[0m\u001b[0;34m,\u001b[0m \u001b[0;34m**\u001b[0m\u001b[0mkwds\u001b[0m\u001b[0;34m)\u001b[0m  \u001b[0;31m# pylint: disable=not-callable\u001b[0m\u001b[0;34m\u001b[0m\u001b[0;34m\u001b[0m\u001b[0m\n\u001b[0m\u001b[1;32m    918\u001b[0m     \u001b[0;32melif\u001b[0m \u001b[0mself\u001b[0m\u001b[0;34m.\u001b[0m\u001b[0m_stateful_fn\u001b[0m \u001b[0;32mis\u001b[0m \u001b[0;32mnot\u001b[0m \u001b[0;32mNone\u001b[0m\u001b[0;34m:\u001b[0m\u001b[0;34m\u001b[0m\u001b[0;34m\u001b[0m\u001b[0m\n\u001b[1;32m    919\u001b[0m       \u001b[0;31m# Release the lock early so that multiple threads can perform the call\u001b[0m\u001b[0;34m\u001b[0m\u001b[0;34m\u001b[0m\u001b[0;34m\u001b[0m\u001b[0m\n",
            "\u001b[0;32m/usr/local/lib/python3.7/dist-packages/tensorflow/python/eager/function.py\u001b[0m in \u001b[0;36m__call__\u001b[0;34m(self, *args, **kwargs)\u001b[0m\n\u001b[1;32m   3022\u001b[0m        filtered_flat_args) = self._maybe_define_function(args, kwargs)\n\u001b[1;32m   3023\u001b[0m     return graph_function._call_flat(\n\u001b[0;32m-> 3024\u001b[0;31m         filtered_flat_args, captured_inputs=graph_function.captured_inputs)  # pylint: disable=protected-access\n\u001b[0m\u001b[1;32m   3025\u001b[0m \u001b[0;34m\u001b[0m\u001b[0m\n\u001b[1;32m   3026\u001b[0m   \u001b[0;34m@\u001b[0m\u001b[0mproperty\u001b[0m\u001b[0;34m\u001b[0m\u001b[0;34m\u001b[0m\u001b[0m\n",
            "\u001b[0;32m/usr/local/lib/python3.7/dist-packages/tensorflow/python/eager/function.py\u001b[0m in \u001b[0;36m_call_flat\u001b[0;34m(self, args, captured_inputs, cancellation_manager)\u001b[0m\n\u001b[1;32m   1959\u001b[0m       \u001b[0;31m# No tape is watching; skip to running the function.\u001b[0m\u001b[0;34m\u001b[0m\u001b[0;34m\u001b[0m\u001b[0;34m\u001b[0m\u001b[0m\n\u001b[1;32m   1960\u001b[0m       return self._build_call_outputs(self._inference_function.call(\n\u001b[0;32m-> 1961\u001b[0;31m           ctx, args, cancellation_manager=cancellation_manager))\n\u001b[0m\u001b[1;32m   1962\u001b[0m     forward_backward = self._select_forward_and_backward_functions(\n\u001b[1;32m   1963\u001b[0m         \u001b[0margs\u001b[0m\u001b[0;34m,\u001b[0m\u001b[0;34m\u001b[0m\u001b[0;34m\u001b[0m\u001b[0m\n",
            "\u001b[0;32m/usr/local/lib/python3.7/dist-packages/tensorflow/python/eager/function.py\u001b[0m in \u001b[0;36mcall\u001b[0;34m(self, ctx, args, cancellation_manager)\u001b[0m\n\u001b[1;32m    594\u001b[0m               \u001b[0minputs\u001b[0m\u001b[0;34m=\u001b[0m\u001b[0margs\u001b[0m\u001b[0;34m,\u001b[0m\u001b[0;34m\u001b[0m\u001b[0;34m\u001b[0m\u001b[0m\n\u001b[1;32m    595\u001b[0m               \u001b[0mattrs\u001b[0m\u001b[0;34m=\u001b[0m\u001b[0mattrs\u001b[0m\u001b[0;34m,\u001b[0m\u001b[0;34m\u001b[0m\u001b[0;34m\u001b[0m\u001b[0m\n\u001b[0;32m--> 596\u001b[0;31m               ctx=ctx)\n\u001b[0m\u001b[1;32m    597\u001b[0m         \u001b[0;32melse\u001b[0m\u001b[0;34m:\u001b[0m\u001b[0;34m\u001b[0m\u001b[0;34m\u001b[0m\u001b[0m\n\u001b[1;32m    598\u001b[0m           outputs = execute.execute_with_cancellation(\n",
            "\u001b[0;32m/usr/local/lib/python3.7/dist-packages/tensorflow/python/eager/execute.py\u001b[0m in \u001b[0;36mquick_execute\u001b[0;34m(op_name, num_outputs, inputs, attrs, ctx, name)\u001b[0m\n\u001b[1;32m     58\u001b[0m     \u001b[0mctx\u001b[0m\u001b[0;34m.\u001b[0m\u001b[0mensure_initialized\u001b[0m\u001b[0;34m(\u001b[0m\u001b[0;34m)\u001b[0m\u001b[0;34m\u001b[0m\u001b[0;34m\u001b[0m\u001b[0m\n\u001b[1;32m     59\u001b[0m     tensors = pywrap_tfe.TFE_Py_Execute(ctx._handle, device_name, op_name,\n\u001b[0;32m---> 60\u001b[0;31m                                         inputs, attrs, num_outputs)\n\u001b[0m\u001b[1;32m     61\u001b[0m   \u001b[0;32mexcept\u001b[0m \u001b[0mcore\u001b[0m\u001b[0;34m.\u001b[0m\u001b[0m_NotOkStatusException\u001b[0m \u001b[0;32mas\u001b[0m \u001b[0me\u001b[0m\u001b[0;34m:\u001b[0m\u001b[0;34m\u001b[0m\u001b[0;34m\u001b[0m\u001b[0m\n\u001b[1;32m     62\u001b[0m     \u001b[0;32mif\u001b[0m \u001b[0mname\u001b[0m \u001b[0;32mis\u001b[0m \u001b[0;32mnot\u001b[0m \u001b[0;32mNone\u001b[0m\u001b[0;34m:\u001b[0m\u001b[0;34m\u001b[0m\u001b[0;34m\u001b[0m\u001b[0m\n",
            "\u001b[0;31mKeyboardInterrupt\u001b[0m: "
          ]
        }
      ]
    },
    {
      "cell_type": "code",
      "metadata": {
        "id": "LN0IN4lXwWrP",
        "colab": {
          "base_uri": "https://localhost:8080/"
        },
        "outputId": "cbfee07c-7548-4889-b142-2f35f43ee5e0"
      },
      "source": [
        "model = Sequential ([\n",
        "                      Conv2D(10 , 3 , activation= \"relu\") , \n",
        "                      MaxPool2D() , \n",
        "                      Conv2D(10 , 3 , activation = \"relu\") , \n",
        "                      MaxPool2D() , \n",
        "                      Flatten() , \n",
        "                      Dense( 275 , activation = \"softmax\")\n",
        "                     \n",
        "])\n",
        "\n",
        "model.compile( loss = \"categorical_crossentropy\" , \n",
        "                optimizer = Adam() , \n",
        "                metrics = [\"accuracy\"])\n",
        "\n",
        "history = model.fit(    train_data , \n",
        "                        epochs = 5 , \n",
        "                        steps_per_epoch = len(train_data) , \n",
        "                        validation_data = val_data ,\n",
        "                        validation_steps = len(val_data) \n",
        "\n",
        "                        )"
      ],
      "execution_count": null,
      "outputs": [
        {
          "output_type": "stream",
          "text": [
            "Epoch 1/5\n",
            "1231/1231 [==============================] - 1098s 891ms/step - loss: 4.3356 - accuracy: 0.1715 - val_loss: 2.9347 - val_accuracy: 0.3833\n",
            "Epoch 2/5\n",
            " 323/1231 [======>.......................] - ETA: 13:14 - loss: 1.9677 - accuracy: 0.5892"
          ],
          "name": "stdout"
        }
      ]
    },
    {
      "cell_type": "code",
      "metadata": {
        "id": "0ShanjmCFdZF"
      },
      "source": [
        "import pandas as pd \n",
        "pd.DataFrame(history.history).plot(figsize =(10 , 7));"
      ],
      "execution_count": null,
      "outputs": []
    },
    {
      "cell_type": "code",
      "metadata": {
        "id": "_YVKZa5oFrJy"
      },
      "source": [
        "def plot_loss_curves(history):\n",
        "\n",
        "  loss = history.history[\"loss\"]\n",
        "  val_loss = history.history[\"val_loss\"]\n",
        "\n",
        "  accuracy = [\"accuracy\"]\n",
        "  val_accuracy = [\"val_accuracy\"]\n",
        "\n",
        "  epochs = range(len(history.history[\"loss\"]))\n",
        "  \n",
        "  plt.figure()\n",
        "  plt.plot(epochs , loss , label=\"training_loss\")\n",
        "  plt.plot(epochs , val_loss , label = \"val_loss\")\n",
        "  plt.title(\"loss\")\n",
        "  plt.xlabel(\"epochs\")\n",
        "  plt.legend()\n",
        "  \n",
        "  plt.figure()\n",
        "  plt.plot(epochs , loss , label = \"training_accuracy\")\n",
        "  plt.plot(epochs , val_loss , label = \"val_accuracy\")\n",
        "  plt.title(\"accuracy\")\n",
        "  plt.xlabel(\"epochs\")\n",
        "  plt.legend();"
      ],
      "execution_count": null,
      "outputs": []
    },
    {
      "cell_type": "code",
      "metadata": {
        "id": "MdBL76aaHvL-"
      },
      "source": [
        "import matplotlib.pyplot as plt\n",
        "\n",
        "plot_loss_curves(history)\n"
      ],
      "execution_count": null,
      "outputs": []
    },
    {
      "cell_type": "code",
      "metadata": {
        "id": "Shi1TOOOJtjw"
      },
      "source": [
        "model.predict(test_data)"
      ],
      "execution_count": null,
      "outputs": []
    },
    {
      "cell_type": "code",
      "metadata": {
        "id": "o4vX1eOpKLnI"
      },
      "source": [
        "import matplotlib.image as mpimg\n",
        "!wget https://raw.githubusercontent.com/Zahid8/datasets_for_cnn/master/1.jpg\n",
        "bird_img = mpimg.imread(bird.jpg)\n",
        "plt.imshow(bird_img)\n",
        "plt.axis(False);"
      ],
      "execution_count": null,
      "outputs": []
    },
    {
      "cell_type": "code",
      "metadata": {
        "id": "6bgLz-I8NBlc"
      },
      "source": [
        "def load_and_prep_image(filename , img_shape=224):\n",
        "\n",
        "  img = tf.io.read_file(filename)\n",
        "  img = tf.image.decode_image(img)\n",
        "  img = tf.image.resize(img , size=[img_shape ,img_shape])\n",
        "  img = img/225\n",
        "  return img"
      ],
      "execution_count": null,
      "outputs": []
    },
    {
      "cell_type": "code",
      "metadata": {
        "id": "p2ZBluV3OA6f"
      },
      "source": [
        "bird_img = load_and_prep_image(\"bird.jpg\")\n",
        "bird_img "
      ],
      "execution_count": null,
      "outputs": []
    },
    {
      "cell_type": "code",
      "metadata": {
        "id": "8BOqdprwOLvx"
      },
      "source": [
        "model.predict(tf.expand_dims(bird_img , axis=0))"
      ],
      "execution_count": null,
      "outputs": []
    },
    {
      "cell_type": "code",
      "metadata": {
        "id": "VgAgIt3kOgJA"
      },
      "source": [
        "import pathlib\n",
        "import numpy as np\n",
        "data_dir = pathlib.Path(\"/content/birds/train\")\n",
        "class_names= np.array(sorted([item.name for item in data_dir.glob(\"*\")]))\n",
        "class_names = class_names[1:]\n",
        "print(class_names)"
      ],
      "execution_count": null,
      "outputs": []
    },
    {
      "cell_type": "code",
      "metadata": {
        "id": "xyJr2a2qOte9"
      },
      "source": [
        "pred_class = class_names[int(tf.round(pred)[0][0])]\n",
        "pred_class"
      ],
      "execution_count": null,
      "outputs": []
    },
    {
      "cell_type": "code",
      "metadata": {
        "id": "stFZ9ZDKUjEZ"
      },
      "source": [
        "pred = moel.(bird)\n",
        "pred"
      ],
      "execution_count": null,
      "outputs": []
    }
  ]
}