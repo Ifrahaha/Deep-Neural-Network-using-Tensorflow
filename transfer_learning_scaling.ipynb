{
  "nbformat": 4,
  "nbformat_minor": 0,
  "metadata": {
    "colab": {
      "name": "transfer_learning_scaling.ipynb",
      "provenance": []
    },
    "kernelspec": {
      "name": "python3",
      "display_name": "Python 3"
    },
    "language_info": {
      "name": "python"
    },
    "accelerator": "GPU"
  },
  "cells": [
    {
      "cell_type": "code",
      "metadata": {
        "colab": {
          "base_uri": "https://localhost:8080/"
        },
        "id": "JkBlU_pumzfV",
        "outputId": "c5cf26cc-218f-4c83-ee9c-a5c424e4fd0f"
      },
      "source": [
        "!wget https://raw.githubusercontent.com/mrdbourke/tensorflow-deep-learning/main/extras/helper_functions.py\n"
      ],
      "execution_count": 16,
      "outputs": [
        {
          "output_type": "stream",
          "text": [
            "--2021-07-16 07:17:52--  https://raw.githubusercontent.com/mrdbourke/tensorflow-deep-learning/main/extras/helper_functions.py\n",
            "Resolving raw.githubusercontent.com (raw.githubusercontent.com)... 185.199.109.133, 185.199.108.133, 185.199.110.133, ...\n",
            "Connecting to raw.githubusercontent.com (raw.githubusercontent.com)|185.199.109.133|:443... connected.\n",
            "HTTP request sent, awaiting response... 200 OK\n",
            "Length: 10246 (10K) [text/plain]\n",
            "Saving to: ‘helper_functions.py.1’\n",
            "\n",
            "helper_functions.py 100%[===================>]  10.01K  --.-KB/s    in 0s      \n",
            "\n",
            "2021-07-16 07:17:53 (83.5 MB/s) - ‘helper_functions.py.1’ saved [10246/10246]\n",
            "\n"
          ],
          "name": "stdout"
        }
      ]
    },
    {
      "cell_type": "code",
      "metadata": {
        "colab": {
          "base_uri": "https://localhost:8080/"
        },
        "id": "_kZ3zmbfnFC5",
        "outputId": "4a5eb6e6-c9a8-42bf-cebc-680e98d7b805"
      },
      "source": [
        "!wget https://storage.googleapis.com/ztm_tf_course/food_vision/101_food_classes_10_percent.zip"
      ],
      "execution_count": 17,
      "outputs": [
        {
          "output_type": "stream",
          "text": [
            "--2021-07-16 07:17:53--  https://storage.googleapis.com/ztm_tf_course/food_vision/101_food_classes_10_percent.zip\n",
            "Resolving storage.googleapis.com (storage.googleapis.com)... 64.233.188.128, 64.233.189.128, 108.177.97.128, ...\n",
            "Connecting to storage.googleapis.com (storage.googleapis.com)|64.233.188.128|:443... connected.\n",
            "HTTP request sent, awaiting response... 200 OK\n",
            "Length: 1625420029 (1.5G) [application/zip]\n",
            "Saving to: ‘101_food_classes_10_percent.zip.1’\n",
            "\n",
            "101_food_classes_10 100%[===================>]   1.51G   124MB/s    in 13s     \n",
            "\n",
            "2021-07-16 07:18:07 (115 MB/s) - ‘101_food_classes_10_percent.zip.1’ saved [1625420029/1625420029]\n",
            "\n"
          ],
          "name": "stdout"
        }
      ]
    },
    {
      "cell_type": "code",
      "metadata": {
        "id": "1esD93O6nPCW"
      },
      "source": [
        "from helper_functions import create_tensorboard_callback , plot_loss_curves , unzip_data , compare_historys , walk_through_dir"
      ],
      "execution_count": 18,
      "outputs": []
    },
    {
      "cell_type": "code",
      "metadata": {
        "id": "k_aVr14RnvMh"
      },
      "source": [
        "unzip_data(\"101_food_classes_10_percent.zip\")\n",
        "train_dir = \"101_food_classes_10_percent/train/\"\n",
        "test_dir = \"101_food_classes_10_percent/test/\""
      ],
      "execution_count": 19,
      "outputs": []
    },
    {
      "cell_type": "code",
      "metadata": {
        "colab": {
          "base_uri": "https://localhost:8080/"
        },
        "id": "vsX9WT3aoMGZ",
        "outputId": "81aa4a26-8a1d-4cd8-9dea-871e50c18d21"
      },
      "source": [
        "walk_through_dir(\"101_food_classes_10_percent\")"
      ],
      "execution_count": 20,
      "outputs": [
        {
          "output_type": "stream",
          "text": [
            "There are 2 directories and 0 images in '101_food_classes_10_percent'.\n",
            "There are 101 directories and 0 images in '101_food_classes_10_percent/test'.\n",
            "There are 0 directories and 250 images in '101_food_classes_10_percent/test/bibimbap'.\n",
            "There are 0 directories and 250 images in '101_food_classes_10_percent/test/steak'.\n",
            "There are 0 directories and 250 images in '101_food_classes_10_percent/test/breakfast_burrito'.\n",
            "There are 0 directories and 250 images in '101_food_classes_10_percent/test/chicken_wings'.\n",
            "There are 0 directories and 250 images in '101_food_classes_10_percent/test/filet_mignon'.\n",
            "There are 0 directories and 250 images in '101_food_classes_10_percent/test/sashimi'.\n",
            "There are 0 directories and 250 images in '101_food_classes_10_percent/test/garlic_bread'.\n",
            "There are 0 directories and 250 images in '101_food_classes_10_percent/test/escargots'.\n",
            "There are 0 directories and 250 images in '101_food_classes_10_percent/test/bruschetta'.\n",
            "There are 0 directories and 250 images in '101_food_classes_10_percent/test/peking_duck'.\n",
            "There are 0 directories and 250 images in '101_food_classes_10_percent/test/miso_soup'.\n",
            "There are 0 directories and 250 images in '101_food_classes_10_percent/test/frozen_yogurt'.\n",
            "There are 0 directories and 250 images in '101_food_classes_10_percent/test/carrot_cake'.\n",
            "There are 0 directories and 250 images in '101_food_classes_10_percent/test/hot_and_sour_soup'.\n",
            "There are 0 directories and 250 images in '101_food_classes_10_percent/test/lasagna'.\n",
            "There are 0 directories and 250 images in '101_food_classes_10_percent/test/french_onion_soup'.\n",
            "There are 0 directories and 250 images in '101_food_classes_10_percent/test/pulled_pork_sandwich'.\n",
            "There are 0 directories and 250 images in '101_food_classes_10_percent/test/red_velvet_cake'.\n",
            "There are 0 directories and 250 images in '101_food_classes_10_percent/test/clam_chowder'.\n",
            "There are 0 directories and 250 images in '101_food_classes_10_percent/test/grilled_salmon'.\n",
            "There are 0 directories and 250 images in '101_food_classes_10_percent/test/omelette'.\n",
            "There are 0 directories and 250 images in '101_food_classes_10_percent/test/french_fries'.\n",
            "There are 0 directories and 250 images in '101_food_classes_10_percent/test/grilled_cheese_sandwich'.\n",
            "There are 0 directories and 250 images in '101_food_classes_10_percent/test/churros'.\n",
            "There are 0 directories and 250 images in '101_food_classes_10_percent/test/gnocchi'.\n",
            "There are 0 directories and 250 images in '101_food_classes_10_percent/test/spring_rolls'.\n",
            "There are 0 directories and 250 images in '101_food_classes_10_percent/test/ceviche'.\n",
            "There are 0 directories and 250 images in '101_food_classes_10_percent/test/pad_thai'.\n",
            "There are 0 directories and 250 images in '101_food_classes_10_percent/test/edamame'.\n",
            "There are 0 directories and 250 images in '101_food_classes_10_percent/test/beet_salad'.\n",
            "There are 0 directories and 250 images in '101_food_classes_10_percent/test/eggs_benedict'.\n",
            "There are 0 directories and 250 images in '101_food_classes_10_percent/test/bread_pudding'.\n",
            "There are 0 directories and 250 images in '101_food_classes_10_percent/test/onion_rings'.\n",
            "There are 0 directories and 250 images in '101_food_classes_10_percent/test/caprese_salad'.\n",
            "There are 0 directories and 250 images in '101_food_classes_10_percent/test/pork_chop'.\n",
            "There are 0 directories and 250 images in '101_food_classes_10_percent/test/takoyaki'.\n",
            "There are 0 directories and 250 images in '101_food_classes_10_percent/test/strawberry_shortcake'.\n",
            "There are 0 directories and 250 images in '101_food_classes_10_percent/test/ramen'.\n",
            "There are 0 directories and 250 images in '101_food_classes_10_percent/test/beef_tartare'.\n",
            "There are 0 directories and 250 images in '101_food_classes_10_percent/test/shrimp_and_grits'.\n",
            "There are 0 directories and 250 images in '101_food_classes_10_percent/test/caesar_salad'.\n",
            "There are 0 directories and 250 images in '101_food_classes_10_percent/test/baklava'.\n",
            "There are 0 directories and 250 images in '101_food_classes_10_percent/test/spaghetti_bolognese'.\n",
            "There are 0 directories and 250 images in '101_food_classes_10_percent/test/tacos'.\n",
            "There are 0 directories and 250 images in '101_food_classes_10_percent/test/nachos'.\n",
            "There are 0 directories and 250 images in '101_food_classes_10_percent/test/falafel'.\n",
            "There are 0 directories and 250 images in '101_food_classes_10_percent/test/risotto'.\n",
            "There are 0 directories and 250 images in '101_food_classes_10_percent/test/sushi'.\n",
            "There are 0 directories and 250 images in '101_food_classes_10_percent/test/creme_brulee'.\n",
            "There are 0 directories and 250 images in '101_food_classes_10_percent/test/cheese_plate'.\n",
            "There are 0 directories and 250 images in '101_food_classes_10_percent/test/fish_and_chips'.\n",
            "There are 0 directories and 250 images in '101_food_classes_10_percent/test/fried_rice'.\n",
            "There are 0 directories and 250 images in '101_food_classes_10_percent/test/lobster_bisque'.\n",
            "There are 0 directories and 250 images in '101_food_classes_10_percent/test/apple_pie'.\n",
            "There are 0 directories and 250 images in '101_food_classes_10_percent/test/cheesecake'.\n",
            "There are 0 directories and 250 images in '101_food_classes_10_percent/test/paella'.\n",
            "There are 0 directories and 250 images in '101_food_classes_10_percent/test/hummus'.\n",
            "There are 0 directories and 250 images in '101_food_classes_10_percent/test/beignets'.\n",
            "There are 0 directories and 250 images in '101_food_classes_10_percent/test/tuna_tartare'.\n",
            "There are 0 directories and 250 images in '101_food_classes_10_percent/test/mussels'.\n",
            "There are 0 directories and 250 images in '101_food_classes_10_percent/test/panna_cotta'.\n",
            "There are 0 directories and 250 images in '101_food_classes_10_percent/test/ice_cream'.\n",
            "There are 0 directories and 250 images in '101_food_classes_10_percent/test/cannoli'.\n",
            "There are 0 directories and 250 images in '101_food_classes_10_percent/test/hamburger'.\n",
            "There are 0 directories and 250 images in '101_food_classes_10_percent/test/fried_calamari'.\n",
            "There are 0 directories and 250 images in '101_food_classes_10_percent/test/spaghetti_carbonara'.\n",
            "There are 0 directories and 250 images in '101_food_classes_10_percent/test/guacamole'.\n",
            "There are 0 directories and 250 images in '101_food_classes_10_percent/test/hot_dog'.\n",
            "There are 0 directories and 250 images in '101_food_classes_10_percent/test/french_toast'.\n",
            "There are 0 directories and 250 images in '101_food_classes_10_percent/test/pancakes'.\n",
            "There are 0 directories and 250 images in '101_food_classes_10_percent/test/foie_gras'.\n",
            "There are 0 directories and 250 images in '101_food_classes_10_percent/test/pho'.\n",
            "There are 0 directories and 250 images in '101_food_classes_10_percent/test/chocolate_mousse'.\n",
            "There are 0 directories and 250 images in '101_food_classes_10_percent/test/waffles'.\n",
            "There are 0 directories and 250 images in '101_food_classes_10_percent/test/chicken_quesadilla'.\n",
            "There are 0 directories and 250 images in '101_food_classes_10_percent/test/croque_madame'.\n",
            "There are 0 directories and 250 images in '101_food_classes_10_percent/test/chicken_curry'.\n",
            "There are 0 directories and 250 images in '101_food_classes_10_percent/test/lobster_roll_sandwich'.\n",
            "There are 0 directories and 250 images in '101_food_classes_10_percent/test/gyoza'.\n",
            "There are 0 directories and 250 images in '101_food_classes_10_percent/test/prime_rib'.\n",
            "There are 0 directories and 250 images in '101_food_classes_10_percent/test/samosa'.\n",
            "There are 0 directories and 250 images in '101_food_classes_10_percent/test/greek_salad'.\n",
            "There are 0 directories and 250 images in '101_food_classes_10_percent/test/donuts'.\n",
            "There are 0 directories and 250 images in '101_food_classes_10_percent/test/seaweed_salad'.\n",
            "There are 0 directories and 250 images in '101_food_classes_10_percent/test/beef_carpaccio'.\n",
            "There are 0 directories and 250 images in '101_food_classes_10_percent/test/ravioli'.\n",
            "There are 0 directories and 250 images in '101_food_classes_10_percent/test/cup_cakes'.\n",
            "There are 0 directories and 250 images in '101_food_classes_10_percent/test/poutine'.\n",
            "There are 0 directories and 250 images in '101_food_classes_10_percent/test/crab_cakes'.\n",
            "There are 0 directories and 250 images in '101_food_classes_10_percent/test/tiramisu'.\n",
            "There are 0 directories and 250 images in '101_food_classes_10_percent/test/club_sandwich'.\n",
            "There are 0 directories and 250 images in '101_food_classes_10_percent/test/oysters'.\n",
            "There are 0 directories and 250 images in '101_food_classes_10_percent/test/macarons'.\n",
            "There are 0 directories and 250 images in '101_food_classes_10_percent/test/chocolate_cake'.\n",
            "There are 0 directories and 250 images in '101_food_classes_10_percent/test/macaroni_and_cheese'.\n",
            "There are 0 directories and 250 images in '101_food_classes_10_percent/test/pizza'.\n",
            "There are 0 directories and 250 images in '101_food_classes_10_percent/test/scallops'.\n",
            "There are 0 directories and 250 images in '101_food_classes_10_percent/test/dumplings'.\n",
            "There are 0 directories and 250 images in '101_food_classes_10_percent/test/deviled_eggs'.\n",
            "There are 0 directories and 250 images in '101_food_classes_10_percent/test/huevos_rancheros'.\n",
            "There are 0 directories and 250 images in '101_food_classes_10_percent/test/baby_back_ribs'.\n",
            "There are 101 directories and 0 images in '101_food_classes_10_percent/train'.\n",
            "There are 0 directories and 75 images in '101_food_classes_10_percent/train/bibimbap'.\n",
            "There are 0 directories and 75 images in '101_food_classes_10_percent/train/steak'.\n",
            "There are 0 directories and 75 images in '101_food_classes_10_percent/train/breakfast_burrito'.\n",
            "There are 0 directories and 75 images in '101_food_classes_10_percent/train/chicken_wings'.\n",
            "There are 0 directories and 75 images in '101_food_classes_10_percent/train/filet_mignon'.\n",
            "There are 0 directories and 75 images in '101_food_classes_10_percent/train/sashimi'.\n",
            "There are 0 directories and 75 images in '101_food_classes_10_percent/train/garlic_bread'.\n",
            "There are 0 directories and 75 images in '101_food_classes_10_percent/train/escargots'.\n",
            "There are 0 directories and 75 images in '101_food_classes_10_percent/train/bruschetta'.\n",
            "There are 0 directories and 75 images in '101_food_classes_10_percent/train/peking_duck'.\n",
            "There are 0 directories and 75 images in '101_food_classes_10_percent/train/miso_soup'.\n",
            "There are 0 directories and 75 images in '101_food_classes_10_percent/train/frozen_yogurt'.\n",
            "There are 0 directories and 75 images in '101_food_classes_10_percent/train/carrot_cake'.\n",
            "There are 0 directories and 75 images in '101_food_classes_10_percent/train/hot_and_sour_soup'.\n",
            "There are 0 directories and 75 images in '101_food_classes_10_percent/train/lasagna'.\n",
            "There are 0 directories and 75 images in '101_food_classes_10_percent/train/french_onion_soup'.\n",
            "There are 0 directories and 75 images in '101_food_classes_10_percent/train/pulled_pork_sandwich'.\n",
            "There are 0 directories and 75 images in '101_food_classes_10_percent/train/red_velvet_cake'.\n",
            "There are 0 directories and 75 images in '101_food_classes_10_percent/train/clam_chowder'.\n",
            "There are 0 directories and 75 images in '101_food_classes_10_percent/train/grilled_salmon'.\n",
            "There are 0 directories and 75 images in '101_food_classes_10_percent/train/omelette'.\n",
            "There are 0 directories and 75 images in '101_food_classes_10_percent/train/french_fries'.\n",
            "There are 0 directories and 75 images in '101_food_classes_10_percent/train/grilled_cheese_sandwich'.\n",
            "There are 0 directories and 75 images in '101_food_classes_10_percent/train/churros'.\n",
            "There are 0 directories and 75 images in '101_food_classes_10_percent/train/gnocchi'.\n",
            "There are 0 directories and 75 images in '101_food_classes_10_percent/train/spring_rolls'.\n",
            "There are 0 directories and 75 images in '101_food_classes_10_percent/train/ceviche'.\n",
            "There are 0 directories and 75 images in '101_food_classes_10_percent/train/pad_thai'.\n",
            "There are 0 directories and 75 images in '101_food_classes_10_percent/train/edamame'.\n",
            "There are 0 directories and 75 images in '101_food_classes_10_percent/train/beet_salad'.\n",
            "There are 0 directories and 75 images in '101_food_classes_10_percent/train/eggs_benedict'.\n",
            "There are 0 directories and 75 images in '101_food_classes_10_percent/train/bread_pudding'.\n",
            "There are 0 directories and 75 images in '101_food_classes_10_percent/train/onion_rings'.\n",
            "There are 0 directories and 75 images in '101_food_classes_10_percent/train/caprese_salad'.\n",
            "There are 0 directories and 75 images in '101_food_classes_10_percent/train/pork_chop'.\n",
            "There are 0 directories and 75 images in '101_food_classes_10_percent/train/takoyaki'.\n",
            "There are 0 directories and 75 images in '101_food_classes_10_percent/train/strawberry_shortcake'.\n",
            "There are 0 directories and 75 images in '101_food_classes_10_percent/train/ramen'.\n",
            "There are 0 directories and 75 images in '101_food_classes_10_percent/train/beef_tartare'.\n",
            "There are 0 directories and 75 images in '101_food_classes_10_percent/train/shrimp_and_grits'.\n",
            "There are 0 directories and 75 images in '101_food_classes_10_percent/train/caesar_salad'.\n",
            "There are 0 directories and 75 images in '101_food_classes_10_percent/train/baklava'.\n",
            "There are 0 directories and 75 images in '101_food_classes_10_percent/train/spaghetti_bolognese'.\n",
            "There are 0 directories and 75 images in '101_food_classes_10_percent/train/tacos'.\n",
            "There are 0 directories and 75 images in '101_food_classes_10_percent/train/nachos'.\n",
            "There are 0 directories and 75 images in '101_food_classes_10_percent/train/falafel'.\n",
            "There are 0 directories and 75 images in '101_food_classes_10_percent/train/risotto'.\n",
            "There are 0 directories and 75 images in '101_food_classes_10_percent/train/sushi'.\n",
            "There are 0 directories and 75 images in '101_food_classes_10_percent/train/creme_brulee'.\n",
            "There are 0 directories and 75 images in '101_food_classes_10_percent/train/cheese_plate'.\n",
            "There are 0 directories and 75 images in '101_food_classes_10_percent/train/fish_and_chips'.\n",
            "There are 0 directories and 75 images in '101_food_classes_10_percent/train/fried_rice'.\n",
            "There are 0 directories and 75 images in '101_food_classes_10_percent/train/lobster_bisque'.\n",
            "There are 0 directories and 75 images in '101_food_classes_10_percent/train/apple_pie'.\n",
            "There are 0 directories and 75 images in '101_food_classes_10_percent/train/cheesecake'.\n",
            "There are 0 directories and 75 images in '101_food_classes_10_percent/train/paella'.\n",
            "There are 0 directories and 75 images in '101_food_classes_10_percent/train/hummus'.\n",
            "There are 0 directories and 75 images in '101_food_classes_10_percent/train/beignets'.\n",
            "There are 0 directories and 75 images in '101_food_classes_10_percent/train/tuna_tartare'.\n",
            "There are 0 directories and 75 images in '101_food_classes_10_percent/train/mussels'.\n",
            "There are 0 directories and 75 images in '101_food_classes_10_percent/train/panna_cotta'.\n",
            "There are 0 directories and 75 images in '101_food_classes_10_percent/train/ice_cream'.\n",
            "There are 0 directories and 75 images in '101_food_classes_10_percent/train/cannoli'.\n",
            "There are 0 directories and 75 images in '101_food_classes_10_percent/train/hamburger'.\n",
            "There are 0 directories and 75 images in '101_food_classes_10_percent/train/fried_calamari'.\n",
            "There are 0 directories and 75 images in '101_food_classes_10_percent/train/spaghetti_carbonara'.\n",
            "There are 0 directories and 75 images in '101_food_classes_10_percent/train/guacamole'.\n",
            "There are 0 directories and 75 images in '101_food_classes_10_percent/train/hot_dog'.\n",
            "There are 0 directories and 75 images in '101_food_classes_10_percent/train/french_toast'.\n",
            "There are 0 directories and 75 images in '101_food_classes_10_percent/train/pancakes'.\n",
            "There are 0 directories and 75 images in '101_food_classes_10_percent/train/foie_gras'.\n",
            "There are 0 directories and 75 images in '101_food_classes_10_percent/train/pho'.\n",
            "There are 0 directories and 75 images in '101_food_classes_10_percent/train/chocolate_mousse'.\n",
            "There are 0 directories and 75 images in '101_food_classes_10_percent/train/waffles'.\n",
            "There are 0 directories and 75 images in '101_food_classes_10_percent/train/chicken_quesadilla'.\n",
            "There are 0 directories and 75 images in '101_food_classes_10_percent/train/croque_madame'.\n",
            "There are 0 directories and 75 images in '101_food_classes_10_percent/train/chicken_curry'.\n",
            "There are 0 directories and 75 images in '101_food_classes_10_percent/train/lobster_roll_sandwich'.\n",
            "There are 0 directories and 75 images in '101_food_classes_10_percent/train/gyoza'.\n",
            "There are 0 directories and 75 images in '101_food_classes_10_percent/train/prime_rib'.\n",
            "There are 0 directories and 75 images in '101_food_classes_10_percent/train/samosa'.\n",
            "There are 0 directories and 75 images in '101_food_classes_10_percent/train/greek_salad'.\n",
            "There are 0 directories and 75 images in '101_food_classes_10_percent/train/donuts'.\n",
            "There are 0 directories and 75 images in '101_food_classes_10_percent/train/seaweed_salad'.\n",
            "There are 0 directories and 75 images in '101_food_classes_10_percent/train/beef_carpaccio'.\n",
            "There are 0 directories and 75 images in '101_food_classes_10_percent/train/ravioli'.\n",
            "There are 0 directories and 75 images in '101_food_classes_10_percent/train/cup_cakes'.\n",
            "There are 0 directories and 75 images in '101_food_classes_10_percent/train/poutine'.\n",
            "There are 0 directories and 75 images in '101_food_classes_10_percent/train/crab_cakes'.\n",
            "There are 0 directories and 75 images in '101_food_classes_10_percent/train/tiramisu'.\n",
            "There are 0 directories and 75 images in '101_food_classes_10_percent/train/club_sandwich'.\n",
            "There are 0 directories and 75 images in '101_food_classes_10_percent/train/oysters'.\n",
            "There are 0 directories and 75 images in '101_food_classes_10_percent/train/macarons'.\n",
            "There are 0 directories and 75 images in '101_food_classes_10_percent/train/chocolate_cake'.\n",
            "There are 0 directories and 75 images in '101_food_classes_10_percent/train/macaroni_and_cheese'.\n",
            "There are 0 directories and 75 images in '101_food_classes_10_percent/train/pizza'.\n",
            "There are 0 directories and 75 images in '101_food_classes_10_percent/train/scallops'.\n",
            "There are 0 directories and 75 images in '101_food_classes_10_percent/train/dumplings'.\n",
            "There are 0 directories and 75 images in '101_food_classes_10_percent/train/deviled_eggs'.\n",
            "There are 0 directories and 75 images in '101_food_classes_10_percent/train/huevos_rancheros'.\n",
            "There are 0 directories and 75 images in '101_food_classes_10_percent/train/baby_back_ribs'.\n"
          ],
          "name": "stdout"
        }
      ]
    },
    {
      "cell_type": "code",
      "metadata": {
        "id": "RZuiGXWhqAhf"
      },
      "source": [
        ""
      ],
      "execution_count": 20,
      "outputs": []
    },
    {
      "cell_type": "code",
      "metadata": {
        "colab": {
          "base_uri": "https://localhost:8080/"
        },
        "id": "HsZ1UaCAoCbn",
        "outputId": "712a447e-0071-4aac-c51d-abe02548712a"
      },
      "source": [
        "import tensorflow as tf\n",
        "IMG_SIZE = (224, 224)\n",
        "train_data_all_10_percent = tf.keras.preprocessing.image_dataset_from_directory(train_dir , \n",
        "                                                                                label_mode = \"categorical\" , \n",
        "                                                                                image_size = IMG_SIZE)\n",
        "\n",
        "test_data = tf.keras.preprocessing.image_dataset_from_directory(test_dir , \n",
        "                                                                label_mode =\"categorical\" , \n",
        "                                                                image_size = IMG_SIZE , \n",
        "                                                                shuffle = False)"
      ],
      "execution_count": 21,
      "outputs": [
        {
          "output_type": "stream",
          "text": [
            "Found 7575 files belonging to 101 classes.\n",
            "Found 25250 files belonging to 101 classes.\n"
          ],
          "name": "stdout"
        }
      ]
    },
    {
      "cell_type": "code",
      "metadata": {
        "id": "LzRrB4hbqBxU"
      },
      "source": [
        "checkpoint_path = \"101_food_classes_10_percent_data_model_checkpoint\"\n",
        "checkpoint_callback = tf.keras.callbacks.ModelCheckpoint(checkpoint_path , \n",
        "                                                         save_weights_only = True , \n",
        "                                                         monitor = \"val_accuracy\" ,\n",
        "                                                         save_best_only = True)"
      ],
      "execution_count": 22,
      "outputs": []
    },
    {
      "cell_type": "code",
      "metadata": {
        "id": "9Fuw0SZoqdo-"
      },
      "source": [
        "from tensorflow.keras import layers\n",
        "from tensorflow.keras.layers.experimental import preprocessing\n",
        "from tensorflow.keras.models import Sequential"
      ],
      "execution_count": 23,
      "outputs": []
    },
    {
      "cell_type": "code",
      "metadata": {
        "id": "TYGb3yKYrlx6"
      },
      "source": [
        "data_augmentaion = Sequential([\n",
        "                               preprocessing.RandomFlip(\"horizontal\") ,\n",
        "                               preprocessing.RandomRotation(0.2) , \n",
        "                               preprocessing.RandomHeight(0.2) , \n",
        "                               preprocessing.RandomWidth(0.2) ,\n",
        "                               preprocessing.RandomZoom(0.2)\n",
        "] , name =\"data_augmentation\")"
      ],
      "execution_count": 24,
      "outputs": []
    },
    {
      "cell_type": "code",
      "metadata": {
        "colab": {
          "base_uri": "https://localhost:8080/"
        },
        "id": "WMPnkFkMuz6Z",
        "outputId": "569d9e40-65d2-4b3a-a63d-6ef3908f6fd7"
      },
      "source": [
        "base_model = tf.keras.applications.EfficientNetB1(include_top=False)\n",
        "base_model.trainable = False"
      ],
      "execution_count": 25,
      "outputs": [
        {
          "output_type": "stream",
          "text": [
            "Downloading data from https://storage.googleapis.com/keras-applications/efficientnetb1_notop.h5\n",
            "27025408/27018416 [==============================] - 1s 0us/step\n"
          ],
          "name": "stdout"
        }
      ]
    },
    {
      "cell_type": "code",
      "metadata": {
        "id": "2RBLsTjMsSjS"
      },
      "source": [
        "inputs = layers.Input(shape=(224 , 224 , 3), name=\"input_layers\")\n",
        "x= data_augmentaion(inputs)\n",
        "x= base_model(x , training=False)\n",
        "x = layers.GlobalAveragePooling2D(name = \"global_layer\")(x)\n",
        "outputs = layers.Dense(len(train_data_all_10_percent.class_names) , activation=\"softmax\" , name = \"output_layer\")(x)\n",
        "model = tf.keras.Model(inputs , outputs)"
      ],
      "execution_count": 26,
      "outputs": []
    },
    {
      "cell_type": "code",
      "metadata": {
        "id": "vHW1Qt9Quu4C"
      },
      "source": [
        "model.compile(loss=\"categorical_crossentropy\" , \n",
        "              optimizer = tf.keras.optimizers.Adam() , \n",
        "              metrics=[\"accuracy\"])"
      ],
      "execution_count": 27,
      "outputs": []
    },
    {
      "cell_type": "code",
      "metadata": {
        "colab": {
          "base_uri": "https://localhost:8080/"
        },
        "id": "7f24SZervme4",
        "outputId": "75047657-360c-4d6c-ea78-a76275688a3e"
      },
      "source": [
        "history_all_classes_10_percent = model.fit(train_data_all_10_percent , \n",
        "          epochs = 5 , \n",
        "          validation_data = test_data , \n",
        "          validation_steps=int(0.15* len(test_data)) , \n",
        "          callbacks =[checkpoint_callback] )"
      ],
      "execution_count": 28,
      "outputs": [
        {
          "output_type": "stream",
          "text": [
            "Epoch 1/5\n",
            "237/237 [==============================] - 195s 661ms/step - loss: 3.5224 - accuracy: 0.2366 - val_loss: 2.7222 - val_accuracy: 0.3729\n",
            "Epoch 2/5\n",
            "237/237 [==============================] - 132s 556ms/step - loss: 2.3889 - accuracy: 0.4512 - val_loss: 2.2904 - val_accuracy: 0.4386\n",
            "Epoch 3/5\n",
            "237/237 [==============================] - 121s 511ms/step - loss: 2.0118 - accuracy: 0.5183 - val_loss: 2.1066 - val_accuracy: 0.4743\n",
            "Epoch 4/5\n",
            "237/237 [==============================] - 114s 479ms/step - loss: 1.8052 - accuracy: 0.5551 - val_loss: 2.0174 - val_accuracy: 0.4987\n",
            "Epoch 5/5\n",
            "237/237 [==============================] - 109s 458ms/step - loss: 1.6453 - accuracy: 0.5967 - val_loss: 1.9400 - val_accuracy: 0.5130\n"
          ],
          "name": "stdout"
        }
      ]
    },
    {
      "cell_type": "code",
      "metadata": {
        "colab": {
          "base_uri": "https://localhost:8080/",
          "height": 573
        },
        "id": "vjDfgaTFwAnT",
        "outputId": "ca536538-4a70-405b-e9ff-b682929c5c77"
      },
      "source": [
        "plot_loss_curves(history_all_classes_10_percent)"
      ],
      "execution_count": 29,
      "outputs": [
        {
          "output_type": "display_data",
          "data": {
            "image/png": "[encoded data removed]",
            "text/plain": [
              "<Figure size 432x288 with 1 Axes>"
            ]
          },
          "metadata": {
            "tags": [],
            "needs_background": "light"
          }
        },
        {
          "output_type": "display_data",
          "data": {
            "image/png": "[encoded data removed]",
            "text/plain": [
              "<Figure size 432x288 with 1 Axes>"
            ]
          },
          "metadata": {
            "tags": [],
            "needs_background": "light"
          }
        }
      ]
    },
    {
      "cell_type": "markdown",
      "metadata": {
        "id": "qd_OLaU10M5j"
      },
      "source": [
        "FINE TUNING\n"
      ]
    },
    {
      "cell_type": "code",
      "metadata": {
        "id": "LPJPqbxhx6cb"
      },
      "source": [
        "base_model.trainable = True \n",
        "\n",
        "for layer in base_model.layers[:-5]:\n",
        "  layer.trainable = False"
      ],
      "execution_count": null,
      "outputs": []
    },
    {
      "cell_type": "code",
      "metadata": {
        "id": "SKba7qNA0bbO"
      },
      "source": [
        "model.compile(loss=\"categorical_crossentropy\" , \n",
        "              optimizer = tf.keras.optimizers.Adam(learning_rate = 0.0001) , \n",
        "              metrics=[\"accuracy\"])"
      ],
      "execution_count": null,
      "outputs": []
    },
    {
      "cell_type": "code",
      "metadata": {
        "id": "c3m_uXt50iEI"
      },
      "source": [
        "for layer in  model.layers:\n",
        "  print(layer.name , layer.trainable)"
      ],
      "execution_count": null,
      "outputs": []
    },
    {
      "cell_type": "code",
      "metadata": {
        "colab": {
          "base_uri": "https://localhost:8080/"
        },
        "id": "HqN18d0r0ut-",
        "outputId": "f094be99-a857-4432-a96f-c1ed448a2bf6"
      },
      "source": [
        "for layer_number, layer in enumerate(model.layers[2].layers):\n",
        "  print(layer_number, layer.name , layer.trainable)"
      ],
      "execution_count": 33,
      "outputs": [
        {
          "output_type": "stream",
          "text": [
            "0 input_1 False\n",
            "1 rescaling False\n",
            "2 normalization False\n",
            "3 stem_conv_pad False\n",
            "4 stem_conv False\n",
            "5 stem_bn False\n",
            "6 stem_activation False\n",
            "7 block1a_dwconv False\n",
            "8 block1a_bn False\n",
            "9 block1a_activation False\n",
            "10 block1a_se_squeeze False\n",
            "11 block1a_se_reshape False\n",
            "12 block1a_se_reduce False\n",
            "13 block1a_se_expand False\n",
            "14 block1a_se_excite False\n",
            "15 block1a_project_conv False\n",
            "16 block1a_project_bn False\n",
            "17 block1b_dwconv False\n",
            "18 block1b_bn False\n",
            "19 block1b_activation False\n",
            "20 block1b_se_squeeze False\n",
            "21 block1b_se_reshape False\n",
            "22 block1b_se_reduce False\n",
            "23 block1b_se_expand False\n",
            "24 block1b_se_excite False\n",
            "25 block1b_project_conv False\n",
            "26 block1b_project_bn False\n",
            "27 block1b_drop False\n",
            "28 block1b_add False\n",
            "29 block2a_expand_conv False\n",
            "30 block2a_expand_bn False\n",
            "31 block2a_expand_activation False\n",
            "32 block2a_dwconv_pad False\n",
            "33 block2a_dwconv False\n",
            "34 block2a_bn False\n",
            "35 block2a_activation False\n",
            "36 block2a_se_squeeze False\n",
            "37 block2a_se_reshape False\n",
            "38 block2a_se_reduce False\n",
            "39 block2a_se_expand False\n",
            "40 block2a_se_excite False\n",
            "41 block2a_project_conv False\n",
            "42 block2a_project_bn False\n",
            "43 block2b_expand_conv False\n",
            "44 block2b_expand_bn False\n",
            "45 block2b_expand_activation False\n",
            "46 block2b_dwconv False\n",
            "47 block2b_bn False\n",
            "48 block2b_activation False\n",
            "49 block2b_se_squeeze False\n",
            "50 block2b_se_reshape False\n",
            "51 block2b_se_reduce False\n",
            "52 block2b_se_expand False\n",
            "53 block2b_se_excite False\n",
            "54 block2b_project_conv False\n",
            "55 block2b_project_bn False\n",
            "56 block2b_drop False\n",
            "57 block2b_add False\n",
            "58 block2c_expand_conv False\n",
            "59 block2c_expand_bn False\n",
            "60 block2c_expand_activation False\n",
            "61 block2c_dwconv False\n",
            "62 block2c_bn False\n",
            "63 block2c_activation False\n",
            "64 block2c_se_squeeze False\n",
            "65 block2c_se_reshape False\n",
            "66 block2c_se_reduce False\n",
            "67 block2c_se_expand False\n",
            "68 block2c_se_excite False\n",
            "69 block2c_project_conv False\n",
            "70 block2c_project_bn False\n",
            "71 block2c_drop False\n",
            "72 block2c_add False\n",
            "73 block3a_expand_conv False\n",
            "74 block3a_expand_bn False\n",
            "75 block3a_expand_activation False\n",
            "76 block3a_dwconv_pad False\n",
            "77 block3a_dwconv False\n",
            "78 block3a_bn False\n",
            "79 block3a_activation False\n",
            "80 block3a_se_squeeze False\n",
            "81 block3a_se_reshape False\n",
            "82 block3a_se_reduce False\n",
            "83 block3a_se_expand False\n",
            "84 block3a_se_excite False\n",
            "85 block3a_project_conv False\n",
            "86 block3a_project_bn False\n",
            "87 block3b_expand_conv False\n",
            "88 block3b_expand_bn False\n",
            "89 block3b_expand_activation False\n",
            "90 block3b_dwconv False\n",
            "91 block3b_bn False\n",
            "92 block3b_activation False\n",
            "93 block3b_se_squeeze False\n",
            "94 block3b_se_reshape False\n",
            "95 block3b_se_reduce False\n",
            "96 block3b_se_expand False\n",
            "97 block3b_se_excite False\n",
            "98 block3b_project_conv False\n",
            "99 block3b_project_bn False\n",
            "100 block3b_drop False\n",
            "101 block3b_add False\n",
            "102 block3c_expand_conv False\n",
            "103 block3c_expand_bn False\n",
            "104 block3c_expand_activation False\n",
            "105 block3c_dwconv False\n",
            "106 block3c_bn False\n",
            "107 block3c_activation False\n",
            "108 block3c_se_squeeze False\n",
            "109 block3c_se_reshape False\n",
            "110 block3c_se_reduce False\n",
            "111 block3c_se_expand False\n",
            "112 block3c_se_excite False\n",
            "113 block3c_project_conv False\n",
            "114 block3c_project_bn False\n",
            "115 block3c_drop False\n",
            "116 block3c_add False\n",
            "117 block4a_expand_conv False\n",
            "118 block4a_expand_bn False\n",
            "119 block4a_expand_activation False\n",
            "120 block4a_dwconv_pad False\n",
            "121 block4a_dwconv False\n",
            "122 block4a_bn False\n",
            "123 block4a_activation False\n",
            "124 block4a_se_squeeze False\n",
            "125 block4a_se_reshape False\n",
            "126 block4a_se_reduce False\n",
            "127 block4a_se_expand False\n",
            "128 block4a_se_excite False\n",
            "129 block4a_project_conv False\n",
            "130 block4a_project_bn False\n",
            "131 block4b_expand_conv False\n",
            "132 block4b_expand_bn False\n",
            "133 block4b_expand_activation False\n",
            "134 block4b_dwconv False\n",
            "135 block4b_bn False\n",
            "136 block4b_activation False\n",
            "137 block4b_se_squeeze False\n",
            "138 block4b_se_reshape False\n",
            "139 block4b_se_reduce False\n",
            "140 block4b_se_expand False\n",
            "141 block4b_se_excite False\n",
            "142 block4b_project_conv False\n",
            "143 block4b_project_bn False\n",
            "144 block4b_drop False\n",
            "145 block4b_add False\n",
            "146 block4c_expand_conv False\n",
            "147 block4c_expand_bn False\n",
            "148 block4c_expand_activation False\n",
            "149 block4c_dwconv False\n",
            "150 block4c_bn False\n",
            "151 block4c_activation False\n",
            "152 block4c_se_squeeze False\n",
            "153 block4c_se_reshape False\n",
            "154 block4c_se_reduce False\n",
            "155 block4c_se_expand False\n",
            "156 block4c_se_excite False\n",
            "157 block4c_project_conv False\n",
            "158 block4c_project_bn False\n",
            "159 block4c_drop False\n",
            "160 block4c_add False\n",
            "161 block4d_expand_conv False\n",
            "162 block4d_expand_bn False\n",
            "163 block4d_expand_activation False\n",
            "164 block4d_dwconv False\n",
            "165 block4d_bn False\n",
            "166 block4d_activation False\n",
            "167 block4d_se_squeeze False\n",
            "168 block4d_se_reshape False\n",
            "169 block4d_se_reduce False\n",
            "170 block4d_se_expand False\n",
            "171 block4d_se_excite False\n",
            "172 block4d_project_conv False\n",
            "173 block4d_project_bn False\n",
            "174 block4d_drop False\n",
            "175 block4d_add False\n",
            "176 block5a_expand_conv False\n",
            "177 block5a_expand_bn False\n",
            "178 block5a_expand_activation False\n",
            "179 block5a_dwconv False\n",
            "180 block5a_bn False\n",
            "181 block5a_activation False\n",
            "182 block5a_se_squeeze False\n",
            "183 block5a_se_reshape False\n",
            "184 block5a_se_reduce False\n",
            "185 block5a_se_expand False\n",
            "186 block5a_se_excite False\n",
            "187 block5a_project_conv False\n",
            "188 block5a_project_bn False\n",
            "189 block5b_expand_conv False\n",
            "190 block5b_expand_bn False\n",
            "191 block5b_expand_activation False\n",
            "192 block5b_dwconv False\n",
            "193 block5b_bn False\n",
            "194 block5b_activation False\n",
            "195 block5b_se_squeeze False\n",
            "196 block5b_se_reshape False\n",
            "197 block5b_se_reduce False\n",
            "198 block5b_se_expand False\n",
            "199 block5b_se_excite False\n",
            "200 block5b_project_conv False\n",
            "201 block5b_project_bn False\n",
            "202 block5b_drop False\n",
            "203 block5b_add False\n",
            "204 block5c_expand_conv False\n",
            "205 block5c_expand_bn False\n",
            "206 block5c_expand_activation False\n",
            "207 block5c_dwconv False\n",
            "208 block5c_bn False\n",
            "209 block5c_activation False\n",
            "210 block5c_se_squeeze False\n",
            "211 block5c_se_reshape False\n",
            "212 block5c_se_reduce False\n",
            "213 block5c_se_expand False\n",
            "214 block5c_se_excite False\n",
            "215 block5c_project_conv False\n",
            "216 block5c_project_bn False\n",
            "217 block5c_drop False\n",
            "218 block5c_add False\n",
            "219 block5d_expand_conv False\n",
            "220 block5d_expand_bn False\n",
            "221 block5d_expand_activation False\n",
            "222 block5d_dwconv False\n",
            "223 block5d_bn False\n",
            "224 block5d_activation False\n",
            "225 block5d_se_squeeze False\n",
            "226 block5d_se_reshape False\n",
            "227 block5d_se_reduce False\n",
            "228 block5d_se_expand False\n",
            "229 block5d_se_excite False\n",
            "230 block5d_project_conv False\n",
            "231 block5d_project_bn False\n",
            "232 block5d_drop False\n",
            "233 block5d_add False\n",
            "234 block6a_expand_conv False\n",
            "235 block6a_expand_bn False\n",
            "236 block6a_expand_activation False\n",
            "237 block6a_dwconv_pad False\n",
            "238 block6a_dwconv False\n",
            "239 block6a_bn False\n",
            "240 block6a_activation False\n",
            "241 block6a_se_squeeze False\n",
            "242 block6a_se_reshape False\n",
            "243 block6a_se_reduce False\n",
            "244 block6a_se_expand False\n",
            "245 block6a_se_excite False\n",
            "246 block6a_project_conv False\n",
            "247 block6a_project_bn False\n",
            "248 block6b_expand_conv False\n",
            "249 block6b_expand_bn False\n",
            "250 block6b_expand_activation False\n",
            "251 block6b_dwconv False\n",
            "252 block6b_bn False\n",
            "253 block6b_activation False\n",
            "254 block6b_se_squeeze False\n",
            "255 block6b_se_reshape False\n",
            "256 block6b_se_reduce False\n",
            "257 block6b_se_expand False\n",
            "258 block6b_se_excite False\n",
            "259 block6b_project_conv False\n",
            "260 block6b_project_bn False\n",
            "261 block6b_drop False\n",
            "262 block6b_add False\n",
            "263 block6c_expand_conv False\n",
            "264 block6c_expand_bn False\n",
            "265 block6c_expand_activation False\n",
            "266 block6c_dwconv False\n",
            "267 block6c_bn False\n",
            "268 block6c_activation False\n",
            "269 block6c_se_squeeze False\n",
            "270 block6c_se_reshape False\n",
            "271 block6c_se_reduce False\n",
            "272 block6c_se_expand False\n",
            "273 block6c_se_excite False\n",
            "274 block6c_project_conv False\n",
            "275 block6c_project_bn False\n",
            "276 block6c_drop False\n",
            "277 block6c_add False\n",
            "278 block6d_expand_conv False\n",
            "279 block6d_expand_bn False\n",
            "280 block6d_expand_activation False\n",
            "281 block6d_dwconv False\n",
            "282 block6d_bn False\n",
            "283 block6d_activation False\n",
            "284 block6d_se_squeeze False\n",
            "285 block6d_se_reshape False\n",
            "286 block6d_se_reduce False\n",
            "287 block6d_se_expand False\n",
            "288 block6d_se_excite False\n",
            "289 block6d_project_conv False\n",
            "290 block6d_project_bn False\n",
            "291 block6d_drop False\n",
            "292 block6d_add False\n",
            "293 block6e_expand_conv False\n",
            "294 block6e_expand_bn False\n",
            "295 block6e_expand_activation False\n",
            "296 block6e_dwconv False\n",
            "297 block6e_bn False\n",
            "298 block6e_activation False\n",
            "299 block6e_se_squeeze False\n",
            "300 block6e_se_reshape False\n",
            "301 block6e_se_reduce False\n",
            "302 block6e_se_expand False\n",
            "303 block6e_se_excite False\n",
            "304 block6e_project_conv False\n",
            "305 block6e_project_bn False\n",
            "306 block6e_drop False\n",
            "307 block6e_add False\n",
            "308 block7a_expand_conv False\n",
            "309 block7a_expand_bn False\n",
            "310 block7a_expand_activation False\n",
            "311 block7a_dwconv False\n",
            "312 block7a_bn False\n",
            "313 block7a_activation False\n",
            "314 block7a_se_squeeze False\n",
            "315 block7a_se_reshape False\n",
            "316 block7a_se_reduce False\n",
            "317 block7a_se_expand False\n",
            "318 block7a_se_excite False\n",
            "319 block7a_project_conv False\n",
            "320 block7a_project_bn False\n",
            "321 block7b_expand_conv False\n",
            "322 block7b_expand_bn False\n",
            "323 block7b_expand_activation False\n",
            "324 block7b_dwconv False\n",
            "325 block7b_bn False\n",
            "326 block7b_activation False\n",
            "327 block7b_se_squeeze False\n",
            "328 block7b_se_reshape False\n",
            "329 block7b_se_reduce False\n",
            "330 block7b_se_expand False\n",
            "331 block7b_se_excite False\n",
            "332 block7b_project_conv False\n",
            "333 block7b_project_bn False\n",
            "334 block7b_drop True\n",
            "335 block7b_add True\n",
            "336 top_conv True\n",
            "337 top_bn True\n",
            "338 top_activation True\n"
          ],
          "name": "stdout"
        }
      ]
    },
    {
      "cell_type": "code",
      "metadata": {
        "id": "uCVj7yXo1Dsk",
        "colab": {
          "base_uri": "https://localhost:8080/"
        },
        "outputId": "8a8b4370-eebe-4c33-ad7e-ba3c17e7128c"
      },
      "source": [
        "fine_tune_epochs = 10 \n",
        "history_all_classes_10_percent_fine_tune = model.fit(train_data_all_10_percent , \n",
        "                                                     epochs = fine_tune_epochs , \n",
        "                                                     validation_data = test_data , \n",
        "                                                     validation_steps = int(0.15*len(test_data)) , \n",
        "                                                     initial_epoch = history_all_classes_10_percent.epoch[-1])"
      ],
      "execution_count": 34,
      "outputs": [
        {
          "output_type": "stream",
          "text": [
            "Epoch 5/10\n",
            "237/237 [==============================] - 122s 464ms/step - loss: 1.4197 - accuracy: 0.6500 - val_loss: 1.8581 - val_accuracy: 0.5299\n",
            "Epoch 6/10\n",
            "237/237 [==============================] - 102s 426ms/step - loss: 1.3304 - accuracy: 0.6562 - val_loss: 1.8412 - val_accuracy: 0.5328\n",
            "Epoch 7/10\n",
            "237/237 [==============================] - 104s 436ms/step - loss: 1.2276 - accuracy: 0.6799 - val_loss: 1.8558 - val_accuracy: 0.5265\n",
            "Epoch 8/10\n",
            "237/237 [==============================] - 97s 407ms/step - loss: 1.1843 - accuracy: 0.6943 - val_loss: 1.8420 - val_accuracy: 0.5299\n",
            "Epoch 9/10\n",
            "237/237 [==============================] - 98s 410ms/step - loss: 1.1404 - accuracy: 0.7006 - val_loss: 1.8167 - val_accuracy: 0.5347\n",
            "Epoch 10/10\n",
            "237/237 [==============================] - 94s 394ms/step - loss: 1.1025 - accuracy: 0.7057 - val_loss: 1.8075 - val_accuracy: 0.5392\n"
          ],
          "name": "stdout"
        }
      ]
    },
    {
      "cell_type": "code",
      "metadata": {
        "colab": {
          "base_uri": "https://localhost:8080/"
        },
        "id": "gPsr2SpXDbNR",
        "outputId": "6a4c26eb-e1b1-4841-82cd-dc4f4ff3ab9b"
      },
      "source": [
        "feature_extraction_results = model.evaluate(test_data)\n",
        "feature_extraction_results"
      ],
      "execution_count": 35,
      "outputs": [
        {
          "output_type": "stream",
          "text": [
            "790/790 [==============================] - 177s 223ms/step - loss: 1.6009 - accuracy: 0.5796\n"
          ],
          "name": "stdout"
        },
        {
          "output_type": "execute_result",
          "data": {
            "text/plain": [
              "[1.6008683443069458, 0.5795643329620361]"
            ]
          },
          "metadata": {
            "tags": []
          },
          "execution_count": 35
        }
      ]
    },
    {
      "cell_type": "code",
      "metadata": {
        "colab": {
          "base_uri": "https://localhost:8080/",
          "height": 573
        },
        "id": "6wSMWBYaFPm0",
        "outputId": "929c36ec-2ba2-47f6-fc86-240f4e49c07a"
      },
      "source": [
        "plot_loss_curves(history_all_classes_10_percent_fine_tune)"
      ],
      "execution_count": 36,
      "outputs": [
        {
          "output_type": "display_data",
          "data": {
            "image/png": "[encoded data removed]",
            "text/plain": [
              "<Figure size 432x288 with 1 Axes>"
            ]
          },
          "metadata": {
            "tags": [],
            "needs_background": "light"
          }
        },
        {
          "output_type": "display_data",
          "data": {
            "image/png": "[encoded data removed]",
            "text/plain": [
              "<Figure size 432x288 with 1 Axes>"
            ]
          },
          "metadata": {
            "tags": [],
            "needs_background": "light"
          }
        }
      ]
    },
    {
      "cell_type": "code",
      "metadata": {
        "colab": {
          "base_uri": "https://localhost:8080/"
        },
        "id": "Ii8cJ5E2FUt9",
        "outputId": "f2aff4ef-6218-4dcb-c4be-0cb2b7427a6c"
      },
      "source": [
        "all_classes_10_percent_fine_tune_results = model.evaluate(test_data)\n",
        "all_classes_10_percent_fine_tune_results"
      ],
      "execution_count": 37,
      "outputs": [
        {
          "output_type": "stream",
          "text": [
            "790/790 [==============================] - 176s 222ms/step - loss: 1.6009 - accuracy: 0.5796\n"
          ],
          "name": "stdout"
        },
        {
          "output_type": "execute_result",
          "data": {
            "text/plain": [
              "[1.6008683443069458, 0.5795643329620361]"
            ]
          },
          "metadata": {
            "tags": []
          },
          "execution_count": 37
        }
      ]
    },
    {
      "cell_type": "code",
      "metadata": {
        "colab": {
          "base_uri": "https://localhost:8080/",
          "height": 513
        },
        "id": "-CEyzwEvF7g2",
        "outputId": "8179d431-b7ad-46f9-ef0d-4729ce49035e"
      },
      "source": [
        "compare_historys(original_history = history_all_classes_10_percent , \n",
        "                 new_history = history_all_classes_10_percent_fine_tune , \n",
        "                 initial_epochs = 5)"
      ],
      "execution_count": 38,
      "outputs": [
        {
          "output_type": "display_data",
          "data": {
            "image/png": "[encoded data removed]",
            "text/plain": [
              "<Figure size 576x576 with 2 Axes>"
            ]
          },
          "metadata": {
            "tags": [],
            "needs_background": "light"
          }
        }
      ]
    },
    {
      "cell_type": "code",
      "metadata": {
        "id": "z1-tyllJLTwx"
      },
      "source": [
        ""
      ],
      "execution_count": null,
      "outputs": []
    }
  ]
}